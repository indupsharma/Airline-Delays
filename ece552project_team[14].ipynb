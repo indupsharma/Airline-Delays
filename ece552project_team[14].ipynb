{
 "cells": [
  {
   "cell_type": "markdown",
   "metadata": {},
   "source": [
    "# Importing Libraries & Initiating Spark"
   ]
  },
  {
   "cell_type": "code",
   "execution_count": 1,
   "metadata": {},
   "outputs": [],
   "source": [
    "import findspark\n",
    "findspark.init()"
   ]
  },
  {
   "cell_type": "code",
   "execution_count": 2,
   "metadata": {},
   "outputs": [
    {
     "name": "stdout",
     "output_type": "stream",
     "text": [
      "2.4.8\n",
      "2.4.8\n"
     ]
    }
   ],
   "source": [
    "import pyspark\n",
    "from pyspark.context import SparkContext\n",
    "from pyspark.sql import SparkSession \n",
    "sc = SparkContext.getOrCreate()\n",
    "spark = SparkSession.builder.getOrCreate()\n",
    "print(sc.version)\n",
    "print(spark.version)"
   ]
  },
  {
   "cell_type": "code",
   "execution_count": 3,
   "metadata": {},
   "outputs": [
    {
     "data": {
      "text/html": [
       "<style>.container { width:90% !important; }</style>"
      ],
      "text/plain": [
       "<IPython.core.display.HTML object>"
      ]
     },
     "metadata": {},
     "output_type": "display_data"
    }
   ],
   "source": [
    "from IPython.core.display import display, HTML\n",
    "display(HTML(\"<style>.container { width:90% !important; }</style>\"))"
   ]
  },
  {
   "cell_type": "code",
   "execution_count": 4,
   "metadata": {},
   "outputs": [],
   "source": [
    "import random\n",
    "import platform"
   ]
  },
  {
   "cell_type": "code",
   "execution_count": 5,
   "metadata": {},
   "outputs": [
    {
     "name": "stdout",
     "output_type": "stream",
     "text": [
      "System: Windows\n",
      "Node Name: ece552-class01-\n",
      "Release: 10\n",
      "Version: 10.0.19041\n",
      "Machine: AMD64\n",
      "Processor: Intel64 Family 6 Model 85 Stepping 7, GenuineIntel\n"
     ]
    }
   ],
   "source": [
    "uname = platform.uname()\n",
    "print(f\"System: {uname.system}\")\n",
    "print(f\"Node Name: {uname.node}\")\n",
    "print(f\"Release: {uname.release}\")\n",
    "print(f\"Version: {uname.version}\")\n",
    "print(f\"Machine: {uname.machine}\")\n",
    "print(f\"Processor: {uname.processor}\")"
   ]
  },
  {
   "cell_type": "code",
   "execution_count": 6,
   "metadata": {},
   "outputs": [],
   "source": [
    "from pyspark.sql.types import StructType, StructField, IntegerType, StringType\n",
    "from pyspark.sql.functions import round\n",
    "from pyspark.ml.feature import StringIndexer\n",
    "from pyspark.ml.feature import VectorAssembler\n",
    "from pyspark.ml.feature import OneHotEncoderEstimator\n",
    "from pyspark.ml.classification import DecisionTreeClassifier\n",
    "from pyspark.ml.classification import LogisticRegression\n",
    "from pyspark.ml.classification import RandomForestClassifier\n",
    "from pyspark.ml.classification import GBTClassifier\n",
    "from pyspark.ml.evaluation import MulticlassClassificationEvaluator, BinaryClassificationEvaluator\n",
    "from sklearn.metrics import confusion_matrix\n",
    "from pyspark.ml.feature import StandardScaler\n",
    "from pyspark.ml.classification import NaiveBayes"
   ]
  },
  {
   "cell_type": "code",
   "execution_count": 7,
   "metadata": {},
   "outputs": [],
   "source": [
    "import pandas as pd\n",
    "import numpy as np"
   ]
  },
  {
   "cell_type": "code",
   "execution_count": 8,
   "metadata": {
    "scrolled": true
   },
   "outputs": [],
   "source": [
    "import seaborn as sns"
   ]
  },
  {
   "cell_type": "code",
   "execution_count": 9,
   "metadata": {},
   "outputs": [],
   "source": [
    "from pyspark.sql.functions import udf\n",
    "from pyspark.sql.functions import countDistinct"
   ]
  },
  {
   "cell_type": "code",
   "execution_count": 10,
   "metadata": {},
   "outputs": [],
   "source": [
    "import matplotlib.pyplot as mp"
   ]
  },
  {
   "cell_type": "code",
   "execution_count": 11,
   "metadata": {},
   "outputs": [],
   "source": [
    "from pyspark.sql.functions import col"
   ]
  },
  {
   "cell_type": "code",
   "execution_count": 12,
   "metadata": {},
   "outputs": [],
   "source": [
    "from pyspark.sql.types import IntegerType\n",
    "from pyspark.sql.types import FloatType"
   ]
  },
  {
   "cell_type": "code",
   "execution_count": 13,
   "metadata": {},
   "outputs": [],
   "source": [
    "from sklearn.metrics import  plot_confusion_matrix"
   ]
  },
  {
   "cell_type": "markdown",
   "metadata": {},
   "source": [
    "# Reading CSV\n",
    "## Dataset contains data for the Year 2022 (Till August)"
   ]
  },
  {
   "cell_type": "code",
   "execution_count": 14,
   "metadata": {},
   "outputs": [],
   "source": [
    "airline22DF = spark.read.csv('NewDF.csv',sep=',',\\\n",
    "             header=True,inferSchema=True,nullValue='NA')"
   ]
  },
  {
   "cell_type": "markdown",
   "metadata": {},
   "source": [
    "# Data Exploration"
   ]
  },
  {
   "cell_type": "code",
   "execution_count": 50,
   "metadata": {
    "scrolled": true
   },
   "outputs": [
    {
     "name": "stdout",
     "output_type": "stream",
     "text": [
      "root\n",
      " |-- MONTH: integer (nullable = true)\n",
      " |-- DAY_OF_MONTH: integer (nullable = true)\n",
      " |-- DAY_OF_WEEK: integer (nullable = true)\n",
      " |-- OP_CARRIER: string (nullable = true)\n",
      " |-- ORIGIN: string (nullable = true)\n",
      " |-- ORIGIN_STATE_ABR: string (nullable = true)\n",
      " |-- DEST: string (nullable = true)\n",
      " |-- DEST_STATE_ABR: string (nullable = true)\n",
      " |-- CRS_DEP_TIME: integer (nullable = true)\n",
      " |-- DEP_TIME: integer (nullable = true)\n",
      " |-- DEP_DELAY_NEW: double (nullable = true)\n",
      " |-- CRS_ARR_TIME: integer (nullable = true)\n",
      " |-- ARR_TIME: integer (nullable = true)\n",
      " |-- ARR_DELAY_NEW: double (nullable = true)\n",
      " |-- CANCELLED: double (nullable = true)\n",
      " |-- CANCELLATION_CODE: string (nullable = true)\n",
      " |-- DISTANCE: double (nullable = true)\n",
      " |-- CARRIER_DELAY: double (nullable = true)\n",
      " |-- WEATHER_DELAY: double (nullable = true)\n",
      " |-- NAS_DELAY: double (nullable = true)\n",
      " |-- SECURITY_DELAY: double (nullable = true)\n",
      " |-- LATE_AIRCRAFT_DELAY: double (nullable = true)\n",
      "\n"
     ]
    }
   ],
   "source": [
    "airline22DF.printSchema()"
   ]
  },
  {
   "cell_type": "code",
   "execution_count": 51,
   "metadata": {},
   "outputs": [
    {
     "data": {
      "text/plain": [
       "4495839"
      ]
     },
     "execution_count": 51,
     "metadata": {},
     "output_type": "execute_result"
    }
   ],
   "source": [
    "airline22DF.count()"
   ]
  },
  {
   "cell_type": "code",
   "execution_count": 52,
   "metadata": {
    "scrolled": true
   },
   "outputs": [
    {
     "name": "stdout",
     "output_type": "stream",
     "text": [
      "+-----+------------+-----------+----------+------+----------------+----+--------------+------------+--------+-------------+------------+--------+-------------+---------+-----------------+--------+-------------+-------------+---------+--------------+-------------------+\n",
      "|MONTH|DAY_OF_MONTH|DAY_OF_WEEK|OP_CARRIER|ORIGIN|ORIGIN_STATE_ABR|DEST|DEST_STATE_ABR|CRS_DEP_TIME|DEP_TIME|DEP_DELAY_NEW|CRS_ARR_TIME|ARR_TIME|ARR_DELAY_NEW|CANCELLED|CANCELLATION_CODE|DISTANCE|CARRIER_DELAY|WEATHER_DELAY|NAS_DELAY|SECURITY_DELAY|LATE_AIRCRAFT_DELAY|\n",
      "+-----+------------+-----------+----------+------+----------------+----+--------------+------------+--------+-------------+------------+--------+-------------+---------+-----------------+--------+-------------+-------------+---------+--------------+-------------------+\n",
      "|    7|          13|          3|        WN|   FLL|              FL| BWI|            MD|        2225|    2310|         45.0|          55|     131|         36.0|      0.0|             null|   925.0|          0.0|          0.0|      0.0|           0.0|               36.0|\n",
      "|    7|          13|          3|        WN|   FLL|              FL| CMH|            OH|        1735|    1736|          1.0|        2015|    2000|          0.0|      0.0|             null|   973.0|         null|         null|     null|          null|               null|\n",
      "|    7|          13|          3|        WN|   FLL|              FL| DAL|            TX|        1950|    2003|         13.0|        2155|    2152|          0.0|      0.0|             null|  1108.0|         null|         null|     null|          null|               null|\n",
      "|    7|          13|          3|        WN|   FLL|              FL| DAL|            TX|         540|     536|          0.0|         735|     708|          0.0|      0.0|             null|  1108.0|         null|         null|     null|          null|               null|\n",
      "|    7|          13|          3|        WN|   FLL|              FL| DCA|            VA|        2020|    2032|         12.0|        2255|    2253|          0.0|      0.0|             null|   899.0|         null|         null|     null|          null|               null|\n",
      "|    7|          13|          3|        WN|   FLL|              FL| DCA|            VA|        1145|    1142|          0.0|        1420|    1408|          0.0|      0.0|             null|   899.0|         null|         null|     null|          null|               null|\n",
      "|    7|          13|          3|        WN|   FLL|              FL| HOU|            TX|        1555|    1625|         30.0|        1750|    1756|          6.0|      0.0|             null|   957.0|         null|         null|     null|          null|               null|\n",
      "|    7|          13|          3|        WN|   FLL|              FL| HOU|            TX|         710|     707|          0.0|         850|     838|          0.0|      0.0|             null|   957.0|         null|         null|     null|          null|               null|\n",
      "|    7|          13|          3|        WN|   FLL|              FL| HOU|            TX|        2000|    2022|         22.0|        2145|    2153|          8.0|      0.0|             null|   957.0|         null|         null|     null|          null|               null|\n",
      "|    7|          13|          3|        WN|   FLL|              FL| IND|            IN|        1630|    1634|          4.0|        1920|    1929|          9.0|      0.0|             null|  1005.0|         null|         null|     null|          null|               null|\n",
      "|    7|          13|          3|        WN|   FLL|              FL| MCI|            MO|        1030|    1024|          0.0|        1245|    1228|          0.0|      0.0|             null|  1242.0|         null|         null|     null|          null|               null|\n",
      "|    7|          13|          3|        WN|   FLL|              FL| MCO|            FL|        1955|    2155|        120.0|        2105|    2310|        125.0|      0.0|             null|   177.0|        120.0|          0.0|      5.0|           0.0|                0.0|\n",
      "|    7|          13|          3|        WN|   FLL|              FL| MCO|            FL|        1035|    1032|          0.0|        1145|    1150|          5.0|      0.0|             null|   177.0|         null|         null|     null|          null|               null|\n",
      "|    7|          13|          3|        WN|   FLL|              FL| MDW|            IL|        1015|    1015|          0.0|        1220|    1213|          0.0|      0.0|             null|  1167.0|         null|         null|     null|          null|               null|\n",
      "|    7|          13|          3|        WN|   FLL|              FL| MDW|            IL|        1945|    2040|         55.0|        2155|    2235|         40.0|      0.0|             null|  1167.0|          1.0|          0.0|      0.0|           0.0|               39.0|\n",
      "|    7|          13|          3|        WN|   FLL|              FL| MDW|            IL|         530|     527|          0.0|         735|     719|          0.0|      0.0|             null|  1167.0|         null|         null|     null|          null|               null|\n",
      "|    7|          13|          3|        WN|   FLL|              FL| MSY|            LA|         605|     559|          0.0|         710|     650|          0.0|      0.0|             null|   674.0|         null|         null|     null|          null|               null|\n",
      "|    7|          13|          3|        WN|   FLL|              FL| MSY|            LA|        1845|    1851|          6.0|        1950|    1954|          4.0|      0.0|             null|   674.0|         null|         null|     null|          null|               null|\n",
      "|    7|          13|          3|        WN|   FLL|              FL| ORD|            IL|        1155|    1209|         14.0|        1415|    1433|         18.0|      0.0|             null|  1182.0|         14.0|          0.0|      4.0|           0.0|                0.0|\n",
      "|    7|          13|          3|        WN|   FLL|              FL| PIT|            PA|        1740|    1739|          0.0|        2020|    2009|          0.0|      0.0|             null|   994.0|         null|         null|     null|          null|               null|\n",
      "+-----+------------+-----------+----------+------+----------------+----+--------------+------------+--------+-------------+------------+--------+-------------+---------+-----------------+--------+-------------+-------------+---------+--------------+-------------------+\n",
      "only showing top 20 rows\n",
      "\n"
     ]
    }
   ],
   "source": [
    "airline22DF.show()"
   ]
  },
  {
   "cell_type": "code",
   "execution_count": 53,
   "metadata": {},
   "outputs": [
    {
     "name": "stdout",
     "output_type": "stream",
     "text": [
      "+-------+------------------+-----------------+------------------+----------+-------+----------------+-------+--------------+------------------+------------------+------------------+-----------------+-----------------+------------------+--------------------+-----------------+-----------------+-----------------+------------------+------------------+-------------------+-------------------+\n",
      "|summary|             MONTH|     DAY_OF_MONTH|       DAY_OF_WEEK|OP_CARRIER| ORIGIN|ORIGIN_STATE_ABR|   DEST|DEST_STATE_ABR|      CRS_DEP_TIME|          DEP_TIME|     DEP_DELAY_NEW|     CRS_ARR_TIME|         ARR_TIME|     ARR_DELAY_NEW|           CANCELLED|CANCELLATION_CODE|         DISTANCE|    CARRIER_DELAY|     WEATHER_DELAY|         NAS_DELAY|     SECURITY_DELAY|LATE_AIRCRAFT_DELAY|\n",
      "+-------+------------------+-----------------+------------------+----------+-------+----------------+-------+--------------+------------------+------------------+------------------+-----------------+-----------------+------------------+--------------------+-----------------+-----------------+-----------------+------------------+------------------+-------------------+-------------------+\n",
      "|  count|           4495839|          4495839|           4495839|   4495839|4495839|         4495839|4495839|       4495839|           4495839|           4368053|           4367988|          4495839|          4363705|           4353378|             4495839|           130984|          4495839|           951181|            951181|            951181|             951181|             951181|\n",
      "|   mean| 4.602225969390807|15.74299969371679|3.9771326330858376|      null|   null|            null|   null|          null|1330.6138311447542|1334.9167299481028|16.164646972473367|1485.752695325611| 1455.91461659301|15.871755910008273|0.029134495252165393|             null|817.4054604713381|27.04822215750735|3.7677844700430305|11.504819797704117|0.15216136571272976| 25.378412731120576|\n",
      "| stddev|2.2832487091110583|8.785371657845252|2.0086860255016656|      null|   null|            null|   null|          null| 493.5672209547867|509.31171143413604| 52.07169698623319|522.7565365548144|548.3148591815058|51.719661431175474|  0.1681834793613561|             null|596.4040586659918|74.19544293651286|29.971517831122988|30.214515632249487|  4.073889163804027| 54.201731675525316|\n",
      "|    min|                 1|                1|                 1|        9E|    ABE|              AK|    ABE|            AK|                 1|                 1|               0.0|                1|                1|               0.0|                 0.0|                A|             31.0|              0.0|               0.0|               0.0|                0.0|                0.0|\n",
      "|    max|                 8|               31|                 7|        YX|    YUM|              WY|    YUM|            WY|              2359|              2400|            2994.0|             2400|             2400|            2977.0|                 1.0|                D|           5095.0|           2977.0|            2363.0|            1740.0|             1245.0|             2098.0|\n",
      "+-------+------------------+-----------------+------------------+----------+-------+----------------+-------+--------------+------------------+------------------+------------------+-----------------+-----------------+------------------+--------------------+-----------------+-----------------+-----------------+------------------+------------------+-------------------+-------------------+\n",
      "\n"
     ]
    }
   ],
   "source": [
    "airline22DF.describe().show()"
   ]
  },
  {
   "cell_type": "code",
   "execution_count": 54,
   "metadata": {
    "scrolled": true
   },
   "outputs": [
    {
     "data": {
      "text/html": [
       "<div>\n",
       "<style scoped>\n",
       "    .dataframe tbody tr th:only-of-type {\n",
       "        vertical-align: middle;\n",
       "    }\n",
       "\n",
       "    .dataframe tbody tr th {\n",
       "        vertical-align: top;\n",
       "    }\n",
       "\n",
       "    .dataframe thead th {\n",
       "        text-align: right;\n",
       "    }\n",
       "</style>\n",
       "<table border=\"1\" class=\"dataframe\">\n",
       "  <thead>\n",
       "    <tr style=\"text-align: right;\">\n",
       "      <th></th>\n",
       "      <th>0</th>\n",
       "      <th>1</th>\n",
       "      <th>2</th>\n",
       "      <th>3</th>\n",
       "      <th>4</th>\n",
       "    </tr>\n",
       "  </thead>\n",
       "  <tbody>\n",
       "    <tr>\n",
       "      <th>MONTH</th>\n",
       "      <td>7</td>\n",
       "      <td>7</td>\n",
       "      <td>7</td>\n",
       "      <td>7</td>\n",
       "      <td>7</td>\n",
       "    </tr>\n",
       "    <tr>\n",
       "      <th>DAY_OF_MONTH</th>\n",
       "      <td>13</td>\n",
       "      <td>13</td>\n",
       "      <td>13</td>\n",
       "      <td>13</td>\n",
       "      <td>13</td>\n",
       "    </tr>\n",
       "    <tr>\n",
       "      <th>DAY_OF_WEEK</th>\n",
       "      <td>3</td>\n",
       "      <td>3</td>\n",
       "      <td>3</td>\n",
       "      <td>3</td>\n",
       "      <td>3</td>\n",
       "    </tr>\n",
       "    <tr>\n",
       "      <th>OP_CARRIER</th>\n",
       "      <td>WN</td>\n",
       "      <td>WN</td>\n",
       "      <td>WN</td>\n",
       "      <td>WN</td>\n",
       "      <td>WN</td>\n",
       "    </tr>\n",
       "    <tr>\n",
       "      <th>ORIGIN</th>\n",
       "      <td>FLL</td>\n",
       "      <td>FLL</td>\n",
       "      <td>FLL</td>\n",
       "      <td>FLL</td>\n",
       "      <td>FLL</td>\n",
       "    </tr>\n",
       "    <tr>\n",
       "      <th>ORIGIN_STATE_ABR</th>\n",
       "      <td>FL</td>\n",
       "      <td>FL</td>\n",
       "      <td>FL</td>\n",
       "      <td>FL</td>\n",
       "      <td>FL</td>\n",
       "    </tr>\n",
       "    <tr>\n",
       "      <th>DEST</th>\n",
       "      <td>BWI</td>\n",
       "      <td>CMH</td>\n",
       "      <td>DAL</td>\n",
       "      <td>DAL</td>\n",
       "      <td>DCA</td>\n",
       "    </tr>\n",
       "    <tr>\n",
       "      <th>DEST_STATE_ABR</th>\n",
       "      <td>MD</td>\n",
       "      <td>OH</td>\n",
       "      <td>TX</td>\n",
       "      <td>TX</td>\n",
       "      <td>VA</td>\n",
       "    </tr>\n",
       "    <tr>\n",
       "      <th>CRS_DEP_TIME</th>\n",
       "      <td>2225</td>\n",
       "      <td>1735</td>\n",
       "      <td>1950</td>\n",
       "      <td>540</td>\n",
       "      <td>2020</td>\n",
       "    </tr>\n",
       "    <tr>\n",
       "      <th>DEP_TIME</th>\n",
       "      <td>2310</td>\n",
       "      <td>1736</td>\n",
       "      <td>2003</td>\n",
       "      <td>536</td>\n",
       "      <td>2032</td>\n",
       "    </tr>\n",
       "    <tr>\n",
       "      <th>DEP_DELAY_NEW</th>\n",
       "      <td>45.0</td>\n",
       "      <td>1.0</td>\n",
       "      <td>13.0</td>\n",
       "      <td>0.0</td>\n",
       "      <td>12.0</td>\n",
       "    </tr>\n",
       "    <tr>\n",
       "      <th>CRS_ARR_TIME</th>\n",
       "      <td>55</td>\n",
       "      <td>2015</td>\n",
       "      <td>2155</td>\n",
       "      <td>735</td>\n",
       "      <td>2255</td>\n",
       "    </tr>\n",
       "    <tr>\n",
       "      <th>ARR_TIME</th>\n",
       "      <td>131</td>\n",
       "      <td>2000</td>\n",
       "      <td>2152</td>\n",
       "      <td>708</td>\n",
       "      <td>2253</td>\n",
       "    </tr>\n",
       "    <tr>\n",
       "      <th>ARR_DELAY_NEW</th>\n",
       "      <td>36.0</td>\n",
       "      <td>0.0</td>\n",
       "      <td>0.0</td>\n",
       "      <td>0.0</td>\n",
       "      <td>0.0</td>\n",
       "    </tr>\n",
       "    <tr>\n",
       "      <th>CANCELLED</th>\n",
       "      <td>0.0</td>\n",
       "      <td>0.0</td>\n",
       "      <td>0.0</td>\n",
       "      <td>0.0</td>\n",
       "      <td>0.0</td>\n",
       "    </tr>\n",
       "    <tr>\n",
       "      <th>CANCELLATION_CODE</th>\n",
       "      <td>None</td>\n",
       "      <td>None</td>\n",
       "      <td>None</td>\n",
       "      <td>None</td>\n",
       "      <td>None</td>\n",
       "    </tr>\n",
       "    <tr>\n",
       "      <th>DISTANCE</th>\n",
       "      <td>925.0</td>\n",
       "      <td>973.0</td>\n",
       "      <td>1108.0</td>\n",
       "      <td>1108.0</td>\n",
       "      <td>899.0</td>\n",
       "    </tr>\n",
       "    <tr>\n",
       "      <th>CARRIER_DELAY</th>\n",
       "      <td>0.0</td>\n",
       "      <td>NaN</td>\n",
       "      <td>NaN</td>\n",
       "      <td>NaN</td>\n",
       "      <td>NaN</td>\n",
       "    </tr>\n",
       "    <tr>\n",
       "      <th>WEATHER_DELAY</th>\n",
       "      <td>0.0</td>\n",
       "      <td>NaN</td>\n",
       "      <td>NaN</td>\n",
       "      <td>NaN</td>\n",
       "      <td>NaN</td>\n",
       "    </tr>\n",
       "    <tr>\n",
       "      <th>NAS_DELAY</th>\n",
       "      <td>0.0</td>\n",
       "      <td>NaN</td>\n",
       "      <td>NaN</td>\n",
       "      <td>NaN</td>\n",
       "      <td>NaN</td>\n",
       "    </tr>\n",
       "    <tr>\n",
       "      <th>SECURITY_DELAY</th>\n",
       "      <td>0.0</td>\n",
       "      <td>NaN</td>\n",
       "      <td>NaN</td>\n",
       "      <td>NaN</td>\n",
       "      <td>NaN</td>\n",
       "    </tr>\n",
       "    <tr>\n",
       "      <th>LATE_AIRCRAFT_DELAY</th>\n",
       "      <td>36.0</td>\n",
       "      <td>NaN</td>\n",
       "      <td>NaN</td>\n",
       "      <td>NaN</td>\n",
       "      <td>NaN</td>\n",
       "    </tr>\n",
       "  </tbody>\n",
       "</table>\n",
       "</div>"
      ],
      "text/plain": [
       "                         0      1       2       3      4\n",
       "MONTH                    7      7       7       7      7\n",
       "DAY_OF_MONTH            13     13      13      13     13\n",
       "DAY_OF_WEEK              3      3       3       3      3\n",
       "OP_CARRIER              WN     WN      WN      WN     WN\n",
       "ORIGIN                 FLL    FLL     FLL     FLL    FLL\n",
       "ORIGIN_STATE_ABR        FL     FL      FL      FL     FL\n",
       "DEST                   BWI    CMH     DAL     DAL    DCA\n",
       "DEST_STATE_ABR          MD     OH      TX      TX     VA\n",
       "CRS_DEP_TIME          2225   1735    1950     540   2020\n",
       "DEP_TIME              2310   1736    2003     536   2032\n",
       "DEP_DELAY_NEW         45.0    1.0    13.0     0.0   12.0\n",
       "CRS_ARR_TIME            55   2015    2155     735   2255\n",
       "ARR_TIME               131   2000    2152     708   2253\n",
       "ARR_DELAY_NEW         36.0    0.0     0.0     0.0    0.0\n",
       "CANCELLED              0.0    0.0     0.0     0.0    0.0\n",
       "CANCELLATION_CODE     None   None    None    None   None\n",
       "DISTANCE             925.0  973.0  1108.0  1108.0  899.0\n",
       "CARRIER_DELAY          0.0    NaN     NaN     NaN    NaN\n",
       "WEATHER_DELAY          0.0    NaN     NaN     NaN    NaN\n",
       "NAS_DELAY              0.0    NaN     NaN     NaN    NaN\n",
       "SECURITY_DELAY         0.0    NaN     NaN     NaN    NaN\n",
       "LATE_AIRCRAFT_DELAY   36.0    NaN     NaN     NaN    NaN"
      ]
     },
     "execution_count": 54,
     "metadata": {},
     "output_type": "execute_result"
    }
   ],
   "source": [
    "pd.DataFrame(airline22DF.take(5), columns=airline22DF.columns).transpose()"
   ]
  },
  {
   "cell_type": "code",
   "execution_count": 55,
   "metadata": {
    "scrolled": true
   },
   "outputs": [
    {
     "data": {
      "text/html": [
       "<div>\n",
       "<style scoped>\n",
       "    .dataframe tbody tr th:only-of-type {\n",
       "        vertical-align: middle;\n",
       "    }\n",
       "\n",
       "    .dataframe tbody tr th {\n",
       "        vertical-align: top;\n",
       "    }\n",
       "\n",
       "    .dataframe thead th {\n",
       "        text-align: right;\n",
       "    }\n",
       "</style>\n",
       "<table border=\"1\" class=\"dataframe\">\n",
       "  <thead>\n",
       "    <tr style=\"text-align: right;\">\n",
       "      <th></th>\n",
       "      <th>0</th>\n",
       "      <th>1</th>\n",
       "      <th>2</th>\n",
       "      <th>3</th>\n",
       "      <th>4</th>\n",
       "    </tr>\n",
       "  </thead>\n",
       "  <tbody>\n",
       "    <tr>\n",
       "      <th>summary</th>\n",
       "      <td>count</td>\n",
       "      <td>mean</td>\n",
       "      <td>stddev</td>\n",
       "      <td>min</td>\n",
       "      <td>max</td>\n",
       "    </tr>\n",
       "    <tr>\n",
       "      <th>MONTH</th>\n",
       "      <td>4495839</td>\n",
       "      <td>4.602225969390807</td>\n",
       "      <td>2.2832487091110583</td>\n",
       "      <td>1</td>\n",
       "      <td>8</td>\n",
       "    </tr>\n",
       "    <tr>\n",
       "      <th>DAY_OF_MONTH</th>\n",
       "      <td>4495839</td>\n",
       "      <td>15.74299969371679</td>\n",
       "      <td>8.785371657845252</td>\n",
       "      <td>1</td>\n",
       "      <td>31</td>\n",
       "    </tr>\n",
       "    <tr>\n",
       "      <th>DAY_OF_WEEK</th>\n",
       "      <td>4495839</td>\n",
       "      <td>3.9771326330858376</td>\n",
       "      <td>2.0086860255016656</td>\n",
       "      <td>1</td>\n",
       "      <td>7</td>\n",
       "    </tr>\n",
       "    <tr>\n",
       "      <th>CRS_DEP_TIME</th>\n",
       "      <td>4495839</td>\n",
       "      <td>1330.6138311447542</td>\n",
       "      <td>493.5672209547867</td>\n",
       "      <td>1</td>\n",
       "      <td>2359</td>\n",
       "    </tr>\n",
       "    <tr>\n",
       "      <th>DEP_TIME</th>\n",
       "      <td>4368053</td>\n",
       "      <td>1334.9167299481028</td>\n",
       "      <td>509.31171143413604</td>\n",
       "      <td>1</td>\n",
       "      <td>2400</td>\n",
       "    </tr>\n",
       "    <tr>\n",
       "      <th>CRS_ARR_TIME</th>\n",
       "      <td>4495839</td>\n",
       "      <td>1485.752695325611</td>\n",
       "      <td>522.7565365548144</td>\n",
       "      <td>1</td>\n",
       "      <td>2400</td>\n",
       "    </tr>\n",
       "    <tr>\n",
       "      <th>ARR_TIME</th>\n",
       "      <td>4363705</td>\n",
       "      <td>1455.91461659301</td>\n",
       "      <td>548.3148591815058</td>\n",
       "      <td>1</td>\n",
       "      <td>2400</td>\n",
       "    </tr>\n",
       "  </tbody>\n",
       "</table>\n",
       "</div>"
      ],
      "text/plain": [
       "                    0                   1                   2    3     4\n",
       "summary         count                mean              stddev  min   max\n",
       "MONTH         4495839   4.602225969390807  2.2832487091110583    1     8\n",
       "DAY_OF_MONTH  4495839   15.74299969371679   8.785371657845252    1    31\n",
       "DAY_OF_WEEK   4495839  3.9771326330858376  2.0086860255016656    1     7\n",
       "CRS_DEP_TIME  4495839  1330.6138311447542   493.5672209547867    1  2359\n",
       "DEP_TIME      4368053  1334.9167299481028  509.31171143413604    1  2400\n",
       "CRS_ARR_TIME  4495839   1485.752695325611   522.7565365548144    1  2400\n",
       "ARR_TIME      4363705    1455.91461659301   548.3148591815058    1  2400"
      ]
     },
     "execution_count": 55,
     "metadata": {},
     "output_type": "execute_result"
    }
   ],
   "source": [
    "#Summary statistics for numeric variables\n",
    "numericFT = [t[0] for t in airline22DF.dtypes if t[1] == 'int']\n",
    "airline22DF.select(numericFT).describe().toPandas().transpose()"
   ]
  },
  {
   "cell_type": "code",
   "execution_count": 56,
   "metadata": {},
   "outputs": [
    {
     "data": {
      "text/html": [
       "<div>\n",
       "<style scoped>\n",
       "    .dataframe tbody tr th:only-of-type {\n",
       "        vertical-align: middle;\n",
       "    }\n",
       "\n",
       "    .dataframe tbody tr th {\n",
       "        vertical-align: top;\n",
       "    }\n",
       "\n",
       "    .dataframe thead th {\n",
       "        text-align: right;\n",
       "    }\n",
       "</style>\n",
       "<table border=\"1\" class=\"dataframe\">\n",
       "  <thead>\n",
       "    <tr style=\"text-align: right;\">\n",
       "      <th></th>\n",
       "      <th>0</th>\n",
       "    </tr>\n",
       "  </thead>\n",
       "  <tbody>\n",
       "    <tr>\n",
       "      <th>MONTH</th>\n",
       "      <td>0</td>\n",
       "    </tr>\n",
       "    <tr>\n",
       "      <th>DAY_OF_MONTH</th>\n",
       "      <td>0</td>\n",
       "    </tr>\n",
       "    <tr>\n",
       "      <th>DAY_OF_WEEK</th>\n",
       "      <td>0</td>\n",
       "    </tr>\n",
       "    <tr>\n",
       "      <th>OP_CARRIER</th>\n",
       "      <td>0</td>\n",
       "    </tr>\n",
       "    <tr>\n",
       "      <th>ORIGIN</th>\n",
       "      <td>0</td>\n",
       "    </tr>\n",
       "    <tr>\n",
       "      <th>ORIGIN_STATE_ABR</th>\n",
       "      <td>0</td>\n",
       "    </tr>\n",
       "    <tr>\n",
       "      <th>DEST</th>\n",
       "      <td>0</td>\n",
       "    </tr>\n",
       "    <tr>\n",
       "      <th>DEST_STATE_ABR</th>\n",
       "      <td>0</td>\n",
       "    </tr>\n",
       "    <tr>\n",
       "      <th>CRS_DEP_TIME</th>\n",
       "      <td>0</td>\n",
       "    </tr>\n",
       "    <tr>\n",
       "      <th>DEP_TIME</th>\n",
       "      <td>127786</td>\n",
       "    </tr>\n",
       "    <tr>\n",
       "      <th>DEP_DELAY_NEW</th>\n",
       "      <td>127851</td>\n",
       "    </tr>\n",
       "    <tr>\n",
       "      <th>CRS_ARR_TIME</th>\n",
       "      <td>0</td>\n",
       "    </tr>\n",
       "    <tr>\n",
       "      <th>ARR_TIME</th>\n",
       "      <td>132134</td>\n",
       "    </tr>\n",
       "    <tr>\n",
       "      <th>ARR_DELAY_NEW</th>\n",
       "      <td>142461</td>\n",
       "    </tr>\n",
       "    <tr>\n",
       "      <th>CANCELLED</th>\n",
       "      <td>0</td>\n",
       "    </tr>\n",
       "    <tr>\n",
       "      <th>CANCELLATION_CODE</th>\n",
       "      <td>4364855</td>\n",
       "    </tr>\n",
       "    <tr>\n",
       "      <th>DISTANCE</th>\n",
       "      <td>0</td>\n",
       "    </tr>\n",
       "    <tr>\n",
       "      <th>CARRIER_DELAY</th>\n",
       "      <td>3544658</td>\n",
       "    </tr>\n",
       "    <tr>\n",
       "      <th>WEATHER_DELAY</th>\n",
       "      <td>3544658</td>\n",
       "    </tr>\n",
       "    <tr>\n",
       "      <th>NAS_DELAY</th>\n",
       "      <td>3544658</td>\n",
       "    </tr>\n",
       "    <tr>\n",
       "      <th>SECURITY_DELAY</th>\n",
       "      <td>3544658</td>\n",
       "    </tr>\n",
       "    <tr>\n",
       "      <th>LATE_AIRCRAFT_DELAY</th>\n",
       "      <td>3544658</td>\n",
       "    </tr>\n",
       "  </tbody>\n",
       "</table>\n",
       "</div>"
      ],
      "text/plain": [
       "                           0\n",
       "MONTH                      0\n",
       "DAY_OF_MONTH               0\n",
       "DAY_OF_WEEK                0\n",
       "OP_CARRIER                 0\n",
       "ORIGIN                     0\n",
       "ORIGIN_STATE_ABR           0\n",
       "DEST                       0\n",
       "DEST_STATE_ABR             0\n",
       "CRS_DEP_TIME               0\n",
       "DEP_TIME              127786\n",
       "DEP_DELAY_NEW         127851\n",
       "CRS_ARR_TIME               0\n",
       "ARR_TIME              132134\n",
       "ARR_DELAY_NEW         142461\n",
       "CANCELLED                  0\n",
       "CANCELLATION_CODE    4364855\n",
       "DISTANCE                   0\n",
       "CARRIER_DELAY        3544658\n",
       "WEATHER_DELAY        3544658\n",
       "NAS_DELAY            3544658\n",
       "SECURITY_DELAY       3544658\n",
       "LATE_AIRCRAFT_DELAY  3544658"
      ]
     },
     "execution_count": 56,
     "metadata": {},
     "output_type": "execute_result"
    }
   ],
   "source": [
    "from pyspark.sql.functions import col,isnan, when, count\n",
    "airline22DF.select([count(when(isnan(c) | col(c).isNull(), c)).alias(c) for c in airline22DF.columns]).toPandas().transpose() #Missing Values"
   ]
  },
  {
   "cell_type": "code",
   "execution_count": 17,
   "metadata": {},
   "outputs": [],
   "source": [
    "##airline22DF.coalesce(1).write.options(header='True', delimiter=',',emptyValue='') \\\n",
    "## .csv(\"airline22DF.csv\") #Converting the merged files to one .csv file"
   ]
  },
  {
   "cell_type": "markdown",
   "metadata": {},
   "source": [
    "# Parquet"
   ]
  },
  {
   "cell_type": "code",
   "execution_count": 57,
   "metadata": {},
   "outputs": [],
   "source": [
    "airline22DFP= airline22DF\n",
    "airline22DFP.write.parquet(\"airline22DFP.parquet\")"
   ]
  },
  {
   "cell_type": "code",
   "execution_count": 58,
   "metadata": {},
   "outputs": [],
   "source": [
    "airline22DFParq = spark.read.parquet(\"airline22DFP.parquet\")"
   ]
  },
  {
   "cell_type": "code",
   "execution_count": 59,
   "metadata": {},
   "outputs": [],
   "source": [
    "airline22DFParq.createOrReplaceTempView(\"airline22DFParq\")"
   ]
  },
  {
   "cell_type": "code",
   "execution_count": 60,
   "metadata": {},
   "outputs": [
    {
     "data": {
      "text/plain": [
       "4495839"
      ]
     },
     "execution_count": 60,
     "metadata": {},
     "output_type": "execute_result"
    }
   ],
   "source": [
    "airline22DFParq.count()"
   ]
  },
  {
   "cell_type": "markdown",
   "metadata": {},
   "source": [
    "# Exploratory Data Analysis"
   ]
  },
  {
   "cell_type": "markdown",
   "metadata": {},
   "source": [
    "## 1. SQL"
   ]
  },
  {
   "cell_type": "code",
   "execution_count": 61,
   "metadata": {},
   "outputs": [
    {
     "name": "stdout",
     "output_type": "stream",
     "text": [
      "+---------+----------------+\n",
      "|CANCELLED|count(CANCELLED)|\n",
      "+---------+----------------+\n",
      "|      0.0|         4364855|\n",
      "|      1.0|          130984|\n",
      "+---------+----------------+\n",
      "\n"
     ]
    }
   ],
   "source": [
    "Q1 = spark.sql(\"SELECT CANCELLED, COUNT(CANCELLED) FROM airline22DFParq GROUP BY CANCELLED ORDER BY COUNT(CANCELLED) DESC\" )\n",
    "Q1.show()"
   ]
  },
  {
   "cell_type": "code",
   "execution_count": 62,
   "metadata": {},
   "outputs": [
    {
     "name": "stdout",
     "output_type": "stream",
     "text": [
      "+------+-------------+\n",
      "|ORIGIN|count(ORIGIN)|\n",
      "+------+-------------+\n",
      "|   ATL|       211126|\n",
      "|   DFW|       186153|\n",
      "|   DEN|       177846|\n",
      "|   ORD|       174632|\n",
      "|   CLT|       129370|\n",
      "|   LAX|       128733|\n",
      "|   SEA|       115227|\n",
      "|   LAS|       113490|\n",
      "|   LGA|       113219|\n",
      "|   PHX|       109608|\n",
      "|   MCO|        97079|\n",
      "|   DCA|        94913|\n",
      "|   JFK|        90959|\n",
      "|   BOS|        90122|\n",
      "|   SFO|        86589|\n",
      "|   EWR|        86395|\n",
      "|   DTW|        86160|\n",
      "|   IAH|        83758|\n",
      "|   MSP|        81448|\n",
      "|   MIA|        74568|\n",
      "+------+-------------+\n",
      "only showing top 20 rows\n",
      "\n"
     ]
    }
   ],
   "source": [
    "Q2 = spark.sql(\"SELECT ORIGIN, COUNT(ORIGIN) FROM airline22DFParq GROUP BY ORIGIN ORDER BY COUNT(ORIGIN) DESC\" )\n",
    "Q2.show()"
   ]
  },
  {
   "cell_type": "code",
   "execution_count": 63,
   "metadata": {
    "scrolled": true
   },
   "outputs": [
    {
     "name": "stdout",
     "output_type": "stream",
     "text": [
      "+----------+---------+----------------+\n",
      "|OP_CARRIER|CANCELLED|count(CANCELLED)|\n",
      "+----------+---------+----------------+\n",
      "|        AA|      1.0|           22038|\n",
      "|        WN|      1.0|           21321|\n",
      "|        YX|      1.0|           13311|\n",
      "|        DL|      1.0|           10913|\n",
      "|        OO|      1.0|           10255|\n",
      "|        UA|      1.0|            9264|\n",
      "|        B6|      1.0|            8182|\n",
      "|        9E|      1.0|            6838|\n",
      "|        OH|      1.0|            5761|\n",
      "|        MQ|      1.0|            4493|\n",
      "|        NK|      1.0|            4374|\n",
      "|        AS|      1.0|            3872|\n",
      "|        YV|      1.0|            3383|\n",
      "|        G4|      1.0|            2994|\n",
      "|        F9|      1.0|            2627|\n",
      "|        QX|      1.0|             998|\n",
      "|        HA|      1.0|             360|\n",
      "|        WN|      0.0|          829493|\n",
      "|        DL|      0.0|          579874|\n",
      "|        AA|      0.0|          552242|\n",
      "|        OO|      0.0|          494275|\n",
      "|        UA|      0.0|          397663|\n",
      "|        YX|      0.0|          211249|\n",
      "|        B6|      0.0|          171711|\n",
      "|        MQ|      0.0|          168158|\n",
      "|        9E|      0.0|          155601|\n",
      "|        OH|      0.0|          147516|\n",
      "|        AS|      0.0|          146152|\n",
      "|        NK|      0.0|          144415|\n",
      "|        F9|      0.0|           97267|\n",
      "|        G4|      0.0|           79792|\n",
      "|        YV|      0.0|           77513|\n",
      "|        QX|      0.0|           63568|\n",
      "|        HA|      0.0|           48366|\n",
      "+----------+---------+----------------+\n",
      "\n"
     ]
    }
   ],
   "source": [
    "Q3 = spark.sql(\"SELECT OP_CARRIER, CANCELLED, COUNT(CANCELLED) FROM airline22DFParq GROUP BY OP_CARRIER,CANCELLED ORDER BY CANCELLED DESC, COUNT(CANCELLED) DESC\" )\n",
    "Q3.show(40)"
   ]
  },
  {
   "cell_type": "code",
   "execution_count": 64,
   "metadata": {},
   "outputs": [
    {
     "name": "stdout",
     "output_type": "stream",
     "text": [
      "+------+---------+----------------+\n",
      "|ORIGIN|CANCELLED|count(CANCELLED)|\n",
      "+------+---------+----------------+\n",
      "|   LGA|      1.0|            7367|\n",
      "|   DFW|      1.0|            6662|\n",
      "|   ORD|      1.0|            5795|\n",
      "|   EWR|      1.0|            5410|\n",
      "|   DCA|      1.0|            4722|\n",
      "|   DEN|      1.0|            4575|\n",
      "|   CLT|      1.0|            4242|\n",
      "|   JFK|      1.0|            4216|\n",
      "|   BOS|      1.0|            3803|\n",
      "|   ATL|      1.0|            3661|\n",
      "|   MCO|      1.0|            2612|\n",
      "|   MIA|      1.0|            2401|\n",
      "|   LAS|      1.0|            2310|\n",
      "|   LAX|      1.0|            2098|\n",
      "|   SEA|      1.0|            2081|\n",
      "|   BWI|      1.0|            2059|\n",
      "|   DTW|      1.0|            2015|\n",
      "|   IAH|      1.0|            1964|\n",
      "|   PHX|      1.0|            1879|\n",
      "|   PHL|      1.0|            1866|\n",
      "|   AUS|      1.0|            1785|\n",
      "|   FLL|      1.0|            1773|\n",
      "|   BNA|      1.0|            1766|\n",
      "|   TPA|      1.0|            1494|\n",
      "|   DAL|      1.0|            1467|\n",
      "|   SFO|      1.0|            1465|\n",
      "|   MDW|      1.0|            1400|\n",
      "|   STL|      1.0|            1391|\n",
      "|   RDU|      1.0|            1383|\n",
      "|   MSP|      1.0|            1347|\n",
      "|   IAD|      1.0|            1168|\n",
      "|   CLE|      1.0|            1117|\n",
      "|   PIT|      1.0|            1000|\n",
      "|   RSW|      1.0|             994|\n",
      "|   IND|      1.0|             971|\n",
      "|   CMH|      1.0|             968|\n",
      "|   MCI|      1.0|             919|\n",
      "|   CVG|      1.0|             873|\n",
      "|   SAN|      1.0|             846|\n",
      "|   SLC|      1.0|             799|\n",
      "|   MSY|      1.0|             789|\n",
      "|   PBI|      1.0|             787|\n",
      "|   CHS|      1.0|             708|\n",
      "|   ORF|      1.0|             706|\n",
      "|   HOU|      1.0|             686|\n",
      "|   SNA|      1.0|             682|\n",
      "|   BUF|      1.0|             657|\n",
      "|   BDL|      1.0|             656|\n",
      "|   JAX|      1.0|             655|\n",
      "|   PDX|      1.0|             655|\n",
      "|   BUR|      1.0|             566|\n",
      "|   SDF|      1.0|             541|\n",
      "|   MKE|      1.0|             538|\n",
      "|   SAT|      1.0|             526|\n",
      "|   RIC|      1.0|             520|\n",
      "|   SMF|      1.0|             514|\n",
      "|   SJC|      1.0|             509|\n",
      "|   PWM|      1.0|             489|\n",
      "|   MEM|      1.0|             485|\n",
      "|   PVD|      1.0|             484|\n",
      "|   SAV|      1.0|             464|\n",
      "|   SJU|      1.0|             461|\n",
      "|   ROC|      1.0|             432|\n",
      "|   ASE|      1.0|             425|\n",
      "|   OAK|      1.0|             421|\n",
      "|   SRQ|      1.0|             415|\n",
      "|   GRR|      1.0|             410|\n",
      "|   SYR|      1.0|             384|\n",
      "|   ALB|      1.0|             375|\n",
      "|   OKC|      1.0|             371|\n",
      "|   HPN|      1.0|             362|\n",
      "|   ANC|      1.0|             340|\n",
      "|   OMA|      1.0|             322|\n",
      "|   MYR|      1.0|             313|\n",
      "|   BTV|      1.0|             298|\n",
      "|   GSP|      1.0|             298|\n",
      "|   TUL|      1.0|             292|\n",
      "|   HNL|      1.0|             279|\n",
      "|   GSO|      1.0|             273|\n",
      "|   ONT|      1.0|             269|\n",
      "|   ELP|      1.0|             262|\n",
      "|   EYW|      1.0|             260|\n",
      "|   BHM|      1.0|             260|\n",
      "|   ABQ|      1.0|             252|\n",
      "|   TYS|      1.0|             230|\n",
      "|   MHT|      1.0|             215|\n",
      "|   MSN|      1.0|             215|\n",
      "|   AVL|      1.0|             208|\n",
      "|   BGR|      1.0|             207|\n",
      "|   COS|      1.0|             201|\n",
      "|   TUS|      1.0|             199|\n",
      "|   SFB|      1.0|             199|\n",
      "|   DSM|      1.0|             198|\n",
      "|   PIE|      1.0|             189|\n",
      "|   VPS|      1.0|             186|\n",
      "|   PNS|      1.0|             183|\n",
      "|   ILM|      1.0|             183|\n",
      "|   XNA|      1.0|             182|\n",
      "|   RNO|      1.0|             178|\n",
      "|   LIT|      1.0|             177|\n",
      "+------+---------+----------------+\n",
      "only showing top 100 rows\n",
      "\n"
     ]
    }
   ],
   "source": [
    "Q4 = spark.sql(\"N\" )\n",
    "Q4.show(100)"
   ]
  },
  {
   "cell_type": "code",
   "execution_count": 65,
   "metadata": {},
   "outputs": [
    {
     "name": "stdout",
     "output_type": "stream",
     "text": [
      "+-----------------+\n",
      "|CANCELLATION_CODE|\n",
      "+-----------------+\n",
      "|             null|\n",
      "|                B|\n",
      "|                D|\n",
      "|                C|\n",
      "|                A|\n",
      "+-----------------+\n",
      "\n"
     ]
    }
   ],
   "source": [
    "airline22DFParq.select('CANCELLATION_CODE').distinct().show()"
   ]
  },
  {
   "cell_type": "code",
   "execution_count": 66,
   "metadata": {},
   "outputs": [
    {
     "name": "stdout",
     "output_type": "stream",
     "text": [
      "+-----------------+-------+\n",
      "|CANCELLATION_CODE|  count|\n",
      "+-----------------+-------+\n",
      "|             null|4364855|\n",
      "|                A|  49579|\n",
      "|                B|  67132|\n",
      "|                C|  13250|\n",
      "|                D|   1023|\n",
      "+-----------------+-------+\n",
      "\n"
     ]
    }
   ],
   "source": [
    "airline22DFParq.groupby('CANCELLATION_CODE').count().sort(\"CANCELLATION_CODE\", ascending=True).show()"
   ]
  },
  {
   "cell_type": "markdown",
   "metadata": {},
   "source": [
    "## 2. Defining User Functions"
   ]
  },
  {
   "cell_type": "code",
   "execution_count": 18,
   "metadata": {},
   "outputs": [],
   "source": [
    "def convertTimeDay(s):\n",
    "    res =\"\"\n",
    "    if s >= 0 and s < 600:\n",
    "        res = \"Red Eye\"\n",
    "    elif s >= 600 and s < 1200:\n",
    "        res = \"Morning\"\n",
    "    elif s >= 1200 and s < 1800:\n",
    "        res = \"Afternoon\"\n",
    "    elif s >= 1800 and s<=2400:\n",
    "        res = \"Evening\"\n",
    "    return res"
   ]
  },
  {
   "cell_type": "code",
   "execution_count": 19,
   "metadata": {},
   "outputs": [],
   "source": [
    "def delayCheck(s):\n",
    "    res=0\n",
    "    if s > 15:\n",
    "        res= 1\n",
    "    elif s <=15:\n",
    "        res =0\n",
    "    elif s is None:\n",
    "        res = 123\n",
    "    return res"
   ]
  },
  {
   "cell_type": "markdown",
   "metadata": {},
   "source": [
    "## 3. Visualizations"
   ]
  },
  {
   "cell_type": "code",
   "execution_count": 69,
   "metadata": {},
   "outputs": [],
   "source": [
    "airline22DFPandas = pd.concat(map(pd.read_csv, ['2022_1.csv','2022_2.csv','2022_3.csv','2022_4.csv','2022_5.csv','2022_6.csv','2022_7.csv', '2022_8.csv',]))"
   ]
  },
  {
   "cell_type": "code",
   "execution_count": 70,
   "metadata": {},
   "outputs": [],
   "source": [
    "airline22DFPandas['DEP_PARTOFDAY'] =  airline22DFPandas['CRS_DEP_TIME'].apply(lambda x: convertTimeDay(x)) \n",
    "airline22DFPandas['ARR_PARTOFDAY'] =  airline22DFPandas['CRS_ARR_TIME'].apply(lambda x: convertTimeDay(x))\n",
    "airline22DFPandas['DELAY'] =  airline22DFPandas['DEP_DELAY_NEW'].apply(lambda x: delayCheck(x))"
   ]
  },
  {
   "cell_type": "code",
   "execution_count": 71,
   "metadata": {},
   "outputs": [
    {
     "data": {
      "text/plain": [
       "Text(0.5, 1.0, 'CANCELLATIONS COUNT')"
      ]
     },
     "execution_count": 71,
     "metadata": {},
     "output_type": "execute_result"
    },
    {
     "data": {
      "image/png": "[encoded data removed]",
      "text/plain": [
       "<Figure size 432x288 with 1 Axes>"
      ]
     },
     "metadata": {
      "needs_background": "light"
     },
     "output_type": "display_data"
    }
   ],
   "source": [
    "sns.countplot(data=airline22DFPandas,x='CANCELLED',hue='CANCELLED').set_title(\"CANCELLATIONS COUNT\")"
   ]
  },
  {
   "cell_type": "code",
   "execution_count": 72,
   "metadata": {},
   "outputs": [
    {
     "data": {
      "text/plain": [
       "Text(0.5, 1.0, 'DELAY COUNT')"
      ]
     },
     "execution_count": 72,
     "metadata": {},
     "output_type": "execute_result"
    },
    {
     "data": {
      "image/png": "[encoded data removed]",
      "text/plain": [
       "<Figure size 432x288 with 1 Axes>"
      ]
     },
     "metadata": {
      "needs_background": "light"
     },
     "output_type": "display_data"
    }
   ],
   "source": [
    "sns.countplot(data=airline22DFPandas,x='DELAY',hue='DELAY').set_title(\"DELAY COUNT\")"
   ]
  },
  {
   "cell_type": "code",
   "execution_count": 73,
   "metadata": {},
   "outputs": [
    {
     "data": {
      "text/plain": [
       "Text(0.5, 1.0, 'PART OF DAY (DEPARTURE) COUNT')"
      ]
     },
     "execution_count": 73,
     "metadata": {},
     "output_type": "execute_result"
    },
    {
     "data": {
      "image/png": "[encoded data removed]",
      "text/plain": [
       "<Figure size 432x288 with 1 Axes>"
      ]
     },
     "metadata": {
      "needs_background": "light"
     },
     "output_type": "display_data"
    }
   ],
   "source": [
    "sns.countplot(data=airline22DFPandas,x='DEP_PARTOFDAY',hue='DEP_PARTOFDAY').set_title(\"PART OF DAY (DEPARTURE) COUNT\")"
   ]
  },
  {
   "cell_type": "code",
   "execution_count": 74,
   "metadata": {},
   "outputs": [
    {
     "data": {
      "text/plain": [
       "Text(0.5, 1.0, 'PART OF DAY (ARRIVAL) COUNT')"
      ]
     },
     "execution_count": 74,
     "metadata": {},
     "output_type": "execute_result"
    },
    {
     "data": {
      "image/png": "[encoded data removed]",
      "text/plain": [
       "<Figure size 432x288 with 1 Axes>"
      ]
     },
     "metadata": {
      "needs_background": "light"
     },
     "output_type": "display_data"
    }
   ],
   "source": [
    "sns.countplot(data=airline22DFPandas,x='ARR_PARTOFDAY',hue='ARR_PARTOFDAY').set_title(\"PART OF DAY (ARRIVAL) COUNT\")"
   ]
  },
  {
   "cell_type": "code",
   "execution_count": 75,
   "metadata": {},
   "outputs": [
    {
     "data": {
      "text/plain": [
       "<AxesSubplot:>"
      ]
     },
     "execution_count": 75,
     "metadata": {},
     "output_type": "execute_result"
    },
    {
     "data": {
      "image/png": "[encoded data removed]",
      "text/plain": [
       "<Figure size 432x288 with 1 Axes>"
      ]
     },
     "metadata": {
      "needs_background": "light"
     },
     "output_type": "display_data"
    }
   ],
   "source": [
    "airline22DFPandas['ORIGIN'].value_counts()[:15].plot(kind='barh')"
   ]
  },
  {
   "cell_type": "code",
   "execution_count": 76,
   "metadata": {},
   "outputs": [
    {
     "data": {
      "text/plain": [
       "<AxesSubplot:>"
      ]
     },
     "execution_count": 76,
     "metadata": {},
     "output_type": "execute_result"
    },
    {
     "data": {
      "image/png": "[encoded data removed]",
      "text/plain": [
       "<Figure size 432x288 with 1 Axes>"
      ]
     },
     "metadata": {
      "needs_background": "light"
     },
     "output_type": "display_data"
    }
   ],
   "source": [
    "airline22DFPandas['DEST'].value_counts()[:15].plot(kind='barh')"
   ]
  },
  {
   "cell_type": "code",
   "execution_count": 77,
   "metadata": {},
   "outputs": [
    {
     "data": {
      "text/plain": [
       "<AxesSubplot:>"
      ]
     },
     "execution_count": 77,
     "metadata": {},
     "output_type": "execute_result"
    },
    {
     "data": {
      "image/png": "[encoded data removed]",
      "text/plain": [
       "<Figure size 432x288 with 1 Axes>"
      ]
     },
     "metadata": {
      "needs_background": "light"
     },
     "output_type": "display_data"
    }
   ],
   "source": [
    "airline22DFPandas['OP_CARRIER'].value_counts()[:10].plot(kind='barh')"
   ]
  },
  {
   "cell_type": "code",
   "execution_count": 78,
   "metadata": {},
   "outputs": [
    {
     "data": {
      "text/plain": [
       "Text(0.5, 1.0, 'CANCELLATIONS COUNT PER PART OF DAY (DEPARTURE)')"
      ]
     },
     "execution_count": 78,
     "metadata": {},
     "output_type": "execute_result"
    },
    {
     "data": {
      "image/png": "[encoded data removed]",
      "text/plain": [
       "<Figure size 432x288 with 1 Axes>"
      ]
     },
     "metadata": {
      "needs_background": "light"
     },
     "output_type": "display_data"
    }
   ],
   "source": [
    "sns.countplot(data=airline22DFPandas,x='DEP_PARTOFDAY',hue='CANCELLED').set_title(\"CANCELLATIONS COUNT PER PART OF DAY (DEPARTURE)\")"
   ]
  },
  {
   "cell_type": "code",
   "execution_count": 79,
   "metadata": {},
   "outputs": [
    {
     "data": {
      "text/plain": [
       "Text(0.5, 1.0, 'CANCELLATIONS COUNT PER PART OF DAY (ARRIVAL)')"
      ]
     },
     "execution_count": 79,
     "metadata": {},
     "output_type": "execute_result"
    },
    {
     "data": {
      "image/png": "[encoded data removed]",
      "text/plain": [
       "<Figure size 432x288 with 1 Axes>"
      ]
     },
     "metadata": {
      "needs_background": "light"
     },
     "output_type": "display_data"
    }
   ],
   "source": [
    "sns.countplot(data=airline22DFPandas,x='ARR_PARTOFDAY',hue='CANCELLED').set_title(\"CANCELLATIONS COUNT PER PART OF DAY (ARRIVAL)\")"
   ]
  },
  {
   "cell_type": "code",
   "execution_count": 80,
   "metadata": {},
   "outputs": [
    {
     "data": {
      "text/plain": [
       "Text(0.5, 1.0, 'DELAY COUNT PER PART OF DAY (DEPARTURE)')"
      ]
     },
     "execution_count": 80,
     "metadata": {},
     "output_type": "execute_result"
    },
    {
     "data": {
      "image/png": "[encoded data removed]",
      "text/plain": [
       "<Figure size 432x288 with 1 Axes>"
      ]
     },
     "metadata": {
      "needs_background": "light"
     },
     "output_type": "display_data"
    }
   ],
   "source": [
    "sns.countplot(data=airline22DFPandas,x='DEP_PARTOFDAY',hue='DELAY').set_title(\"DELAY COUNT PER PART OF DAY (DEPARTURE)\")"
   ]
  },
  {
   "cell_type": "code",
   "execution_count": 81,
   "metadata": {},
   "outputs": [
    {
     "data": {
      "text/plain": [
       "Text(0.5, 1.0, 'DELAY COUNT PER PART OF DAY (ARIVAL)')"
      ]
     },
     "execution_count": 81,
     "metadata": {},
     "output_type": "execute_result"
    },
    {
     "data": {
      "image/png": "[encoded data removed]",
      "text/plain": [
       "<Figure size 432x288 with 1 Axes>"
      ]
     },
     "metadata": {
      "needs_background": "light"
     },
     "output_type": "display_data"
    }
   ],
   "source": [
    "sns.countplot(data=airline22DFPandas,x='ARR_PARTOFDAY',hue='DELAY').set_title(\"DELAY COUNT PER PART OF DAY (ARIVAL)\")"
   ]
  },
  {
   "cell_type": "markdown",
   "metadata": {},
   "source": [
    "##### Analyzing Flight Cancellations"
   ]
  },
  {
   "cell_type": "code",
   "execution_count": 82,
   "metadata": {},
   "outputs": [],
   "source": [
    "airline22DFPandas1=airline22DFPandas.groupby([\"ORIGIN\", \"CANCELLED\"])[\"CANCELLED\"].count().reset_index(name=\"count\")"
   ]
  },
  {
   "cell_type": "code",
   "execution_count": 83,
   "metadata": {},
   "outputs": [
    {
     "name": "stdout",
     "output_type": "stream",
     "text": [
      "ORIGIN\n",
      "CANCELLED\n",
      "count\n"
     ]
    },
    {
     "data": {
      "text/html": [
       "<div>\n",
       "<style scoped>\n",
       "    .dataframe tbody tr th:only-of-type {\n",
       "        vertical-align: middle;\n",
       "    }\n",
       "\n",
       "    .dataframe tbody tr th {\n",
       "        vertical-align: top;\n",
       "    }\n",
       "\n",
       "    .dataframe thead th {\n",
       "        text-align: right;\n",
       "    }\n",
       "</style>\n",
       "<table border=\"1\" class=\"dataframe\">\n",
       "  <thead>\n",
       "    <tr style=\"text-align: right;\">\n",
       "      <th></th>\n",
       "      <th>ORIGIN</th>\n",
       "      <th>CANCELLED</th>\n",
       "      <th>count</th>\n",
       "    </tr>\n",
       "  </thead>\n",
       "  <tbody>\n",
       "    <tr>\n",
       "      <th>0</th>\n",
       "      <td>ABE</td>\n",
       "      <td>0.0</td>\n",
       "      <td>2927</td>\n",
       "    </tr>\n",
       "    <tr>\n",
       "      <th>1</th>\n",
       "      <td>ABE</td>\n",
       "      <td>1.0</td>\n",
       "      <td>79</td>\n",
       "    </tr>\n",
       "    <tr>\n",
       "      <th>2</th>\n",
       "      <td>ABI</td>\n",
       "      <td>0.0</td>\n",
       "      <td>1275</td>\n",
       "    </tr>\n",
       "    <tr>\n",
       "      <th>3</th>\n",
       "      <td>ABI</td>\n",
       "      <td>1.0</td>\n",
       "      <td>35</td>\n",
       "    </tr>\n",
       "    <tr>\n",
       "      <th>4</th>\n",
       "      <td>ABQ</td>\n",
       "      <td>0.0</td>\n",
       "      <td>12903</td>\n",
       "    </tr>\n",
       "    <tr>\n",
       "      <th>...</th>\n",
       "      <td>...</td>\n",
       "      <td>...</td>\n",
       "      <td>...</td>\n",
       "    </tr>\n",
       "    <tr>\n",
       "      <th>728</th>\n",
       "      <td>YAK</td>\n",
       "      <td>1.0</td>\n",
       "      <td>25</td>\n",
       "    </tr>\n",
       "    <tr>\n",
       "      <th>729</th>\n",
       "      <td>YKM</td>\n",
       "      <td>0.0</td>\n",
       "      <td>469</td>\n",
       "    </tr>\n",
       "    <tr>\n",
       "      <th>730</th>\n",
       "      <td>YKM</td>\n",
       "      <td>1.0</td>\n",
       "      <td>17</td>\n",
       "    </tr>\n",
       "    <tr>\n",
       "      <th>731</th>\n",
       "      <td>YUM</td>\n",
       "      <td>0.0</td>\n",
       "      <td>1095</td>\n",
       "    </tr>\n",
       "    <tr>\n",
       "      <th>732</th>\n",
       "      <td>YUM</td>\n",
       "      <td>1.0</td>\n",
       "      <td>16</td>\n",
       "    </tr>\n",
       "  </tbody>\n",
       "</table>\n",
       "<p>733 rows × 3 columns</p>\n",
       "</div>"
      ],
      "text/plain": [
       "    ORIGIN  CANCELLED  count\n",
       "0      ABE        0.0   2927\n",
       "1      ABE        1.0     79\n",
       "2      ABI        0.0   1275\n",
       "3      ABI        1.0     35\n",
       "4      ABQ        0.0  12903\n",
       "..     ...        ...    ...\n",
       "728    YAK        1.0     25\n",
       "729    YKM        0.0    469\n",
       "730    YKM        1.0     17\n",
       "731    YUM        0.0   1095\n",
       "732    YUM        1.0     16\n",
       "\n",
       "[733 rows x 3 columns]"
      ]
     },
     "execution_count": 83,
     "metadata": {},
     "output_type": "execute_result"
    }
   ],
   "source": [
    "type(airline22DFPandas1)\n",
    "for col in airline22DFPandas1.columns:\n",
    "    print(col)\n",
    "airline22DFPandas1"
   ]
  },
  {
   "cell_type": "code",
   "execution_count": 84,
   "metadata": {},
   "outputs": [
    {
     "data": {
      "text/html": [
       "<div>\n",
       "<style scoped>\n",
       "    .dataframe tbody tr th:only-of-type {\n",
       "        vertical-align: middle;\n",
       "    }\n",
       "\n",
       "    .dataframe tbody tr th {\n",
       "        vertical-align: top;\n",
       "    }\n",
       "\n",
       "    .dataframe thead th {\n",
       "        text-align: right;\n",
       "    }\n",
       "</style>\n",
       "<table border=\"1\" class=\"dataframe\">\n",
       "  <thead>\n",
       "    <tr style=\"text-align: right;\">\n",
       "      <th></th>\n",
       "      <th>ORIGIN</th>\n",
       "      <th>CANCELLED</th>\n",
       "      <th>count</th>\n",
       "    </tr>\n",
       "  </thead>\n",
       "  <tbody>\n",
       "    <tr>\n",
       "      <th>404</th>\n",
       "      <td>LGA</td>\n",
       "      <td>1.0</td>\n",
       "      <td>7367</td>\n",
       "    </tr>\n",
       "    <tr>\n",
       "      <th>192</th>\n",
       "      <td>DFW</td>\n",
       "      <td>1.0</td>\n",
       "      <td>6662</td>\n",
       "    </tr>\n",
       "    <tr>\n",
       "      <th>504</th>\n",
       "      <td>ORD</td>\n",
       "      <td>1.0</td>\n",
       "      <td>5795</td>\n",
       "    </tr>\n",
       "    <tr>\n",
       "      <th>238</th>\n",
       "      <td>EWR</td>\n",
       "      <td>1.0</td>\n",
       "      <td>5410</td>\n",
       "    </tr>\n",
       "    <tr>\n",
       "      <th>184</th>\n",
       "      <td>DCA</td>\n",
       "      <td>1.0</td>\n",
       "      <td>4722</td>\n",
       "    </tr>\n",
       "    <tr>\n",
       "      <th>...</th>\n",
       "      <td>...</td>\n",
       "      <td>...</td>\n",
       "      <td>...</td>\n",
       "    </tr>\n",
       "    <tr>\n",
       "      <th>411</th>\n",
       "      <td>LNK</td>\n",
       "      <td>0.0</td>\n",
       "      <td>32</td>\n",
       "    </tr>\n",
       "    <tr>\n",
       "      <th>489</th>\n",
       "      <td>OGD</td>\n",
       "      <td>0.0</td>\n",
       "      <td>27</td>\n",
       "    </tr>\n",
       "    <tr>\n",
       "      <th>195</th>\n",
       "      <td>DIK</td>\n",
       "      <td>0.0</td>\n",
       "      <td>7</td>\n",
       "    </tr>\n",
       "    <tr>\n",
       "      <th>48</th>\n",
       "      <td>ATY</td>\n",
       "      <td>0.0</td>\n",
       "      <td>2</td>\n",
       "    </tr>\n",
       "    <tr>\n",
       "      <th>540</th>\n",
       "      <td>PIR</td>\n",
       "      <td>0.0</td>\n",
       "      <td>2</td>\n",
       "    </tr>\n",
       "  </tbody>\n",
       "</table>\n",
       "<p>733 rows × 3 columns</p>\n",
       "</div>"
      ],
      "text/plain": [
       "    ORIGIN  CANCELLED  count\n",
       "404    LGA        1.0   7367\n",
       "192    DFW        1.0   6662\n",
       "504    ORD        1.0   5795\n",
       "238    EWR        1.0   5410\n",
       "184    DCA        1.0   4722\n",
       "..     ...        ...    ...\n",
       "411    LNK        0.0     32\n",
       "489    OGD        0.0     27\n",
       "195    DIK        0.0      7\n",
       "48     ATY        0.0      2\n",
       "540    PIR        0.0      2\n",
       "\n",
       "[733 rows x 3 columns]"
      ]
     },
     "execution_count": 84,
     "metadata": {},
     "output_type": "execute_result"
    }
   ],
   "source": [
    "airline22DFPandas1 = airline22DFPandas1.sort_values(by = ['CANCELLED', 'count'], ascending = [False, False])\n",
    "airline22DFPandas1"
   ]
  },
  {
   "cell_type": "code",
   "execution_count": 85,
   "metadata": {},
   "outputs": [],
   "source": [
    "airline22DFPandas11 = airline22DFPandas1\n",
    "airline22DFPandas11 = airline22DFPandas11.loc[airline22DFPandas11['CANCELLED'] == 1] #Flights Cancelled per Origin"
   ]
  },
  {
   "cell_type": "code",
   "execution_count": 86,
   "metadata": {},
   "outputs": [
    {
     "data": {
      "text/html": [
       "<div>\n",
       "<style scoped>\n",
       "    .dataframe tbody tr th:only-of-type {\n",
       "        vertical-align: middle;\n",
       "    }\n",
       "\n",
       "    .dataframe tbody tr th {\n",
       "        vertical-align: top;\n",
       "    }\n",
       "\n",
       "    .dataframe thead th {\n",
       "        text-align: right;\n",
       "    }\n",
       "</style>\n",
       "<table border=\"1\" class=\"dataframe\">\n",
       "  <thead>\n",
       "    <tr style=\"text-align: right;\">\n",
       "      <th></th>\n",
       "      <th>ORIGIN</th>\n",
       "      <th>CANCELLED</th>\n",
       "      <th>count</th>\n",
       "    </tr>\n",
       "  </thead>\n",
       "  <tbody>\n",
       "    <tr>\n",
       "      <th>404</th>\n",
       "      <td>LGA</td>\n",
       "      <td>1.0</td>\n",
       "      <td>7367</td>\n",
       "    </tr>\n",
       "    <tr>\n",
       "      <th>192</th>\n",
       "      <td>DFW</td>\n",
       "      <td>1.0</td>\n",
       "      <td>6662</td>\n",
       "    </tr>\n",
       "    <tr>\n",
       "      <th>504</th>\n",
       "      <td>ORD</td>\n",
       "      <td>1.0</td>\n",
       "      <td>5795</td>\n",
       "    </tr>\n",
       "    <tr>\n",
       "      <th>238</th>\n",
       "      <td>EWR</td>\n",
       "      <td>1.0</td>\n",
       "      <td>5410</td>\n",
       "    </tr>\n",
       "    <tr>\n",
       "      <th>184</th>\n",
       "      <td>DCA</td>\n",
       "      <td>1.0</td>\n",
       "      <td>4722</td>\n",
       "    </tr>\n",
       "    <tr>\n",
       "      <th>...</th>\n",
       "      <td>...</td>\n",
       "      <td>...</td>\n",
       "      <td>...</td>\n",
       "    </tr>\n",
       "    <tr>\n",
       "      <th>550</th>\n",
       "      <td>PRC</td>\n",
       "      <td>1.0</td>\n",
       "      <td>2</td>\n",
       "    </tr>\n",
       "    <tr>\n",
       "      <th>302</th>\n",
       "      <td>GUM</td>\n",
       "      <td>1.0</td>\n",
       "      <td>1</td>\n",
       "    </tr>\n",
       "    <tr>\n",
       "      <th>541</th>\n",
       "      <td>PIR</td>\n",
       "      <td>1.0</td>\n",
       "      <td>1</td>\n",
       "    </tr>\n",
       "    <tr>\n",
       "      <th>665</th>\n",
       "      <td>STC</td>\n",
       "      <td>1.0</td>\n",
       "      <td>1</td>\n",
       "    </tr>\n",
       "    <tr>\n",
       "      <th>722</th>\n",
       "      <td>WYS</td>\n",
       "      <td>1.0</td>\n",
       "      <td>1</td>\n",
       "    </tr>\n",
       "  </tbody>\n",
       "</table>\n",
       "<p>363 rows × 3 columns</p>\n",
       "</div>"
      ],
      "text/plain": [
       "    ORIGIN  CANCELLED  count\n",
       "404    LGA        1.0   7367\n",
       "192    DFW        1.0   6662\n",
       "504    ORD        1.0   5795\n",
       "238    EWR        1.0   5410\n",
       "184    DCA        1.0   4722\n",
       "..     ...        ...    ...\n",
       "550    PRC        1.0      2\n",
       "302    GUM        1.0      1\n",
       "541    PIR        1.0      1\n",
       "665    STC        1.0      1\n",
       "722    WYS        1.0      1\n",
       "\n",
       "[363 rows x 3 columns]"
      ]
     },
     "execution_count": 86,
     "metadata": {},
     "output_type": "execute_result"
    }
   ],
   "source": [
    "airline22DFPandas11"
   ]
  },
  {
   "cell_type": "code",
   "execution_count": 87,
   "metadata": {},
   "outputs": [
    {
     "data": {
      "text/html": [
       "<div>\n",
       "<style scoped>\n",
       "    .dataframe tbody tr th:only-of-type {\n",
       "        vertical-align: middle;\n",
       "    }\n",
       "\n",
       "    .dataframe tbody tr th {\n",
       "        vertical-align: top;\n",
       "    }\n",
       "\n",
       "    .dataframe thead th {\n",
       "        text-align: right;\n",
       "    }\n",
       "</style>\n",
       "<table border=\"1\" class=\"dataframe\">\n",
       "  <thead>\n",
       "    <tr style=\"text-align: right;\">\n",
       "      <th></th>\n",
       "      <th>ORIGIN</th>\n",
       "      <th>CANCELLED</th>\n",
       "      <th>count</th>\n",
       "    </tr>\n",
       "  </thead>\n",
       "  <tbody>\n",
       "    <tr>\n",
       "      <th>44</th>\n",
       "      <td>ATL</td>\n",
       "      <td>0.0</td>\n",
       "      <td>207465</td>\n",
       "    </tr>\n",
       "    <tr>\n",
       "      <th>191</th>\n",
       "      <td>DFW</td>\n",
       "      <td>0.0</td>\n",
       "      <td>179491</td>\n",
       "    </tr>\n",
       "    <tr>\n",
       "      <th>189</th>\n",
       "      <td>DEN</td>\n",
       "      <td>0.0</td>\n",
       "      <td>173271</td>\n",
       "    </tr>\n",
       "    <tr>\n",
       "      <th>503</th>\n",
       "      <td>ORD</td>\n",
       "      <td>0.0</td>\n",
       "      <td>168837</td>\n",
       "    </tr>\n",
       "    <tr>\n",
       "      <th>385</th>\n",
       "      <td>LAX</td>\n",
       "      <td>0.0</td>\n",
       "      <td>126635</td>\n",
       "    </tr>\n",
       "    <tr>\n",
       "      <th>...</th>\n",
       "      <td>...</td>\n",
       "      <td>...</td>\n",
       "      <td>...</td>\n",
       "    </tr>\n",
       "    <tr>\n",
       "      <th>411</th>\n",
       "      <td>LNK</td>\n",
       "      <td>0.0</td>\n",
       "      <td>32</td>\n",
       "    </tr>\n",
       "    <tr>\n",
       "      <th>489</th>\n",
       "      <td>OGD</td>\n",
       "      <td>0.0</td>\n",
       "      <td>27</td>\n",
       "    </tr>\n",
       "    <tr>\n",
       "      <th>195</th>\n",
       "      <td>DIK</td>\n",
       "      <td>0.0</td>\n",
       "      <td>7</td>\n",
       "    </tr>\n",
       "    <tr>\n",
       "      <th>48</th>\n",
       "      <td>ATY</td>\n",
       "      <td>0.0</td>\n",
       "      <td>2</td>\n",
       "    </tr>\n",
       "    <tr>\n",
       "      <th>540</th>\n",
       "      <td>PIR</td>\n",
       "      <td>0.0</td>\n",
       "      <td>2</td>\n",
       "    </tr>\n",
       "  </tbody>\n",
       "</table>\n",
       "<p>370 rows × 3 columns</p>\n",
       "</div>"
      ],
      "text/plain": [
       "    ORIGIN  CANCELLED   count\n",
       "44     ATL        0.0  207465\n",
       "191    DFW        0.0  179491\n",
       "189    DEN        0.0  173271\n",
       "503    ORD        0.0  168837\n",
       "385    LAX        0.0  126635\n",
       "..     ...        ...     ...\n",
       "411    LNK        0.0      32\n",
       "489    OGD        0.0      27\n",
       "195    DIK        0.0       7\n",
       "48     ATY        0.0       2\n",
       "540    PIR        0.0       2\n",
       "\n",
       "[370 rows x 3 columns]"
      ]
     },
     "execution_count": 87,
     "metadata": {},
     "output_type": "execute_result"
    }
   ],
   "source": [
    "airline22DFPandas10 = airline22DFPandas1\n",
    "airline22DFPandas10 = airline22DFPandas10.loc[airline22DFPandas10['CANCELLED'] == 0] #Flights Not Cancelled per Origin\n",
    "airline22DFPandas10"
   ]
  },
  {
   "cell_type": "code",
   "execution_count": 88,
   "metadata": {},
   "outputs": [
    {
     "name": "stdout",
     "output_type": "stream",
     "text": [
      "OP_CARRIER\n",
      "CANCELLED\n",
      "count\n"
     ]
    },
    {
     "data": {
      "text/html": [
       "<div>\n",
       "<style scoped>\n",
       "    .dataframe tbody tr th:only-of-type {\n",
       "        vertical-align: middle;\n",
       "    }\n",
       "\n",
       "    .dataframe tbody tr th {\n",
       "        vertical-align: top;\n",
       "    }\n",
       "\n",
       "    .dataframe thead th {\n",
       "        text-align: right;\n",
       "    }\n",
       "</style>\n",
       "<table border=\"1\" class=\"dataframe\">\n",
       "  <thead>\n",
       "    <tr style=\"text-align: right;\">\n",
       "      <th></th>\n",
       "      <th>OP_CARRIER</th>\n",
       "      <th>CANCELLED</th>\n",
       "      <th>count</th>\n",
       "    </tr>\n",
       "  </thead>\n",
       "  <tbody>\n",
       "    <tr>\n",
       "      <th>0</th>\n",
       "      <td>9E</td>\n",
       "      <td>0.0</td>\n",
       "      <td>155601</td>\n",
       "    </tr>\n",
       "    <tr>\n",
       "      <th>1</th>\n",
       "      <td>9E</td>\n",
       "      <td>1.0</td>\n",
       "      <td>6838</td>\n",
       "    </tr>\n",
       "    <tr>\n",
       "      <th>2</th>\n",
       "      <td>AA</td>\n",
       "      <td>0.0</td>\n",
       "      <td>552242</td>\n",
       "    </tr>\n",
       "    <tr>\n",
       "      <th>3</th>\n",
       "      <td>AA</td>\n",
       "      <td>1.0</td>\n",
       "      <td>22038</td>\n",
       "    </tr>\n",
       "    <tr>\n",
       "      <th>4</th>\n",
       "      <td>AS</td>\n",
       "      <td>0.0</td>\n",
       "      <td>146152</td>\n",
       "    </tr>\n",
       "    <tr>\n",
       "      <th>5</th>\n",
       "      <td>AS</td>\n",
       "      <td>1.0</td>\n",
       "      <td>3872</td>\n",
       "    </tr>\n",
       "    <tr>\n",
       "      <th>6</th>\n",
       "      <td>B6</td>\n",
       "      <td>0.0</td>\n",
       "      <td>171711</td>\n",
       "    </tr>\n",
       "    <tr>\n",
       "      <th>7</th>\n",
       "      <td>B6</td>\n",
       "      <td>1.0</td>\n",
       "      <td>8182</td>\n",
       "    </tr>\n",
       "    <tr>\n",
       "      <th>8</th>\n",
       "      <td>DL</td>\n",
       "      <td>0.0</td>\n",
       "      <td>579874</td>\n",
       "    </tr>\n",
       "    <tr>\n",
       "      <th>9</th>\n",
       "      <td>DL</td>\n",
       "      <td>1.0</td>\n",
       "      <td>10913</td>\n",
       "    </tr>\n",
       "    <tr>\n",
       "      <th>10</th>\n",
       "      <td>F9</td>\n",
       "      <td>0.0</td>\n",
       "      <td>97267</td>\n",
       "    </tr>\n",
       "    <tr>\n",
       "      <th>11</th>\n",
       "      <td>F9</td>\n",
       "      <td>1.0</td>\n",
       "      <td>2627</td>\n",
       "    </tr>\n",
       "    <tr>\n",
       "      <th>12</th>\n",
       "      <td>G4</td>\n",
       "      <td>0.0</td>\n",
       "      <td>79792</td>\n",
       "    </tr>\n",
       "    <tr>\n",
       "      <th>13</th>\n",
       "      <td>G4</td>\n",
       "      <td>1.0</td>\n",
       "      <td>2994</td>\n",
       "    </tr>\n",
       "    <tr>\n",
       "      <th>14</th>\n",
       "      <td>HA</td>\n",
       "      <td>0.0</td>\n",
       "      <td>48366</td>\n",
       "    </tr>\n",
       "    <tr>\n",
       "      <th>15</th>\n",
       "      <td>HA</td>\n",
       "      <td>1.0</td>\n",
       "      <td>360</td>\n",
       "    </tr>\n",
       "    <tr>\n",
       "      <th>16</th>\n",
       "      <td>MQ</td>\n",
       "      <td>0.0</td>\n",
       "      <td>168158</td>\n",
       "    </tr>\n",
       "    <tr>\n",
       "      <th>17</th>\n",
       "      <td>MQ</td>\n",
       "      <td>1.0</td>\n",
       "      <td>4493</td>\n",
       "    </tr>\n",
       "    <tr>\n",
       "      <th>18</th>\n",
       "      <td>NK</td>\n",
       "      <td>0.0</td>\n",
       "      <td>144415</td>\n",
       "    </tr>\n",
       "    <tr>\n",
       "      <th>19</th>\n",
       "      <td>NK</td>\n",
       "      <td>1.0</td>\n",
       "      <td>4374</td>\n",
       "    </tr>\n",
       "    <tr>\n",
       "      <th>20</th>\n",
       "      <td>OH</td>\n",
       "      <td>0.0</td>\n",
       "      <td>147516</td>\n",
       "    </tr>\n",
       "    <tr>\n",
       "      <th>21</th>\n",
       "      <td>OH</td>\n",
       "      <td>1.0</td>\n",
       "      <td>5761</td>\n",
       "    </tr>\n",
       "    <tr>\n",
       "      <th>22</th>\n",
       "      <td>OO</td>\n",
       "      <td>0.0</td>\n",
       "      <td>494275</td>\n",
       "    </tr>\n",
       "    <tr>\n",
       "      <th>23</th>\n",
       "      <td>OO</td>\n",
       "      <td>1.0</td>\n",
       "      <td>10255</td>\n",
       "    </tr>\n",
       "    <tr>\n",
       "      <th>24</th>\n",
       "      <td>QX</td>\n",
       "      <td>0.0</td>\n",
       "      <td>63568</td>\n",
       "    </tr>\n",
       "    <tr>\n",
       "      <th>25</th>\n",
       "      <td>QX</td>\n",
       "      <td>1.0</td>\n",
       "      <td>998</td>\n",
       "    </tr>\n",
       "    <tr>\n",
       "      <th>26</th>\n",
       "      <td>UA</td>\n",
       "      <td>0.0</td>\n",
       "      <td>397663</td>\n",
       "    </tr>\n",
       "    <tr>\n",
       "      <th>27</th>\n",
       "      <td>UA</td>\n",
       "      <td>1.0</td>\n",
       "      <td>9264</td>\n",
       "    </tr>\n",
       "    <tr>\n",
       "      <th>28</th>\n",
       "      <td>WN</td>\n",
       "      <td>0.0</td>\n",
       "      <td>829493</td>\n",
       "    </tr>\n",
       "    <tr>\n",
       "      <th>29</th>\n",
       "      <td>WN</td>\n",
       "      <td>1.0</td>\n",
       "      <td>21321</td>\n",
       "    </tr>\n",
       "    <tr>\n",
       "      <th>30</th>\n",
       "      <td>YV</td>\n",
       "      <td>0.0</td>\n",
       "      <td>77513</td>\n",
       "    </tr>\n",
       "    <tr>\n",
       "      <th>31</th>\n",
       "      <td>YV</td>\n",
       "      <td>1.0</td>\n",
       "      <td>3383</td>\n",
       "    </tr>\n",
       "    <tr>\n",
       "      <th>32</th>\n",
       "      <td>YX</td>\n",
       "      <td>0.0</td>\n",
       "      <td>211249</td>\n",
       "    </tr>\n",
       "    <tr>\n",
       "      <th>33</th>\n",
       "      <td>YX</td>\n",
       "      <td>1.0</td>\n",
       "      <td>13311</td>\n",
       "    </tr>\n",
       "  </tbody>\n",
       "</table>\n",
       "</div>"
      ],
      "text/plain": [
       "   OP_CARRIER  CANCELLED   count\n",
       "0          9E        0.0  155601\n",
       "1          9E        1.0    6838\n",
       "2          AA        0.0  552242\n",
       "3          AA        1.0   22038\n",
       "4          AS        0.0  146152\n",
       "5          AS        1.0    3872\n",
       "6          B6        0.0  171711\n",
       "7          B6        1.0    8182\n",
       "8          DL        0.0  579874\n",
       "9          DL        1.0   10913\n",
       "10         F9        0.0   97267\n",
       "11         F9        1.0    2627\n",
       "12         G4        0.0   79792\n",
       "13         G4        1.0    2994\n",
       "14         HA        0.0   48366\n",
       "15         HA        1.0     360\n",
       "16         MQ        0.0  168158\n",
       "17         MQ        1.0    4493\n",
       "18         NK        0.0  144415\n",
       "19         NK        1.0    4374\n",
       "20         OH        0.0  147516\n",
       "21         OH        1.0    5761\n",
       "22         OO        0.0  494275\n",
       "23         OO        1.0   10255\n",
       "24         QX        0.0   63568\n",
       "25         QX        1.0     998\n",
       "26         UA        0.0  397663\n",
       "27         UA        1.0    9264\n",
       "28         WN        0.0  829493\n",
       "29         WN        1.0   21321\n",
       "30         YV        0.0   77513\n",
       "31         YV        1.0    3383\n",
       "32         YX        0.0  211249\n",
       "33         YX        1.0   13311"
      ]
     },
     "execution_count": 88,
     "metadata": {},
     "output_type": "execute_result"
    }
   ],
   "source": [
    "airline22DFPandas2=airline22DFPandas.groupby([\"OP_CARRIER\", \"CANCELLED\"])[\"CANCELLED\"].count().reset_index(name=\"count\")\n",
    "type(airline22DFPandas2)\n",
    "for col in airline22DFPandas2.columns:\n",
    "    print(col)\n",
    "airline22DFPandas2"
   ]
  },
  {
   "cell_type": "code",
   "execution_count": 89,
   "metadata": {},
   "outputs": [
    {
     "data": {
      "text/html": [
       "<div>\n",
       "<style scoped>\n",
       "    .dataframe tbody tr th:only-of-type {\n",
       "        vertical-align: middle;\n",
       "    }\n",
       "\n",
       "    .dataframe tbody tr th {\n",
       "        vertical-align: top;\n",
       "    }\n",
       "\n",
       "    .dataframe thead th {\n",
       "        text-align: right;\n",
       "    }\n",
       "</style>\n",
       "<table border=\"1\" class=\"dataframe\">\n",
       "  <thead>\n",
       "    <tr style=\"text-align: right;\">\n",
       "      <th></th>\n",
       "      <th>OP_CARRIER</th>\n",
       "      <th>CANCELLED</th>\n",
       "      <th>count</th>\n",
       "    </tr>\n",
       "  </thead>\n",
       "  <tbody>\n",
       "    <tr>\n",
       "      <th>3</th>\n",
       "      <td>AA</td>\n",
       "      <td>1.0</td>\n",
       "      <td>22038</td>\n",
       "    </tr>\n",
       "    <tr>\n",
       "      <th>29</th>\n",
       "      <td>WN</td>\n",
       "      <td>1.0</td>\n",
       "      <td>21321</td>\n",
       "    </tr>\n",
       "    <tr>\n",
       "      <th>33</th>\n",
       "      <td>YX</td>\n",
       "      <td>1.0</td>\n",
       "      <td>13311</td>\n",
       "    </tr>\n",
       "    <tr>\n",
       "      <th>9</th>\n",
       "      <td>DL</td>\n",
       "      <td>1.0</td>\n",
       "      <td>10913</td>\n",
       "    </tr>\n",
       "    <tr>\n",
       "      <th>23</th>\n",
       "      <td>OO</td>\n",
       "      <td>1.0</td>\n",
       "      <td>10255</td>\n",
       "    </tr>\n",
       "    <tr>\n",
       "      <th>27</th>\n",
       "      <td>UA</td>\n",
       "      <td>1.0</td>\n",
       "      <td>9264</td>\n",
       "    </tr>\n",
       "    <tr>\n",
       "      <th>7</th>\n",
       "      <td>B6</td>\n",
       "      <td>1.0</td>\n",
       "      <td>8182</td>\n",
       "    </tr>\n",
       "    <tr>\n",
       "      <th>1</th>\n",
       "      <td>9E</td>\n",
       "      <td>1.0</td>\n",
       "      <td>6838</td>\n",
       "    </tr>\n",
       "    <tr>\n",
       "      <th>21</th>\n",
       "      <td>OH</td>\n",
       "      <td>1.0</td>\n",
       "      <td>5761</td>\n",
       "    </tr>\n",
       "    <tr>\n",
       "      <th>17</th>\n",
       "      <td>MQ</td>\n",
       "      <td>1.0</td>\n",
       "      <td>4493</td>\n",
       "    </tr>\n",
       "    <tr>\n",
       "      <th>19</th>\n",
       "      <td>NK</td>\n",
       "      <td>1.0</td>\n",
       "      <td>4374</td>\n",
       "    </tr>\n",
       "    <tr>\n",
       "      <th>5</th>\n",
       "      <td>AS</td>\n",
       "      <td>1.0</td>\n",
       "      <td>3872</td>\n",
       "    </tr>\n",
       "    <tr>\n",
       "      <th>31</th>\n",
       "      <td>YV</td>\n",
       "      <td>1.0</td>\n",
       "      <td>3383</td>\n",
       "    </tr>\n",
       "    <tr>\n",
       "      <th>13</th>\n",
       "      <td>G4</td>\n",
       "      <td>1.0</td>\n",
       "      <td>2994</td>\n",
       "    </tr>\n",
       "    <tr>\n",
       "      <th>11</th>\n",
       "      <td>F9</td>\n",
       "      <td>1.0</td>\n",
       "      <td>2627</td>\n",
       "    </tr>\n",
       "    <tr>\n",
       "      <th>25</th>\n",
       "      <td>QX</td>\n",
       "      <td>1.0</td>\n",
       "      <td>998</td>\n",
       "    </tr>\n",
       "    <tr>\n",
       "      <th>15</th>\n",
       "      <td>HA</td>\n",
       "      <td>1.0</td>\n",
       "      <td>360</td>\n",
       "    </tr>\n",
       "    <tr>\n",
       "      <th>28</th>\n",
       "      <td>WN</td>\n",
       "      <td>0.0</td>\n",
       "      <td>829493</td>\n",
       "    </tr>\n",
       "    <tr>\n",
       "      <th>8</th>\n",
       "      <td>DL</td>\n",
       "      <td>0.0</td>\n",
       "      <td>579874</td>\n",
       "    </tr>\n",
       "    <tr>\n",
       "      <th>2</th>\n",
       "      <td>AA</td>\n",
       "      <td>0.0</td>\n",
       "      <td>552242</td>\n",
       "    </tr>\n",
       "    <tr>\n",
       "      <th>22</th>\n",
       "      <td>OO</td>\n",
       "      <td>0.0</td>\n",
       "      <td>494275</td>\n",
       "    </tr>\n",
       "    <tr>\n",
       "      <th>26</th>\n",
       "      <td>UA</td>\n",
       "      <td>0.0</td>\n",
       "      <td>397663</td>\n",
       "    </tr>\n",
       "    <tr>\n",
       "      <th>32</th>\n",
       "      <td>YX</td>\n",
       "      <td>0.0</td>\n",
       "      <td>211249</td>\n",
       "    </tr>\n",
       "    <tr>\n",
       "      <th>6</th>\n",
       "      <td>B6</td>\n",
       "      <td>0.0</td>\n",
       "      <td>171711</td>\n",
       "    </tr>\n",
       "    <tr>\n",
       "      <th>16</th>\n",
       "      <td>MQ</td>\n",
       "      <td>0.0</td>\n",
       "      <td>168158</td>\n",
       "    </tr>\n",
       "    <tr>\n",
       "      <th>0</th>\n",
       "      <td>9E</td>\n",
       "      <td>0.0</td>\n",
       "      <td>155601</td>\n",
       "    </tr>\n",
       "    <tr>\n",
       "      <th>20</th>\n",
       "      <td>OH</td>\n",
       "      <td>0.0</td>\n",
       "      <td>147516</td>\n",
       "    </tr>\n",
       "    <tr>\n",
       "      <th>4</th>\n",
       "      <td>AS</td>\n",
       "      <td>0.0</td>\n",
       "      <td>146152</td>\n",
       "    </tr>\n",
       "    <tr>\n",
       "      <th>18</th>\n",
       "      <td>NK</td>\n",
       "      <td>0.0</td>\n",
       "      <td>144415</td>\n",
       "    </tr>\n",
       "    <tr>\n",
       "      <th>10</th>\n",
       "      <td>F9</td>\n",
       "      <td>0.0</td>\n",
       "      <td>97267</td>\n",
       "    </tr>\n",
       "    <tr>\n",
       "      <th>12</th>\n",
       "      <td>G4</td>\n",
       "      <td>0.0</td>\n",
       "      <td>79792</td>\n",
       "    </tr>\n",
       "    <tr>\n",
       "      <th>30</th>\n",
       "      <td>YV</td>\n",
       "      <td>0.0</td>\n",
       "      <td>77513</td>\n",
       "    </tr>\n",
       "    <tr>\n",
       "      <th>24</th>\n",
       "      <td>QX</td>\n",
       "      <td>0.0</td>\n",
       "      <td>63568</td>\n",
       "    </tr>\n",
       "    <tr>\n",
       "      <th>14</th>\n",
       "      <td>HA</td>\n",
       "      <td>0.0</td>\n",
       "      <td>48366</td>\n",
       "    </tr>\n",
       "  </tbody>\n",
       "</table>\n",
       "</div>"
      ],
      "text/plain": [
       "   OP_CARRIER  CANCELLED   count\n",
       "3          AA        1.0   22038\n",
       "29         WN        1.0   21321\n",
       "33         YX        1.0   13311\n",
       "9          DL        1.0   10913\n",
       "23         OO        1.0   10255\n",
       "27         UA        1.0    9264\n",
       "7          B6        1.0    8182\n",
       "1          9E        1.0    6838\n",
       "21         OH        1.0    5761\n",
       "17         MQ        1.0    4493\n",
       "19         NK        1.0    4374\n",
       "5          AS        1.0    3872\n",
       "31         YV        1.0    3383\n",
       "13         G4        1.0    2994\n",
       "11         F9        1.0    2627\n",
       "25         QX        1.0     998\n",
       "15         HA        1.0     360\n",
       "28         WN        0.0  829493\n",
       "8          DL        0.0  579874\n",
       "2          AA        0.0  552242\n",
       "22         OO        0.0  494275\n",
       "26         UA        0.0  397663\n",
       "32         YX        0.0  211249\n",
       "6          B6        0.0  171711\n",
       "16         MQ        0.0  168158\n",
       "0          9E        0.0  155601\n",
       "20         OH        0.0  147516\n",
       "4          AS        0.0  146152\n",
       "18         NK        0.0  144415\n",
       "10         F9        0.0   97267\n",
       "12         G4        0.0   79792\n",
       "30         YV        0.0   77513\n",
       "24         QX        0.0   63568\n",
       "14         HA        0.0   48366"
      ]
     },
     "execution_count": 89,
     "metadata": {},
     "output_type": "execute_result"
    }
   ],
   "source": [
    "airline22DFPandas2 = airline22DFPandas2.sort_values(by = ['CANCELLED', 'count'], ascending = [False, False])\n",
    "airline22DFPandas2"
   ]
  },
  {
   "cell_type": "code",
   "execution_count": 90,
   "metadata": {},
   "outputs": [
    {
     "data": {
      "text/html": [
       "<div>\n",
       "<style scoped>\n",
       "    .dataframe tbody tr th:only-of-type {\n",
       "        vertical-align: middle;\n",
       "    }\n",
       "\n",
       "    .dataframe tbody tr th {\n",
       "        vertical-align: top;\n",
       "    }\n",
       "\n",
       "    .dataframe thead th {\n",
       "        text-align: right;\n",
       "    }\n",
       "</style>\n",
       "<table border=\"1\" class=\"dataframe\">\n",
       "  <thead>\n",
       "    <tr style=\"text-align: right;\">\n",
       "      <th></th>\n",
       "      <th>OP_CARRIER</th>\n",
       "      <th>CANCELLED</th>\n",
       "      <th>count</th>\n",
       "    </tr>\n",
       "  </thead>\n",
       "  <tbody>\n",
       "    <tr>\n",
       "      <th>28</th>\n",
       "      <td>WN</td>\n",
       "      <td>0.0</td>\n",
       "      <td>829493</td>\n",
       "    </tr>\n",
       "    <tr>\n",
       "      <th>8</th>\n",
       "      <td>DL</td>\n",
       "      <td>0.0</td>\n",
       "      <td>579874</td>\n",
       "    </tr>\n",
       "    <tr>\n",
       "      <th>2</th>\n",
       "      <td>AA</td>\n",
       "      <td>0.0</td>\n",
       "      <td>552242</td>\n",
       "    </tr>\n",
       "    <tr>\n",
       "      <th>22</th>\n",
       "      <td>OO</td>\n",
       "      <td>0.0</td>\n",
       "      <td>494275</td>\n",
       "    </tr>\n",
       "    <tr>\n",
       "      <th>26</th>\n",
       "      <td>UA</td>\n",
       "      <td>0.0</td>\n",
       "      <td>397663</td>\n",
       "    </tr>\n",
       "    <tr>\n",
       "      <th>32</th>\n",
       "      <td>YX</td>\n",
       "      <td>0.0</td>\n",
       "      <td>211249</td>\n",
       "    </tr>\n",
       "    <tr>\n",
       "      <th>6</th>\n",
       "      <td>B6</td>\n",
       "      <td>0.0</td>\n",
       "      <td>171711</td>\n",
       "    </tr>\n",
       "    <tr>\n",
       "      <th>16</th>\n",
       "      <td>MQ</td>\n",
       "      <td>0.0</td>\n",
       "      <td>168158</td>\n",
       "    </tr>\n",
       "    <tr>\n",
       "      <th>0</th>\n",
       "      <td>9E</td>\n",
       "      <td>0.0</td>\n",
       "      <td>155601</td>\n",
       "    </tr>\n",
       "    <tr>\n",
       "      <th>20</th>\n",
       "      <td>OH</td>\n",
       "      <td>0.0</td>\n",
       "      <td>147516</td>\n",
       "    </tr>\n",
       "    <tr>\n",
       "      <th>4</th>\n",
       "      <td>AS</td>\n",
       "      <td>0.0</td>\n",
       "      <td>146152</td>\n",
       "    </tr>\n",
       "    <tr>\n",
       "      <th>18</th>\n",
       "      <td>NK</td>\n",
       "      <td>0.0</td>\n",
       "      <td>144415</td>\n",
       "    </tr>\n",
       "    <tr>\n",
       "      <th>10</th>\n",
       "      <td>F9</td>\n",
       "      <td>0.0</td>\n",
       "      <td>97267</td>\n",
       "    </tr>\n",
       "    <tr>\n",
       "      <th>12</th>\n",
       "      <td>G4</td>\n",
       "      <td>0.0</td>\n",
       "      <td>79792</td>\n",
       "    </tr>\n",
       "    <tr>\n",
       "      <th>30</th>\n",
       "      <td>YV</td>\n",
       "      <td>0.0</td>\n",
       "      <td>77513</td>\n",
       "    </tr>\n",
       "    <tr>\n",
       "      <th>24</th>\n",
       "      <td>QX</td>\n",
       "      <td>0.0</td>\n",
       "      <td>63568</td>\n",
       "    </tr>\n",
       "    <tr>\n",
       "      <th>14</th>\n",
       "      <td>HA</td>\n",
       "      <td>0.0</td>\n",
       "      <td>48366</td>\n",
       "    </tr>\n",
       "  </tbody>\n",
       "</table>\n",
       "</div>"
      ],
      "text/plain": [
       "   OP_CARRIER  CANCELLED   count\n",
       "28         WN        0.0  829493\n",
       "8          DL        0.0  579874\n",
       "2          AA        0.0  552242\n",
       "22         OO        0.0  494275\n",
       "26         UA        0.0  397663\n",
       "32         YX        0.0  211249\n",
       "6          B6        0.0  171711\n",
       "16         MQ        0.0  168158\n",
       "0          9E        0.0  155601\n",
       "20         OH        0.0  147516\n",
       "4          AS        0.0  146152\n",
       "18         NK        0.0  144415\n",
       "10         F9        0.0   97267\n",
       "12         G4        0.0   79792\n",
       "30         YV        0.0   77513\n",
       "24         QX        0.0   63568\n",
       "14         HA        0.0   48366"
      ]
     },
     "execution_count": 90,
     "metadata": {},
     "output_type": "execute_result"
    }
   ],
   "source": [
    "airline22DFPandas20 = airline22DFPandas2\n",
    "airline22DFPandas20 = airline22DFPandas20.loc[airline22DFPandas20['CANCELLED'] == 0] #Flights Not Cancelled per Flight Carrier\n",
    "airline22DFPandas20"
   ]
  },
  {
   "cell_type": "code",
   "execution_count": 91,
   "metadata": {},
   "outputs": [
    {
     "data": {
      "text/html": [
       "<div>\n",
       "<style scoped>\n",
       "    .dataframe tbody tr th:only-of-type {\n",
       "        vertical-align: middle;\n",
       "    }\n",
       "\n",
       "    .dataframe tbody tr th {\n",
       "        vertical-align: top;\n",
       "    }\n",
       "\n",
       "    .dataframe thead th {\n",
       "        text-align: right;\n",
       "    }\n",
       "</style>\n",
       "<table border=\"1\" class=\"dataframe\">\n",
       "  <thead>\n",
       "    <tr style=\"text-align: right;\">\n",
       "      <th></th>\n",
       "      <th>OP_CARRIER</th>\n",
       "      <th>CANCELLED</th>\n",
       "      <th>count</th>\n",
       "    </tr>\n",
       "  </thead>\n",
       "  <tbody>\n",
       "    <tr>\n",
       "      <th>3</th>\n",
       "      <td>AA</td>\n",
       "      <td>1.0</td>\n",
       "      <td>22038</td>\n",
       "    </tr>\n",
       "    <tr>\n",
       "      <th>29</th>\n",
       "      <td>WN</td>\n",
       "      <td>1.0</td>\n",
       "      <td>21321</td>\n",
       "    </tr>\n",
       "    <tr>\n",
       "      <th>33</th>\n",
       "      <td>YX</td>\n",
       "      <td>1.0</td>\n",
       "      <td>13311</td>\n",
       "    </tr>\n",
       "    <tr>\n",
       "      <th>9</th>\n",
       "      <td>DL</td>\n",
       "      <td>1.0</td>\n",
       "      <td>10913</td>\n",
       "    </tr>\n",
       "    <tr>\n",
       "      <th>23</th>\n",
       "      <td>OO</td>\n",
       "      <td>1.0</td>\n",
       "      <td>10255</td>\n",
       "    </tr>\n",
       "    <tr>\n",
       "      <th>27</th>\n",
       "      <td>UA</td>\n",
       "      <td>1.0</td>\n",
       "      <td>9264</td>\n",
       "    </tr>\n",
       "    <tr>\n",
       "      <th>7</th>\n",
       "      <td>B6</td>\n",
       "      <td>1.0</td>\n",
       "      <td>8182</td>\n",
       "    </tr>\n",
       "    <tr>\n",
       "      <th>1</th>\n",
       "      <td>9E</td>\n",
       "      <td>1.0</td>\n",
       "      <td>6838</td>\n",
       "    </tr>\n",
       "    <tr>\n",
       "      <th>21</th>\n",
       "      <td>OH</td>\n",
       "      <td>1.0</td>\n",
       "      <td>5761</td>\n",
       "    </tr>\n",
       "    <tr>\n",
       "      <th>17</th>\n",
       "      <td>MQ</td>\n",
       "      <td>1.0</td>\n",
       "      <td>4493</td>\n",
       "    </tr>\n",
       "    <tr>\n",
       "      <th>19</th>\n",
       "      <td>NK</td>\n",
       "      <td>1.0</td>\n",
       "      <td>4374</td>\n",
       "    </tr>\n",
       "    <tr>\n",
       "      <th>5</th>\n",
       "      <td>AS</td>\n",
       "      <td>1.0</td>\n",
       "      <td>3872</td>\n",
       "    </tr>\n",
       "    <tr>\n",
       "      <th>31</th>\n",
       "      <td>YV</td>\n",
       "      <td>1.0</td>\n",
       "      <td>3383</td>\n",
       "    </tr>\n",
       "    <tr>\n",
       "      <th>13</th>\n",
       "      <td>G4</td>\n",
       "      <td>1.0</td>\n",
       "      <td>2994</td>\n",
       "    </tr>\n",
       "    <tr>\n",
       "      <th>11</th>\n",
       "      <td>F9</td>\n",
       "      <td>1.0</td>\n",
       "      <td>2627</td>\n",
       "    </tr>\n",
       "    <tr>\n",
       "      <th>25</th>\n",
       "      <td>QX</td>\n",
       "      <td>1.0</td>\n",
       "      <td>998</td>\n",
       "    </tr>\n",
       "    <tr>\n",
       "      <th>15</th>\n",
       "      <td>HA</td>\n",
       "      <td>1.0</td>\n",
       "      <td>360</td>\n",
       "    </tr>\n",
       "  </tbody>\n",
       "</table>\n",
       "</div>"
      ],
      "text/plain": [
       "   OP_CARRIER  CANCELLED  count\n",
       "3          AA        1.0  22038\n",
       "29         WN        1.0  21321\n",
       "33         YX        1.0  13311\n",
       "9          DL        1.0  10913\n",
       "23         OO        1.0  10255\n",
       "27         UA        1.0   9264\n",
       "7          B6        1.0   8182\n",
       "1          9E        1.0   6838\n",
       "21         OH        1.0   5761\n",
       "17         MQ        1.0   4493\n",
       "19         NK        1.0   4374\n",
       "5          AS        1.0   3872\n",
       "31         YV        1.0   3383\n",
       "13         G4        1.0   2994\n",
       "11         F9        1.0   2627\n",
       "25         QX        1.0    998\n",
       "15         HA        1.0    360"
      ]
     },
     "execution_count": 91,
     "metadata": {},
     "output_type": "execute_result"
    }
   ],
   "source": [
    "airline22DFPandas21 = airline22DFPandas2\n",
    "airline22DFPandas21 = airline22DFPandas21.loc[airline22DFPandas21['CANCELLED'] == 1] #Flights Cancelled per Flight Carrier\n",
    "airline22DFPandas21"
   ]
  },
  {
   "cell_type": "markdown",
   "metadata": {},
   "source": [
    "#### Analyzing Flight Delays"
   ]
  },
  {
   "cell_type": "code",
   "execution_count": 92,
   "metadata": {},
   "outputs": [
    {
     "data": {
      "text/html": [
       "<div>\n",
       "<style scoped>\n",
       "    .dataframe tbody tr th:only-of-type {\n",
       "        vertical-align: middle;\n",
       "    }\n",
       "\n",
       "    .dataframe tbody tr th {\n",
       "        vertical-align: top;\n",
       "    }\n",
       "\n",
       "    .dataframe thead th {\n",
       "        text-align: right;\n",
       "    }\n",
       "</style>\n",
       "<table border=\"1\" class=\"dataframe\">\n",
       "  <thead>\n",
       "    <tr style=\"text-align: right;\">\n",
       "      <th></th>\n",
       "      <th>ORIGIN</th>\n",
       "      <th>DELAY</th>\n",
       "      <th>COUNT</th>\n",
       "    </tr>\n",
       "  </thead>\n",
       "  <tbody>\n",
       "    <tr>\n",
       "      <th>192</th>\n",
       "      <td>DEN</td>\n",
       "      <td>1</td>\n",
       "      <td>50795</td>\n",
       "    </tr>\n",
       "    <tr>\n",
       "      <th>45</th>\n",
       "      <td>ATL</td>\n",
       "      <td>1</td>\n",
       "      <td>42137</td>\n",
       "    </tr>\n",
       "    <tr>\n",
       "      <th>194</th>\n",
       "      <td>DFW</td>\n",
       "      <td>1</td>\n",
       "      <td>39371</td>\n",
       "    </tr>\n",
       "    <tr>\n",
       "      <th>506</th>\n",
       "      <td>ORD</td>\n",
       "      <td>1</td>\n",
       "      <td>34870</td>\n",
       "    </tr>\n",
       "    <tr>\n",
       "      <th>384</th>\n",
       "      <td>LAS</td>\n",
       "      <td>1</td>\n",
       "      <td>30403</td>\n",
       "    </tr>\n",
       "    <tr>\n",
       "      <th>...</th>\n",
       "      <td>...</td>\n",
       "      <td>...</td>\n",
       "      <td>...</td>\n",
       "    </tr>\n",
       "    <tr>\n",
       "      <th>343</th>\n",
       "      <td>ILG</td>\n",
       "      <td>0</td>\n",
       "      <td>26</td>\n",
       "    </tr>\n",
       "    <tr>\n",
       "      <th>550</th>\n",
       "      <td>PPG</td>\n",
       "      <td>0</td>\n",
       "      <td>19</td>\n",
       "    </tr>\n",
       "    <tr>\n",
       "      <th>491</th>\n",
       "      <td>OGD</td>\n",
       "      <td>0</td>\n",
       "      <td>14</td>\n",
       "    </tr>\n",
       "    <tr>\n",
       "      <th>197</th>\n",
       "      <td>DIK</td>\n",
       "      <td>0</td>\n",
       "      <td>8</td>\n",
       "    </tr>\n",
       "    <tr>\n",
       "      <th>543</th>\n",
       "      <td>PIR</td>\n",
       "      <td>0</td>\n",
       "      <td>3</td>\n",
       "    </tr>\n",
       "  </tbody>\n",
       "</table>\n",
       "<p>738 rows × 3 columns</p>\n",
       "</div>"
      ],
      "text/plain": [
       "    ORIGIN  DELAY  COUNT\n",
       "192    DEN      1  50795\n",
       "45     ATL      1  42137\n",
       "194    DFW      1  39371\n",
       "506    ORD      1  34870\n",
       "384    LAS      1  30403\n",
       "..     ...    ...    ...\n",
       "343    ILG      0     26\n",
       "550    PPG      0     19\n",
       "491    OGD      0     14\n",
       "197    DIK      0      8\n",
       "543    PIR      0      3\n",
       "\n",
       "[738 rows x 3 columns]"
      ]
     },
     "execution_count": 92,
     "metadata": {},
     "output_type": "execute_result"
    }
   ],
   "source": [
    "airline22DFPandasD1=airline22DFPandas.groupby([\"ORIGIN\", \"DELAY\"])[\"DELAY\"].count().reset_index(name=\"COUNT\") # Delay or Not Delay count from each origin\n",
    "airline22DFPandasD1 = airline22DFPandasD1.sort_values(by = ['DELAY', 'COUNT'], ascending = [False, False])\n",
    "airline22DFPandasD1"
   ]
  },
  {
   "cell_type": "code",
   "execution_count": 93,
   "metadata": {},
   "outputs": [
    {
     "data": {
      "text/html": [
       "<div>\n",
       "<style scoped>\n",
       "    .dataframe tbody tr th:only-of-type {\n",
       "        vertical-align: middle;\n",
       "    }\n",
       "\n",
       "    .dataframe tbody tr th {\n",
       "        vertical-align: top;\n",
       "    }\n",
       "\n",
       "    .dataframe thead th {\n",
       "        text-align: right;\n",
       "    }\n",
       "</style>\n",
       "<table border=\"1\" class=\"dataframe\">\n",
       "  <thead>\n",
       "    <tr style=\"text-align: right;\">\n",
       "      <th></th>\n",
       "      <th>ORIGIN</th>\n",
       "      <th>DELAY</th>\n",
       "      <th>COUNT</th>\n",
       "    </tr>\n",
       "  </thead>\n",
       "  <tbody>\n",
       "    <tr>\n",
       "      <th>192</th>\n",
       "      <td>DEN</td>\n",
       "      <td>1</td>\n",
       "      <td>50795</td>\n",
       "    </tr>\n",
       "    <tr>\n",
       "      <th>45</th>\n",
       "      <td>ATL</td>\n",
       "      <td>1</td>\n",
       "      <td>42137</td>\n",
       "    </tr>\n",
       "    <tr>\n",
       "      <th>194</th>\n",
       "      <td>DFW</td>\n",
       "      <td>1</td>\n",
       "      <td>39371</td>\n",
       "    </tr>\n",
       "    <tr>\n",
       "      <th>506</th>\n",
       "      <td>ORD</td>\n",
       "      <td>1</td>\n",
       "      <td>34870</td>\n",
       "    </tr>\n",
       "    <tr>\n",
       "      <th>384</th>\n",
       "      <td>LAS</td>\n",
       "      <td>1</td>\n",
       "      <td>30403</td>\n",
       "    </tr>\n",
       "    <tr>\n",
       "      <th>...</th>\n",
       "      <td>...</td>\n",
       "      <td>...</td>\n",
       "      <td>...</td>\n",
       "    </tr>\n",
       "    <tr>\n",
       "      <th>663</th>\n",
       "      <td>SPN</td>\n",
       "      <td>1</td>\n",
       "      <td>11</td>\n",
       "    </tr>\n",
       "    <tr>\n",
       "      <th>296</th>\n",
       "      <td>GST</td>\n",
       "      <td>1</td>\n",
       "      <td>7</td>\n",
       "    </tr>\n",
       "    <tr>\n",
       "      <th>414</th>\n",
       "      <td>LNK</td>\n",
       "      <td>1</td>\n",
       "      <td>4</td>\n",
       "    </tr>\n",
       "    <tr>\n",
       "      <th>48</th>\n",
       "      <td>ATY</td>\n",
       "      <td>1</td>\n",
       "      <td>2</td>\n",
       "    </tr>\n",
       "    <tr>\n",
       "      <th>198</th>\n",
       "      <td>DIK</td>\n",
       "      <td>1</td>\n",
       "      <td>1</td>\n",
       "    </tr>\n",
       "  </tbody>\n",
       "</table>\n",
       "<p>369 rows × 3 columns</p>\n",
       "</div>"
      ],
      "text/plain": [
       "    ORIGIN  DELAY  COUNT\n",
       "192    DEN      1  50795\n",
       "45     ATL      1  42137\n",
       "194    DFW      1  39371\n",
       "506    ORD      1  34870\n",
       "384    LAS      1  30403\n",
       "..     ...    ...    ...\n",
       "663    SPN      1     11\n",
       "296    GST      1      7\n",
       "414    LNK      1      4\n",
       "48     ATY      1      2\n",
       "198    DIK      1      1\n",
       "\n",
       "[369 rows x 3 columns]"
      ]
     },
     "execution_count": 93,
     "metadata": {},
     "output_type": "execute_result"
    }
   ],
   "source": [
    "airline22DFPandasD11 = airline22DFPandasD1.loc[airline22DFPandasD1['DELAY'] == 1] # Origin with Most number of flights with delay\n",
    "airline22DFPandasD11"
   ]
  },
  {
   "cell_type": "code",
   "execution_count": 94,
   "metadata": {},
   "outputs": [
    {
     "data": {
      "text/html": [
       "<div>\n",
       "<style scoped>\n",
       "    .dataframe tbody tr th:only-of-type {\n",
       "        vertical-align: middle;\n",
       "    }\n",
       "\n",
       "    .dataframe tbody tr th {\n",
       "        vertical-align: top;\n",
       "    }\n",
       "\n",
       "    .dataframe thead th {\n",
       "        text-align: right;\n",
       "    }\n",
       "</style>\n",
       "<table border=\"1\" class=\"dataframe\">\n",
       "  <thead>\n",
       "    <tr style=\"text-align: right;\">\n",
       "      <th></th>\n",
       "      <th>ORIGIN</th>\n",
       "      <th>DELAY</th>\n",
       "      <th>COUNT</th>\n",
       "    </tr>\n",
       "  </thead>\n",
       "  <tbody>\n",
       "    <tr>\n",
       "      <th>44</th>\n",
       "      <td>ATL</td>\n",
       "      <td>0</td>\n",
       "      <td>168989</td>\n",
       "    </tr>\n",
       "    <tr>\n",
       "      <th>193</th>\n",
       "      <td>DFW</td>\n",
       "      <td>0</td>\n",
       "      <td>146782</td>\n",
       "    </tr>\n",
       "    <tr>\n",
       "      <th>505</th>\n",
       "      <td>ORD</td>\n",
       "      <td>0</td>\n",
       "      <td>139762</td>\n",
       "    </tr>\n",
       "    <tr>\n",
       "      <th>191</th>\n",
       "      <td>DEN</td>\n",
       "      <td>0</td>\n",
       "      <td>127051</td>\n",
       "    </tr>\n",
       "    <tr>\n",
       "      <th>387</th>\n",
       "      <td>LAX</td>\n",
       "      <td>0</td>\n",
       "      <td>106081</td>\n",
       "    </tr>\n",
       "    <tr>\n",
       "      <th>...</th>\n",
       "      <td>...</td>\n",
       "      <td>...</td>\n",
       "      <td>...</td>\n",
       "    </tr>\n",
       "    <tr>\n",
       "      <th>343</th>\n",
       "      <td>ILG</td>\n",
       "      <td>0</td>\n",
       "      <td>26</td>\n",
       "    </tr>\n",
       "    <tr>\n",
       "      <th>550</th>\n",
       "      <td>PPG</td>\n",
       "      <td>0</td>\n",
       "      <td>19</td>\n",
       "    </tr>\n",
       "    <tr>\n",
       "      <th>491</th>\n",
       "      <td>OGD</td>\n",
       "      <td>0</td>\n",
       "      <td>14</td>\n",
       "    </tr>\n",
       "    <tr>\n",
       "      <th>197</th>\n",
       "      <td>DIK</td>\n",
       "      <td>0</td>\n",
       "      <td>8</td>\n",
       "    </tr>\n",
       "    <tr>\n",
       "      <th>543</th>\n",
       "      <td>PIR</td>\n",
       "      <td>0</td>\n",
       "      <td>3</td>\n",
       "    </tr>\n",
       "  </tbody>\n",
       "</table>\n",
       "<p>369 rows × 3 columns</p>\n",
       "</div>"
      ],
      "text/plain": [
       "    ORIGIN  DELAY   COUNT\n",
       "44     ATL      0  168989\n",
       "193    DFW      0  146782\n",
       "505    ORD      0  139762\n",
       "191    DEN      0  127051\n",
       "387    LAX      0  106081\n",
       "..     ...    ...     ...\n",
       "343    ILG      0      26\n",
       "550    PPG      0      19\n",
       "491    OGD      0      14\n",
       "197    DIK      0       8\n",
       "543    PIR      0       3\n",
       "\n",
       "[369 rows x 3 columns]"
      ]
     },
     "execution_count": 94,
     "metadata": {},
     "output_type": "execute_result"
    }
   ],
   "source": [
    "airline22DFPandasD10 = airline22DFPandasD1.loc[airline22DFPandasD1['DELAY'] == 0] # Origin with Most number of flights without delay\n",
    "airline22DFPandasD10"
   ]
  },
  {
   "cell_type": "code",
   "execution_count": 95,
   "metadata": {},
   "outputs": [],
   "source": [
    "airline22DFPandasD11Top10=airline22DFPandasD11.head(10)\n",
    "airline22DFPandasD10Top10= airline22DFPandasD10.head(10)"
   ]
  },
  {
   "cell_type": "code",
   "execution_count": 96,
   "metadata": {
    "scrolled": true
   },
   "outputs": [
    {
     "data": {
      "text/html": [
       "<div>\n",
       "<style scoped>\n",
       "    .dataframe tbody tr th:only-of-type {\n",
       "        vertical-align: middle;\n",
       "    }\n",
       "\n",
       "    .dataframe tbody tr th {\n",
       "        vertical-align: top;\n",
       "    }\n",
       "\n",
       "    .dataframe thead th {\n",
       "        text-align: right;\n",
       "    }\n",
       "</style>\n",
       "<table border=\"1\" class=\"dataframe\">\n",
       "  <thead>\n",
       "    <tr style=\"text-align: right;\">\n",
       "      <th></th>\n",
       "      <th>OP_CARRIER</th>\n",
       "      <th>DELAY</th>\n",
       "      <th>COUNT</th>\n",
       "    </tr>\n",
       "  </thead>\n",
       "  <tbody>\n",
       "    <tr>\n",
       "      <th>29</th>\n",
       "      <td>WN</td>\n",
       "      <td>1</td>\n",
       "      <td>241495</td>\n",
       "    </tr>\n",
       "    <tr>\n",
       "      <th>3</th>\n",
       "      <td>AA</td>\n",
       "      <td>1</td>\n",
       "      <td>120292</td>\n",
       "    </tr>\n",
       "    <tr>\n",
       "      <th>9</th>\n",
       "      <td>DL</td>\n",
       "      <td>1</td>\n",
       "      <td>100504</td>\n",
       "    </tr>\n",
       "    <tr>\n",
       "      <th>27</th>\n",
       "      <td>UA</td>\n",
       "      <td>1</td>\n",
       "      <td>82610</td>\n",
       "    </tr>\n",
       "    <tr>\n",
       "      <th>23</th>\n",
       "      <td>OO</td>\n",
       "      <td>1</td>\n",
       "      <td>77018</td>\n",
       "    </tr>\n",
       "    <tr>\n",
       "      <th>7</th>\n",
       "      <td>B6</td>\n",
       "      <td>1</td>\n",
       "      <td>57492</td>\n",
       "    </tr>\n",
       "    <tr>\n",
       "      <th>33</th>\n",
       "      <td>YX</td>\n",
       "      <td>1</td>\n",
       "      <td>38180</td>\n",
       "    </tr>\n",
       "    <tr>\n",
       "      <th>19</th>\n",
       "      <td>NK</td>\n",
       "      <td>1</td>\n",
       "      <td>34241</td>\n",
       "    </tr>\n",
       "    <tr>\n",
       "      <th>11</th>\n",
       "      <td>F9</td>\n",
       "      <td>1</td>\n",
       "      <td>29499</td>\n",
       "    </tr>\n",
       "    <tr>\n",
       "      <th>21</th>\n",
       "      <td>OH</td>\n",
       "      <td>1</td>\n",
       "      <td>28644</td>\n",
       "    </tr>\n",
       "    <tr>\n",
       "      <th>17</th>\n",
       "      <td>MQ</td>\n",
       "      <td>1</td>\n",
       "      <td>25268</td>\n",
       "    </tr>\n",
       "    <tr>\n",
       "      <th>13</th>\n",
       "      <td>G4</td>\n",
       "      <td>1</td>\n",
       "      <td>24455</td>\n",
       "    </tr>\n",
       "    <tr>\n",
       "      <th>5</th>\n",
       "      <td>AS</td>\n",
       "      <td>1</td>\n",
       "      <td>23908</td>\n",
       "    </tr>\n",
       "    <tr>\n",
       "      <th>1</th>\n",
       "      <td>9E</td>\n",
       "      <td>1</td>\n",
       "      <td>22418</td>\n",
       "    </tr>\n",
       "    <tr>\n",
       "      <th>31</th>\n",
       "      <td>YV</td>\n",
       "      <td>1</td>\n",
       "      <td>15247</td>\n",
       "    </tr>\n",
       "    <tr>\n",
       "      <th>25</th>\n",
       "      <td>QX</td>\n",
       "      <td>1</td>\n",
       "      <td>8762</td>\n",
       "    </tr>\n",
       "    <tr>\n",
       "      <th>15</th>\n",
       "      <td>HA</td>\n",
       "      <td>1</td>\n",
       "      <td>7773</td>\n",
       "    </tr>\n",
       "    <tr>\n",
       "      <th>28</th>\n",
       "      <td>WN</td>\n",
       "      <td>0</td>\n",
       "      <td>609319</td>\n",
       "    </tr>\n",
       "    <tr>\n",
       "      <th>8</th>\n",
       "      <td>DL</td>\n",
       "      <td>0</td>\n",
       "      <td>490283</td>\n",
       "    </tr>\n",
       "    <tr>\n",
       "      <th>2</th>\n",
       "      <td>AA</td>\n",
       "      <td>0</td>\n",
       "      <td>453988</td>\n",
       "    </tr>\n",
       "    <tr>\n",
       "      <th>22</th>\n",
       "      <td>OO</td>\n",
       "      <td>0</td>\n",
       "      <td>427512</td>\n",
       "    </tr>\n",
       "    <tr>\n",
       "      <th>26</th>\n",
       "      <td>UA</td>\n",
       "      <td>0</td>\n",
       "      <td>324317</td>\n",
       "    </tr>\n",
       "    <tr>\n",
       "      <th>32</th>\n",
       "      <td>YX</td>\n",
       "      <td>0</td>\n",
       "      <td>186380</td>\n",
       "    </tr>\n",
       "    <tr>\n",
       "      <th>16</th>\n",
       "      <td>MQ</td>\n",
       "      <td>0</td>\n",
       "      <td>147383</td>\n",
       "    </tr>\n",
       "    <tr>\n",
       "      <th>0</th>\n",
       "      <td>9E</td>\n",
       "      <td>0</td>\n",
       "      <td>140021</td>\n",
       "    </tr>\n",
       "    <tr>\n",
       "      <th>4</th>\n",
       "      <td>AS</td>\n",
       "      <td>0</td>\n",
       "      <td>126116</td>\n",
       "    </tr>\n",
       "    <tr>\n",
       "      <th>20</th>\n",
       "      <td>OH</td>\n",
       "      <td>0</td>\n",
       "      <td>124633</td>\n",
       "    </tr>\n",
       "    <tr>\n",
       "      <th>6</th>\n",
       "      <td>B6</td>\n",
       "      <td>0</td>\n",
       "      <td>122401</td>\n",
       "    </tr>\n",
       "    <tr>\n",
       "      <th>18</th>\n",
       "      <td>NK</td>\n",
       "      <td>0</td>\n",
       "      <td>114548</td>\n",
       "    </tr>\n",
       "    <tr>\n",
       "      <th>10</th>\n",
       "      <td>F9</td>\n",
       "      <td>0</td>\n",
       "      <td>70395</td>\n",
       "    </tr>\n",
       "    <tr>\n",
       "      <th>30</th>\n",
       "      <td>YV</td>\n",
       "      <td>0</td>\n",
       "      <td>65649</td>\n",
       "    </tr>\n",
       "    <tr>\n",
       "      <th>12</th>\n",
       "      <td>G4</td>\n",
       "      <td>0</td>\n",
       "      <td>58331</td>\n",
       "    </tr>\n",
       "    <tr>\n",
       "      <th>24</th>\n",
       "      <td>QX</td>\n",
       "      <td>0</td>\n",
       "      <td>55804</td>\n",
       "    </tr>\n",
       "    <tr>\n",
       "      <th>14</th>\n",
       "      <td>HA</td>\n",
       "      <td>0</td>\n",
       "      <td>40953</td>\n",
       "    </tr>\n",
       "  </tbody>\n",
       "</table>\n",
       "</div>"
      ],
      "text/plain": [
       "   OP_CARRIER  DELAY   COUNT\n",
       "29         WN      1  241495\n",
       "3          AA      1  120292\n",
       "9          DL      1  100504\n",
       "27         UA      1   82610\n",
       "23         OO      1   77018\n",
       "7          B6      1   57492\n",
       "33         YX      1   38180\n",
       "19         NK      1   34241\n",
       "11         F9      1   29499\n",
       "21         OH      1   28644\n",
       "17         MQ      1   25268\n",
       "13         G4      1   24455\n",
       "5          AS      1   23908\n",
       "1          9E      1   22418\n",
       "31         YV      1   15247\n",
       "25         QX      1    8762\n",
       "15         HA      1    7773\n",
       "28         WN      0  609319\n",
       "8          DL      0  490283\n",
       "2          AA      0  453988\n",
       "22         OO      0  427512\n",
       "26         UA      0  324317\n",
       "32         YX      0  186380\n",
       "16         MQ      0  147383\n",
       "0          9E      0  140021\n",
       "4          AS      0  126116\n",
       "20         OH      0  124633\n",
       "6          B6      0  122401\n",
       "18         NK      0  114548\n",
       "10         F9      0   70395\n",
       "30         YV      0   65649\n",
       "12         G4      0   58331\n",
       "24         QX      0   55804\n",
       "14         HA      0   40953"
      ]
     },
     "execution_count": 96,
     "metadata": {},
     "output_type": "execute_result"
    }
   ],
   "source": [
    "airline22DFPandasD2=airline22DFPandas.groupby([\"OP_CARRIER\", \"DELAY\"])[\"DELAY\"].count().reset_index(name=\"COUNT\") # Delay or Not Delay count from each Flight Carrier\n",
    "airline22DFPandasD2 = airline22DFPandasD2.sort_values(by = ['DELAY', 'COUNT'], ascending = [False, False])\n",
    "airline22DFPandasD2"
   ]
  },
  {
   "cell_type": "code",
   "execution_count": 97,
   "metadata": {},
   "outputs": [
    {
     "data": {
      "text/html": [
       "<div>\n",
       "<style scoped>\n",
       "    .dataframe tbody tr th:only-of-type {\n",
       "        vertical-align: middle;\n",
       "    }\n",
       "\n",
       "    .dataframe tbody tr th {\n",
       "        vertical-align: top;\n",
       "    }\n",
       "\n",
       "    .dataframe thead th {\n",
       "        text-align: right;\n",
       "    }\n",
       "</style>\n",
       "<table border=\"1\" class=\"dataframe\">\n",
       "  <thead>\n",
       "    <tr style=\"text-align: right;\">\n",
       "      <th></th>\n",
       "      <th>OP_CARRIER</th>\n",
       "      <th>DELAY</th>\n",
       "      <th>COUNT</th>\n",
       "    </tr>\n",
       "  </thead>\n",
       "  <tbody>\n",
       "    <tr>\n",
       "      <th>29</th>\n",
       "      <td>WN</td>\n",
       "      <td>1</td>\n",
       "      <td>241495</td>\n",
       "    </tr>\n",
       "    <tr>\n",
       "      <th>3</th>\n",
       "      <td>AA</td>\n",
       "      <td>1</td>\n",
       "      <td>120292</td>\n",
       "    </tr>\n",
       "    <tr>\n",
       "      <th>9</th>\n",
       "      <td>DL</td>\n",
       "      <td>1</td>\n",
       "      <td>100504</td>\n",
       "    </tr>\n",
       "    <tr>\n",
       "      <th>27</th>\n",
       "      <td>UA</td>\n",
       "      <td>1</td>\n",
       "      <td>82610</td>\n",
       "    </tr>\n",
       "    <tr>\n",
       "      <th>23</th>\n",
       "      <td>OO</td>\n",
       "      <td>1</td>\n",
       "      <td>77018</td>\n",
       "    </tr>\n",
       "    <tr>\n",
       "      <th>7</th>\n",
       "      <td>B6</td>\n",
       "      <td>1</td>\n",
       "      <td>57492</td>\n",
       "    </tr>\n",
       "    <tr>\n",
       "      <th>33</th>\n",
       "      <td>YX</td>\n",
       "      <td>1</td>\n",
       "      <td>38180</td>\n",
       "    </tr>\n",
       "    <tr>\n",
       "      <th>19</th>\n",
       "      <td>NK</td>\n",
       "      <td>1</td>\n",
       "      <td>34241</td>\n",
       "    </tr>\n",
       "    <tr>\n",
       "      <th>11</th>\n",
       "      <td>F9</td>\n",
       "      <td>1</td>\n",
       "      <td>29499</td>\n",
       "    </tr>\n",
       "    <tr>\n",
       "      <th>21</th>\n",
       "      <td>OH</td>\n",
       "      <td>1</td>\n",
       "      <td>28644</td>\n",
       "    </tr>\n",
       "    <tr>\n",
       "      <th>17</th>\n",
       "      <td>MQ</td>\n",
       "      <td>1</td>\n",
       "      <td>25268</td>\n",
       "    </tr>\n",
       "    <tr>\n",
       "      <th>13</th>\n",
       "      <td>G4</td>\n",
       "      <td>1</td>\n",
       "      <td>24455</td>\n",
       "    </tr>\n",
       "    <tr>\n",
       "      <th>5</th>\n",
       "      <td>AS</td>\n",
       "      <td>1</td>\n",
       "      <td>23908</td>\n",
       "    </tr>\n",
       "    <tr>\n",
       "      <th>1</th>\n",
       "      <td>9E</td>\n",
       "      <td>1</td>\n",
       "      <td>22418</td>\n",
       "    </tr>\n",
       "    <tr>\n",
       "      <th>31</th>\n",
       "      <td>YV</td>\n",
       "      <td>1</td>\n",
       "      <td>15247</td>\n",
       "    </tr>\n",
       "    <tr>\n",
       "      <th>25</th>\n",
       "      <td>QX</td>\n",
       "      <td>1</td>\n",
       "      <td>8762</td>\n",
       "    </tr>\n",
       "    <tr>\n",
       "      <th>15</th>\n",
       "      <td>HA</td>\n",
       "      <td>1</td>\n",
       "      <td>7773</td>\n",
       "    </tr>\n",
       "  </tbody>\n",
       "</table>\n",
       "</div>"
      ],
      "text/plain": [
       "   OP_CARRIER  DELAY   COUNT\n",
       "29         WN      1  241495\n",
       "3          AA      1  120292\n",
       "9          DL      1  100504\n",
       "27         UA      1   82610\n",
       "23         OO      1   77018\n",
       "7          B6      1   57492\n",
       "33         YX      1   38180\n",
       "19         NK      1   34241\n",
       "11         F9      1   29499\n",
       "21         OH      1   28644\n",
       "17         MQ      1   25268\n",
       "13         G4      1   24455\n",
       "5          AS      1   23908\n",
       "1          9E      1   22418\n",
       "31         YV      1   15247\n",
       "25         QX      1    8762\n",
       "15         HA      1    7773"
      ]
     },
     "execution_count": 97,
     "metadata": {},
     "output_type": "execute_result"
    }
   ],
   "source": [
    "airline22DFPandasD21 = airline22DFPandasD2.loc[airline22DFPandasD2['DELAY'] == 1] # Carrier with Most number of flights delay\n",
    "airline22DFPandasD21"
   ]
  },
  {
   "cell_type": "code",
   "execution_count": 98,
   "metadata": {
    "scrolled": true
   },
   "outputs": [
    {
     "data": {
      "text/html": [
       "<div>\n",
       "<style scoped>\n",
       "    .dataframe tbody tr th:only-of-type {\n",
       "        vertical-align: middle;\n",
       "    }\n",
       "\n",
       "    .dataframe tbody tr th {\n",
       "        vertical-align: top;\n",
       "    }\n",
       "\n",
       "    .dataframe thead th {\n",
       "        text-align: right;\n",
       "    }\n",
       "</style>\n",
       "<table border=\"1\" class=\"dataframe\">\n",
       "  <thead>\n",
       "    <tr style=\"text-align: right;\">\n",
       "      <th></th>\n",
       "      <th>OP_CARRIER</th>\n",
       "      <th>DELAY</th>\n",
       "      <th>COUNT</th>\n",
       "    </tr>\n",
       "  </thead>\n",
       "  <tbody>\n",
       "    <tr>\n",
       "      <th>28</th>\n",
       "      <td>WN</td>\n",
       "      <td>0</td>\n",
       "      <td>609319</td>\n",
       "    </tr>\n",
       "    <tr>\n",
       "      <th>8</th>\n",
       "      <td>DL</td>\n",
       "      <td>0</td>\n",
       "      <td>490283</td>\n",
       "    </tr>\n",
       "    <tr>\n",
       "      <th>2</th>\n",
       "      <td>AA</td>\n",
       "      <td>0</td>\n",
       "      <td>453988</td>\n",
       "    </tr>\n",
       "    <tr>\n",
       "      <th>22</th>\n",
       "      <td>OO</td>\n",
       "      <td>0</td>\n",
       "      <td>427512</td>\n",
       "    </tr>\n",
       "    <tr>\n",
       "      <th>26</th>\n",
       "      <td>UA</td>\n",
       "      <td>0</td>\n",
       "      <td>324317</td>\n",
       "    </tr>\n",
       "    <tr>\n",
       "      <th>32</th>\n",
       "      <td>YX</td>\n",
       "      <td>0</td>\n",
       "      <td>186380</td>\n",
       "    </tr>\n",
       "    <tr>\n",
       "      <th>16</th>\n",
       "      <td>MQ</td>\n",
       "      <td>0</td>\n",
       "      <td>147383</td>\n",
       "    </tr>\n",
       "    <tr>\n",
       "      <th>0</th>\n",
       "      <td>9E</td>\n",
       "      <td>0</td>\n",
       "      <td>140021</td>\n",
       "    </tr>\n",
       "    <tr>\n",
       "      <th>4</th>\n",
       "      <td>AS</td>\n",
       "      <td>0</td>\n",
       "      <td>126116</td>\n",
       "    </tr>\n",
       "    <tr>\n",
       "      <th>20</th>\n",
       "      <td>OH</td>\n",
       "      <td>0</td>\n",
       "      <td>124633</td>\n",
       "    </tr>\n",
       "    <tr>\n",
       "      <th>6</th>\n",
       "      <td>B6</td>\n",
       "      <td>0</td>\n",
       "      <td>122401</td>\n",
       "    </tr>\n",
       "    <tr>\n",
       "      <th>18</th>\n",
       "      <td>NK</td>\n",
       "      <td>0</td>\n",
       "      <td>114548</td>\n",
       "    </tr>\n",
       "    <tr>\n",
       "      <th>10</th>\n",
       "      <td>F9</td>\n",
       "      <td>0</td>\n",
       "      <td>70395</td>\n",
       "    </tr>\n",
       "    <tr>\n",
       "      <th>30</th>\n",
       "      <td>YV</td>\n",
       "      <td>0</td>\n",
       "      <td>65649</td>\n",
       "    </tr>\n",
       "    <tr>\n",
       "      <th>12</th>\n",
       "      <td>G4</td>\n",
       "      <td>0</td>\n",
       "      <td>58331</td>\n",
       "    </tr>\n",
       "    <tr>\n",
       "      <th>24</th>\n",
       "      <td>QX</td>\n",
       "      <td>0</td>\n",
       "      <td>55804</td>\n",
       "    </tr>\n",
       "    <tr>\n",
       "      <th>14</th>\n",
       "      <td>HA</td>\n",
       "      <td>0</td>\n",
       "      <td>40953</td>\n",
       "    </tr>\n",
       "  </tbody>\n",
       "</table>\n",
       "</div>"
      ],
      "text/plain": [
       "   OP_CARRIER  DELAY   COUNT\n",
       "28         WN      0  609319\n",
       "8          DL      0  490283\n",
       "2          AA      0  453988\n",
       "22         OO      0  427512\n",
       "26         UA      0  324317\n",
       "32         YX      0  186380\n",
       "16         MQ      0  147383\n",
       "0          9E      0  140021\n",
       "4          AS      0  126116\n",
       "20         OH      0  124633\n",
       "6          B6      0  122401\n",
       "18         NK      0  114548\n",
       "10         F9      0   70395\n",
       "30         YV      0   65649\n",
       "12         G4      0   58331\n",
       "24         QX      0   55804\n",
       "14         HA      0   40953"
      ]
     },
     "execution_count": 98,
     "metadata": {},
     "output_type": "execute_result"
    }
   ],
   "source": [
    "airline22DFPandasD20 = airline22DFPandasD2.loc[airline22DFPandasD2['DELAY'] == 0] # Carrier with Most number of flights without delay\n",
    "airline22DFPandasD20"
   ]
  },
  {
   "cell_type": "code",
   "execution_count": 99,
   "metadata": {},
   "outputs": [],
   "source": [
    "airline22DFPandasD21Top10=airline22DFPandasD21.head(10)\n",
    "airline22DFPandasD20Top10= airline22DFPandasD20.head(10)"
   ]
  },
  {
   "cell_type": "code",
   "execution_count": 100,
   "metadata": {},
   "outputs": [
    {
     "data": {
      "image/png": "[encoded data removed]",
      "text/plain": [
       "<Figure size 432x288 with 1 Axes>"
      ]
     },
     "metadata": {
      "needs_background": "light"
     },
     "output_type": "display_data"
    }
   ],
   "source": [
    "sns.barplot(x=\"OP_CARRIER\", y=\"COUNT\", data=airline22DFPandasD21Top10,ci=0).set_title(\"COUNT FOR FLIGHTS PER CARRIER WITH DELAY\")\n",
    "mp.xticks(rotation=90)\n",
    "sns.set(rc = {'figure.figsize':(12,5)})"
   ]
  },
  {
   "cell_type": "code",
   "execution_count": 101,
   "metadata": {},
   "outputs": [
    {
     "data": {
      "image/png": "[encoded data removed]",
      "text/plain": [
       "<Figure size 864x360 with 1 Axes>"
      ]
     },
     "metadata": {},
     "output_type": "display_data"
    }
   ],
   "source": [
    "g = sns.barplot(x=\"OP_CARRIER\", y=\"COUNT\", data=airline22DFPandasD20Top10,ci=0).set_title(\"COUNT FOR FLIGHTS PER CARRIER WITHOUT DELAY\")\n",
    "mp.xticks(rotation=90)\n",
    "sns.set(rc = {'figure.figsize':(12,5)})"
   ]
  },
  {
   "cell_type": "code",
   "execution_count": 102,
   "metadata": {},
   "outputs": [
    {
     "data": {
      "text/plain": [
       "(array([ 0,  1,  2,  3,  4,  5,  6,  7,  8,  9, 10, 11, 12, 13, 14, 15, 16]),\n",
       " [Text(0, 0, 'DL'),\n",
       "  Text(1, 0, 'F9'),\n",
       "  Text(2, 0, 'G4'),\n",
       "  Text(3, 0, 'HA'),\n",
       "  Text(4, 0, 'MQ'),\n",
       "  Text(5, 0, 'NK'),\n",
       "  Text(6, 0, 'OH'),\n",
       "  Text(7, 0, '9E'),\n",
       "  Text(8, 0, 'AA'),\n",
       "  Text(9, 0, 'AS'),\n",
       "  Text(10, 0, 'B6'),\n",
       "  Text(11, 0, 'YX'),\n",
       "  Text(12, 0, 'OO'),\n",
       "  Text(13, 0, 'UA'),\n",
       "  Text(14, 0, 'YV'),\n",
       "  Text(15, 0, 'QX'),\n",
       "  Text(16, 0, 'WN')])"
      ]
     },
     "execution_count": 102,
     "metadata": {},
     "output_type": "execute_result"
    },
    {
     "data": {
      "image/png": "[encoded data removed]",
      "text/plain": [
       "<Figure size 864x360 with 1 Axes>"
      ]
     },
     "metadata": {},
     "output_type": "display_data"
    }
   ],
   "source": [
    "sns.countplot(x=\"OP_CARRIER\", hue=\"DELAY\", data=airline22DFPandas).set_title(\"FLIGHT CARRIER PERFORMANCE\")\n",
    "sns.set(rc = {'figure.figsize':(16,8)})\n",
    "mp.xticks(rotation=90)"
   ]
  },
  {
   "cell_type": "code",
   "execution_count": 103,
   "metadata": {},
   "outputs": [],
   "source": [
    "orAr = ['PHX', 'LGA', 'LAS', 'SEA', 'LAX', 'CLT', 'ORD', 'DEN', 'DFW', 'ATL', 'MCO', 'DCA', 'JFK', 'BOS', 'SFO']"
   ]
  },
  {
   "cell_type": "code",
   "execution_count": 104,
   "metadata": {},
   "outputs": [],
   "source": [
    "airline22DFPandasOr = airline22DFPandas.loc[airline22DFPandas['ORIGIN'].isin(orAr)]"
   ]
  },
  {
   "cell_type": "code",
   "execution_count": 105,
   "metadata": {},
   "outputs": [
    {
     "data": {
      "text/plain": [
       "(array([ 0,  1,  2,  3,  4,  5,  6,  7,  8,  9, 10, 11, 12, 13, 14]),\n",
       " [Text(0, 0, 'ATL'),\n",
       "  Text(1, 0, 'LGA'),\n",
       "  Text(2, 0, 'BOS'),\n",
       "  Text(3, 0, 'SEA'),\n",
       "  Text(4, 0, 'MCO'),\n",
       "  Text(5, 0, 'CLT'),\n",
       "  Text(6, 0, 'JFK'),\n",
       "  Text(7, 0, 'LAS'),\n",
       "  Text(8, 0, 'DCA'),\n",
       "  Text(9, 0, 'LAX'),\n",
       "  Text(10, 0, 'DFW'),\n",
       "  Text(11, 0, 'ORD'),\n",
       "  Text(12, 0, 'PHX'),\n",
       "  Text(13, 0, 'DEN'),\n",
       "  Text(14, 0, 'SFO')])"
      ]
     },
     "execution_count": 105,
     "metadata": {},
     "output_type": "execute_result"
    },
    {
     "data": {
      "image/png": "[encoded data removed]",
      "text/plain": [
       "<Figure size 1152x576 with 1 Axes>"
      ]
     },
     "metadata": {},
     "output_type": "display_data"
    }
   ],
   "source": [
    "sns.countplot(x=\"ORIGIN\", hue=\"DELAY\", data=airline22DFPandasOr).set_title(\"FLIGHT PERFORMANCE FROM SOURCE OF ORIGIN\")\n",
    "sns.set(rc = {'figure.figsize':(16,8)})\n",
    "mp.xticks(rotation=90)"
   ]
  },
  {
   "cell_type": "code",
   "execution_count": null,
   "metadata": {},
   "outputs": [],
   "source": []
  },
  {
   "cell_type": "code",
   "execution_count": null,
   "metadata": {},
   "outputs": [],
   "source": []
  },
  {
   "cell_type": "markdown",
   "metadata": {},
   "source": [
    "### Finding Count of Delayed Flights utilizing Pyspark"
   ]
  },
  {
   "cell_type": "code",
   "execution_count": 106,
   "metadata": {},
   "outputs": [],
   "source": [
    "airline22DFNew = airline22DF.withColumn('TargetDel', (airline22DF.DEP_DELAY_NEW >= 15).cast('integer')) "
   ]
  },
  {
   "cell_type": "code",
   "execution_count": 107,
   "metadata": {},
   "outputs": [
    {
     "name": "stdout",
     "output_type": "stream",
     "text": [
      "+---------+-------+\n",
      "|TargetDel|  count|\n",
      "+---------+-------+\n",
      "|     null| 127851|\n",
      "|        1| 969441|\n",
      "|        0|3398547|\n",
      "+---------+-------+\n",
      "\n"
     ]
    }
   ],
   "source": [
    "airline22DFNew.groupby(\"TargetDel\").count().show()"
   ]
  },
  {
   "cell_type": "code",
   "execution_count": 108,
   "metadata": {},
   "outputs": [],
   "source": [
    "airline22DFNew1 = airline22DFNew\n",
    "airline22DFNew10 = airline22DFNew1.filter(\"CANCELLED == 0\")                   \n",
    "airline22DFNew11 = airline22DFNew1.filter(\"CANCELLED == 1\")                       "
   ]
  },
  {
   "cell_type": "code",
   "execution_count": 109,
   "metadata": {},
   "outputs": [
    {
     "name": "stdout",
     "output_type": "stream",
     "text": [
      "+---------+-------+\n",
      "|TargetDel|  count|\n",
      "+---------+-------+\n",
      "|        1| 967677|\n",
      "|        0|3397178|\n",
      "+---------+-------+\n",
      "\n"
     ]
    }
   ],
   "source": [
    "airline22DFNew10.groupby(\"TargetDel\").count().show()"
   ]
  },
  {
   "cell_type": "code",
   "execution_count": 110,
   "metadata": {},
   "outputs": [
    {
     "name": "stdout",
     "output_type": "stream",
     "text": [
      "+---------+------+\n",
      "|TargetDel| count|\n",
      "+---------+------+\n",
      "|     null|127851|\n",
      "|        1|  1764|\n",
      "|        0|  1369|\n",
      "+---------+------+\n",
      "\n"
     ]
    }
   ],
   "source": [
    "airline22DFNew11.groupby(\"TargetDel\").count().show()"
   ]
  },
  {
   "cell_type": "markdown",
   "metadata": {},
   "source": [
    "##### **All Null Values are for the flights which had been cancelled."
   ]
  },
  {
   "cell_type": "code",
   "execution_count": null,
   "metadata": {},
   "outputs": [],
   "source": []
  },
  {
   "cell_type": "code",
   "execution_count": null,
   "metadata": {},
   "outputs": [],
   "source": []
  },
  {
   "cell_type": "markdown",
   "metadata": {},
   "source": [
    "# Machine Learning Model"
   ]
  },
  {
   "cell_type": "code",
   "execution_count": 14,
   "metadata": {},
   "outputs": [
    {
     "name": "stdout",
     "output_type": "stream",
     "text": [
      "root\n",
      " |-- MONTH: integer (nullable = true)\n",
      " |-- DAY_OF_MONTH: integer (nullable = true)\n",
      " |-- DAY_OF_WEEK: integer (nullable = true)\n",
      " |-- OP_CARRIER: string (nullable = true)\n",
      " |-- ORIGIN: string (nullable = true)\n",
      " |-- ORIGIN_STATE_ABR: string (nullable = true)\n",
      " |-- DEST: string (nullable = true)\n",
      " |-- DEST_STATE_ABR: string (nullable = true)\n",
      " |-- CRS_DEP_TIME: integer (nullable = true)\n",
      " |-- DEP_TIME: integer (nullable = true)\n",
      " |-- DEP_DELAY_NEW: double (nullable = true)\n",
      " |-- CRS_ARR_TIME: integer (nullable = true)\n",
      " |-- ARR_TIME: integer (nullable = true)\n",
      " |-- ARR_DELAY_NEW: double (nullable = true)\n",
      " |-- CANCELLED: double (nullable = true)\n",
      " |-- CANCELLATION_CODE: string (nullable = true)\n",
      " |-- DISTANCE: double (nullable = true)\n",
      " |-- CARRIER_DELAY: double (nullable = true)\n",
      " |-- WEATHER_DELAY: double (nullable = true)\n",
      " |-- NAS_DELAY: double (nullable = true)\n",
      " |-- SECURITY_DELAY: double (nullable = true)\n",
      " |-- LATE_AIRCRAFT_DELAY: double (nullable = true)\n",
      "\n"
     ]
    }
   ],
   "source": [
    "airline22DFM = spark.read.csv('2022*.csv',sep=',',header=True,inferSchema=True,nullValue='NA')\n",
    "airline22DFM.printSchema()"
   ]
  },
  {
   "cell_type": "code",
   "execution_count": 15,
   "metadata": {},
   "outputs": [],
   "source": [
    "airline22DFMD =  airline22DFM.drop('CANCELLATION_CODE') #Removing Unwanted Column"
   ]
  },
  {
   "cell_type": "code",
   "execution_count": 16,
   "metadata": {},
   "outputs": [
    {
     "name": "stdout",
     "output_type": "stream",
     "text": [
      "root\n",
      " |-- MONTH: integer (nullable = true)\n",
      " |-- DAY_OF_MONTH: integer (nullable = true)\n",
      " |-- DAY_OF_WEEK: integer (nullable = true)\n",
      " |-- OP_CARRIER: string (nullable = true)\n",
      " |-- ORIGIN: string (nullable = true)\n",
      " |-- ORIGIN_STATE_ABR: string (nullable = true)\n",
      " |-- DEST: string (nullable = true)\n",
      " |-- DEST_STATE_ABR: string (nullable = true)\n",
      " |-- CRS_DEP_TIME: integer (nullable = true)\n",
      " |-- DEP_TIME: integer (nullable = true)\n",
      " |-- DEP_DELAY_NEW: double (nullable = true)\n",
      " |-- CRS_ARR_TIME: integer (nullable = true)\n",
      " |-- ARR_TIME: integer (nullable = true)\n",
      " |-- ARR_DELAY_NEW: double (nullable = true)\n",
      " |-- CANCELLED: double (nullable = true)\n",
      " |-- DISTANCE: double (nullable = true)\n",
      " |-- CARRIER_DELAY: double (nullable = true)\n",
      " |-- WEATHER_DELAY: double (nullable = true)\n",
      " |-- NAS_DELAY: double (nullable = true)\n",
      " |-- SECURITY_DELAY: double (nullable = true)\n",
      " |-- LATE_AIRCRAFT_DELAY: double (nullable = true)\n",
      "\n"
     ]
    }
   ],
   "source": [
    "airline22DFMD.printSchema()"
   ]
  },
  {
   "cell_type": "code",
   "execution_count": 17,
   "metadata": {},
   "outputs": [
    {
     "name": "stdout",
     "output_type": "stream",
     "text": [
      "root\n",
      " |-- MONTH: integer (nullable = true)\n",
      " |-- DAY_OF_MONTH: integer (nullable = true)\n",
      " |-- DAY_OF_WEEK: integer (nullable = true)\n",
      " |-- OP_CARRIER: string (nullable = true)\n",
      " |-- ORIGIN: string (nullable = true)\n",
      " |-- ORIGIN_STATE_ABR: string (nullable = true)\n",
      " |-- DEST: string (nullable = true)\n",
      " |-- DEST_STATE_ABR: string (nullable = true)\n",
      " |-- CRS_DEP_TIME: integer (nullable = true)\n",
      " |-- DEP_TIME: integer (nullable = true)\n",
      " |-- DEP_DELAY_NEW: double (nullable = true)\n",
      " |-- CRS_ARR_TIME: integer (nullable = true)\n",
      " |-- ARR_TIME: integer (nullable = true)\n",
      " |-- ARR_DELAY_NEW: double (nullable = true)\n",
      " |-- CANCELLED: double (nullable = true)\n",
      " |-- DISTANCE: double (nullable = true)\n",
      " |-- CARRIER_DELAY: double (nullable = true)\n",
      " |-- WEATHER_DELAY: double (nullable = true)\n",
      " |-- NAS_DELAY: double (nullable = true)\n",
      " |-- SECURITY_DELAY: double (nullable = true)\n",
      " |-- LATE_AIRCRAFT_DELAY: double (nullable = true)\n",
      "\n"
     ]
    }
   ],
   "source": [
    "airline22DFMDN = airline22DFMD.na.drop(subset=\"DEP_DELAY_NEW\")\n",
    "airline22DFMDN.printSchema()"
   ]
  },
  {
   "cell_type": "code",
   "execution_count": 20,
   "metadata": {},
   "outputs": [],
   "source": [
    "newTUDF1 = udf(lambda z: convertTimeDay(z))"
   ]
  },
  {
   "cell_type": "code",
   "execution_count": 21,
   "metadata": {},
   "outputs": [],
   "source": [
    "newTUDF2 = udf(lambda x: delayCheck(x))"
   ]
  },
  {
   "cell_type": "code",
   "execution_count": 22,
   "metadata": {},
   "outputs": [],
   "source": [
    "airline22DFMDN1 = airline22DFMDN.withColumn(\"DEPPARTOFDAY\", newTUDF1(col(\"CRS_DEP_TIME\")))"
   ]
  },
  {
   "cell_type": "code",
   "execution_count": 23,
   "metadata": {},
   "outputs": [],
   "source": [
    "airline22DFMDN1 = airline22DFMDN1.withColumn(\"DELAYED\", newTUDF2(col(\"DEP_DELAY_NEW\")))"
   ]
  },
  {
   "cell_type": "code",
   "execution_count": 24,
   "metadata": {},
   "outputs": [
    {
     "name": "stdout",
     "output_type": "stream",
     "text": [
      "+-----+------------+-----------+----------+------+----------------+----+--------------+------------+--------+-------------+------------+--------+-------------+---------+--------+-------------+-------------+---------+--------------+-------------------+------------+-------+\n",
      "|MONTH|DAY_OF_MONTH|DAY_OF_WEEK|OP_CARRIER|ORIGIN|ORIGIN_STATE_ABR|DEST|DEST_STATE_ABR|CRS_DEP_TIME|DEP_TIME|DEP_DELAY_NEW|CRS_ARR_TIME|ARR_TIME|ARR_DELAY_NEW|CANCELLED|DISTANCE|CARRIER_DELAY|WEATHER_DELAY|NAS_DELAY|SECURITY_DELAY|LATE_AIRCRAFT_DELAY|DEPPARTOFDAY|DELAYED|\n",
      "+-----+------------+-----------+----------+------+----------------+----+--------------+------------+--------+-------------+------------+--------+-------------+---------+--------+-------------+-------------+---------+--------------+-------------------+------------+-------+\n",
      "|    7|          13|          3|        WN|   FLL|              FL| BWI|            MD|        2225|    2310|         45.0|          55|     131|         36.0|      0.0|   925.0|          0.0|          0.0|      0.0|           0.0|               36.0|     Evening|      1|\n",
      "|    7|          13|          3|        WN|   FLL|              FL| CMH|            OH|        1735|    1736|          1.0|        2015|    2000|          0.0|      0.0|   973.0|         null|         null|     null|          null|               null|   Afternoon|      0|\n",
      "|    7|          13|          3|        WN|   FLL|              FL| DAL|            TX|        1950|    2003|         13.0|        2155|    2152|          0.0|      0.0|  1108.0|         null|         null|     null|          null|               null|     Evening|      0|\n",
      "|    7|          13|          3|        WN|   FLL|              FL| DAL|            TX|         540|     536|          0.0|         735|     708|          0.0|      0.0|  1108.0|         null|         null|     null|          null|               null|     Red Eye|      0|\n",
      "|    7|          13|          3|        WN|   FLL|              FL| DCA|            VA|        2020|    2032|         12.0|        2255|    2253|          0.0|      0.0|   899.0|         null|         null|     null|          null|               null|     Evening|      0|\n",
      "|    7|          13|          3|        WN|   FLL|              FL| DCA|            VA|        1145|    1142|          0.0|        1420|    1408|          0.0|      0.0|   899.0|         null|         null|     null|          null|               null|     Morning|      0|\n",
      "|    7|          13|          3|        WN|   FLL|              FL| HOU|            TX|        1555|    1625|         30.0|        1750|    1756|          6.0|      0.0|   957.0|         null|         null|     null|          null|               null|   Afternoon|      1|\n",
      "|    7|          13|          3|        WN|   FLL|              FL| HOU|            TX|         710|     707|          0.0|         850|     838|          0.0|      0.0|   957.0|         null|         null|     null|          null|               null|     Morning|      0|\n",
      "|    7|          13|          3|        WN|   FLL|              FL| HOU|            TX|        2000|    2022|         22.0|        2145|    2153|          8.0|      0.0|   957.0|         null|         null|     null|          null|               null|     Evening|      1|\n",
      "|    7|          13|          3|        WN|   FLL|              FL| IND|            IN|        1630|    1634|          4.0|        1920|    1929|          9.0|      0.0|  1005.0|         null|         null|     null|          null|               null|   Afternoon|      0|\n",
      "|    7|          13|          3|        WN|   FLL|              FL| MCI|            MO|        1030|    1024|          0.0|        1245|    1228|          0.0|      0.0|  1242.0|         null|         null|     null|          null|               null|     Morning|      0|\n",
      "|    7|          13|          3|        WN|   FLL|              FL| MCO|            FL|        1955|    2155|        120.0|        2105|    2310|        125.0|      0.0|   177.0|        120.0|          0.0|      5.0|           0.0|                0.0|     Evening|      1|\n",
      "|    7|          13|          3|        WN|   FLL|              FL| MCO|            FL|        1035|    1032|          0.0|        1145|    1150|          5.0|      0.0|   177.0|         null|         null|     null|          null|               null|     Morning|      0|\n",
      "|    7|          13|          3|        WN|   FLL|              FL| MDW|            IL|        1015|    1015|          0.0|        1220|    1213|          0.0|      0.0|  1167.0|         null|         null|     null|          null|               null|     Morning|      0|\n",
      "|    7|          13|          3|        WN|   FLL|              FL| MDW|            IL|        1945|    2040|         55.0|        2155|    2235|         40.0|      0.0|  1167.0|          1.0|          0.0|      0.0|           0.0|               39.0|     Evening|      1|\n",
      "|    7|          13|          3|        WN|   FLL|              FL| MDW|            IL|         530|     527|          0.0|         735|     719|          0.0|      0.0|  1167.0|         null|         null|     null|          null|               null|     Red Eye|      0|\n",
      "|    7|          13|          3|        WN|   FLL|              FL| MSY|            LA|         605|     559|          0.0|         710|     650|          0.0|      0.0|   674.0|         null|         null|     null|          null|               null|     Morning|      0|\n",
      "|    7|          13|          3|        WN|   FLL|              FL| MSY|            LA|        1845|    1851|          6.0|        1950|    1954|          4.0|      0.0|   674.0|         null|         null|     null|          null|               null|     Evening|      0|\n",
      "|    7|          13|          3|        WN|   FLL|              FL| ORD|            IL|        1155|    1209|         14.0|        1415|    1433|         18.0|      0.0|  1182.0|         14.0|          0.0|      4.0|           0.0|                0.0|     Morning|      0|\n",
      "|    7|          13|          3|        WN|   FLL|              FL| PIT|            PA|        1740|    1739|          0.0|        2020|    2009|          0.0|      0.0|   994.0|         null|         null|     null|          null|               null|   Afternoon|      0|\n",
      "+-----+------------+-----------+----------+------+----------------+----+--------------+------------+--------+-------------+------------+--------+-------------+---------+--------+-------------+-------------+---------+--------------+-------------------+------------+-------+\n",
      "only showing top 20 rows\n",
      "\n"
     ]
    }
   ],
   "source": [
    "airline22DFMDN1.show()"
   ]
  },
  {
   "cell_type": "code",
   "execution_count": 25,
   "metadata": {},
   "outputs": [
    {
     "name": "stdout",
     "output_type": "stream",
     "text": [
      "+------------+-------------+------------+-------+\n",
      "|CRS_DEP_TIME|DEP_DELAY_NEW|DEPPARTOFDAY|DELAYED|\n",
      "+------------+-------------+------------+-------+\n",
      "|        2225|         45.0|     Evening|      1|\n",
      "|        1735|          1.0|   Afternoon|      0|\n",
      "|        1950|         13.0|     Evening|      0|\n",
      "|         540|          0.0|     Red Eye|      0|\n",
      "|        2020|         12.0|     Evening|      0|\n",
      "|        1145|          0.0|     Morning|      0|\n",
      "|        1555|         30.0|   Afternoon|      1|\n",
      "|         710|          0.0|     Morning|      0|\n",
      "|        2000|         22.0|     Evening|      1|\n",
      "|        1630|          4.0|   Afternoon|      0|\n",
      "|        1030|          0.0|     Morning|      0|\n",
      "|        1955|        120.0|     Evening|      1|\n",
      "|        1035|          0.0|     Morning|      0|\n",
      "|        1015|          0.0|     Morning|      0|\n",
      "|        1945|         55.0|     Evening|      1|\n",
      "|         530|          0.0|     Red Eye|      0|\n",
      "|         605|          0.0|     Morning|      0|\n",
      "|        1845|          6.0|     Evening|      0|\n",
      "|        1155|         14.0|     Morning|      0|\n",
      "|        1740|          0.0|   Afternoon|      0|\n",
      "+------------+-------------+------------+-------+\n",
      "only showing top 20 rows\n",
      "\n"
     ]
    }
   ],
   "source": [
    "airline22DFMDN1[['CRS_DEP_TIME','DEP_DELAY_NEW','DEPPARTOFDAY','DELAYED']].show() #Ensuring UDFs are functioning as intended"
   ]
  },
  {
   "cell_type": "code",
   "execution_count": 26,
   "metadata": {},
   "outputs": [
    {
     "name": "stdout",
     "output_type": "stream",
     "text": [
      "+-------+-------+\n",
      "|DELAYED|  count|\n",
      "+-------+-------+\n",
      "|      0|3430182|\n",
      "|      1| 937806|\n",
      "+-------+-------+\n",
      "\n"
     ]
    }
   ],
   "source": [
    "airline22DFMDN1.groupby(\"DELAYED\").count().show()"
   ]
  },
  {
   "cell_type": "code",
   "execution_count": 27,
   "metadata": {},
   "outputs": [
    {
     "name": "stdout",
     "output_type": "stream",
     "text": [
      "root\n",
      " |-- MONTH: integer (nullable = true)\n",
      " |-- DAY_OF_MONTH: integer (nullable = true)\n",
      " |-- DAY_OF_WEEK: integer (nullable = true)\n",
      " |-- OP_CARRIER: string (nullable = true)\n",
      " |-- ORIGIN: string (nullable = true)\n",
      " |-- ORIGIN_STATE_ABR: string (nullable = true)\n",
      " |-- DEST: string (nullable = true)\n",
      " |-- DEST_STATE_ABR: string (nullable = true)\n",
      " |-- CRS_DEP_TIME: integer (nullable = true)\n",
      " |-- DEP_TIME: integer (nullable = true)\n",
      " |-- DEP_DELAY_NEW: double (nullable = true)\n",
      " |-- CRS_ARR_TIME: integer (nullable = true)\n",
      " |-- ARR_TIME: integer (nullable = true)\n",
      " |-- ARR_DELAY_NEW: double (nullable = true)\n",
      " |-- CANCELLED: double (nullable = true)\n",
      " |-- DISTANCE: double (nullable = true)\n",
      " |-- CARRIER_DELAY: double (nullable = true)\n",
      " |-- WEATHER_DELAY: double (nullable = true)\n",
      " |-- NAS_DELAY: double (nullable = true)\n",
      " |-- SECURITY_DELAY: double (nullable = true)\n",
      " |-- LATE_AIRCRAFT_DELAY: double (nullable = true)\n",
      " |-- DEPPARTOFDAY: string (nullable = true)\n",
      " |-- DELAYED: string (nullable = true)\n",
      "\n"
     ]
    }
   ],
   "source": [
    "airline22DFMDN1.printSchema()"
   ]
  },
  {
   "cell_type": "code",
   "execution_count": 28,
   "metadata": {},
   "outputs": [],
   "source": [
    "airline22DFMDN1 = airline22DFMDN1.withColumn(\"DELAYED\",airline22DFMDN1.DELAYED.cast(IntegerType()))"
   ]
  },
  {
   "cell_type": "code",
   "execution_count": 29,
   "metadata": {},
   "outputs": [
    {
     "name": "stdout",
     "output_type": "stream",
     "text": [
      "root\n",
      " |-- MONTH: integer (nullable = true)\n",
      " |-- DAY_OF_MONTH: integer (nullable = true)\n",
      " |-- DAY_OF_WEEK: integer (nullable = true)\n",
      " |-- OP_CARRIER: string (nullable = true)\n",
      " |-- ORIGIN: string (nullable = true)\n",
      " |-- ORIGIN_STATE_ABR: string (nullable = true)\n",
      " |-- DEST: string (nullable = true)\n",
      " |-- DEST_STATE_ABR: string (nullable = true)\n",
      " |-- CRS_DEP_TIME: integer (nullable = true)\n",
      " |-- DEP_TIME: integer (nullable = true)\n",
      " |-- DEP_DELAY_NEW: double (nullable = true)\n",
      " |-- CRS_ARR_TIME: integer (nullable = true)\n",
      " |-- ARR_TIME: integer (nullable = true)\n",
      " |-- ARR_DELAY_NEW: double (nullable = true)\n",
      " |-- CANCELLED: double (nullable = true)\n",
      " |-- DISTANCE: double (nullable = true)\n",
      " |-- CARRIER_DELAY: double (nullable = true)\n",
      " |-- WEATHER_DELAY: double (nullable = true)\n",
      " |-- NAS_DELAY: double (nullable = true)\n",
      " |-- SECURITY_DELAY: double (nullable = true)\n",
      " |-- LATE_AIRCRAFT_DELAY: double (nullable = true)\n",
      " |-- DEPPARTOFDAY: string (nullable = true)\n",
      " |-- DELAYED: integer (nullable = true)\n",
      "\n"
     ]
    }
   ],
   "source": [
    "airline22DFMDN1.printSchema()"
   ]
  },
  {
   "cell_type": "code",
   "execution_count": 30,
   "metadata": {},
   "outputs": [
    {
     "name": "stdout",
     "output_type": "stream",
     "text": [
      "+------------+-------------+------------+-------+\n",
      "|CRS_DEP_TIME|DEP_DELAY_NEW|DEPPARTOFDAY|DELAYED|\n",
      "+------------+-------------+------------+-------+\n",
      "|        2225|         45.0|     Evening|      1|\n",
      "|        1735|          1.0|   Afternoon|      0|\n",
      "|        1950|         13.0|     Evening|      0|\n",
      "|         540|          0.0|     Red Eye|      0|\n",
      "|        2020|         12.0|     Evening|      0|\n",
      "|        1145|          0.0|     Morning|      0|\n",
      "|        1555|         30.0|   Afternoon|      1|\n",
      "|         710|          0.0|     Morning|      0|\n",
      "|        2000|         22.0|     Evening|      1|\n",
      "|        1630|          4.0|   Afternoon|      0|\n",
      "|        1030|          0.0|     Morning|      0|\n",
      "|        1955|        120.0|     Evening|      1|\n",
      "|        1035|          0.0|     Morning|      0|\n",
      "|        1015|          0.0|     Morning|      0|\n",
      "|        1945|         55.0|     Evening|      1|\n",
      "|         530|          0.0|     Red Eye|      0|\n",
      "|         605|          0.0|     Morning|      0|\n",
      "|        1845|          6.0|     Evening|      0|\n",
      "|        1155|         14.0|     Morning|      0|\n",
      "|        1740|          0.0|   Afternoon|      0|\n",
      "+------------+-------------+------------+-------+\n",
      "only showing top 20 rows\n",
      "\n"
     ]
    }
   ],
   "source": [
    "airline22DFMDN1[['CRS_DEP_TIME','DEP_DELAY_NEW','DEPPARTOFDAY','DELAYED']].show() #Ensuring UDFs are functioning as intended"
   ]
  },
  {
   "cell_type": "code",
   "execution_count": 31,
   "metadata": {},
   "outputs": [],
   "source": [
    "airlineModel = airline22DFMDN1.drop('CRS_DEP_TIME')\n",
    "airlineModel = airlineModel.drop('DEP_TIME')\n",
    "airlineModel = airlineModel.drop('CRS_ARR_TIME')\n",
    "airlineModel = airlineModel.drop('ARR_TIME')\n",
    "airlineModel = airlineModel.drop('DEP_DELAY_NEW')\n",
    "airlineModel = airlineModel.drop('ARR_DELAY_NEW')\n",
    "airlineModel = airlineModel.drop('CARRIER_DELAY')\n",
    "airlineModel = airlineModel.drop('WEATHER_DELAY')\n",
    "airlineModel = airlineModel.drop('NAS_DELAY')\n",
    "airlineModel = airlineModel.drop('SECURITY_DELAY')\n",
    "airlineModel = airlineModel.drop('LATE_AIRCRAFT_DELAY')"
   ]
  },
  {
   "cell_type": "code",
   "execution_count": 32,
   "metadata": {},
   "outputs": [
    {
     "name": "stdout",
     "output_type": "stream",
     "text": [
      "root\n",
      " |-- MONTH: integer (nullable = true)\n",
      " |-- DAY_OF_MONTH: integer (nullable = true)\n",
      " |-- DAY_OF_WEEK: integer (nullable = true)\n",
      " |-- OP_CARRIER: string (nullable = true)\n",
      " |-- ORIGIN: string (nullable = true)\n",
      " |-- ORIGIN_STATE_ABR: string (nullable = true)\n",
      " |-- DEST: string (nullable = true)\n",
      " |-- DEST_STATE_ABR: string (nullable = true)\n",
      " |-- CANCELLED: double (nullable = true)\n",
      " |-- DISTANCE: double (nullable = true)\n",
      " |-- DEPPARTOFDAY: string (nullable = true)\n",
      " |-- DELAYED: integer (nullable = true)\n",
      "\n"
     ]
    }
   ],
   "source": [
    "airlineModel.printSchema()"
   ]
  },
  {
   "cell_type": "code",
   "execution_count": 33,
   "metadata": {},
   "outputs": [],
   "source": [
    "airlineModel = airlineModel.withColumn(\"DISTANCE\",airlineModel[\"DISTANCE\"].cast(FloatType()))"
   ]
  },
  {
   "cell_type": "code",
   "execution_count": 34,
   "metadata": {
    "scrolled": true
   },
   "outputs": [
    {
     "name": "stdout",
     "output_type": "stream",
     "text": [
      "root\n",
      " |-- MONTH: integer (nullable = true)\n",
      " |-- DAY_OF_MONTH: integer (nullable = true)\n",
      " |-- DAY_OF_WEEK: integer (nullable = true)\n",
      " |-- OP_CARRIER: string (nullable = true)\n",
      " |-- ORIGIN: string (nullable = true)\n",
      " |-- ORIGIN_STATE_ABR: string (nullable = true)\n",
      " |-- DEST: string (nullable = true)\n",
      " |-- DEST_STATE_ABR: string (nullable = true)\n",
      " |-- CANCELLED: double (nullable = true)\n",
      " |-- DISTANCE: float (nullable = true)\n",
      " |-- DEPPARTOFDAY: string (nullable = true)\n",
      " |-- DELAYED: integer (nullable = true)\n",
      "\n"
     ]
    }
   ],
   "source": [
    "airlineModel.printSchema()"
   ]
  },
  {
   "cell_type": "code",
   "execution_count": 35,
   "metadata": {},
   "outputs": [],
   "source": [
    "airlineModelN = airlineModel.drop('DEST')\n",
    "airlineModelN = airlineModelN.drop('DEST_STATE_ABR')"
   ]
  },
  {
   "cell_type": "code",
   "execution_count": 36,
   "metadata": {},
   "outputs": [
    {
     "name": "stdout",
     "output_type": "stream",
     "text": [
      "root\n",
      " |-- MONTH: integer (nullable = true)\n",
      " |-- DAY_OF_MONTH: integer (nullable = true)\n",
      " |-- DAY_OF_WEEK: integer (nullable = true)\n",
      " |-- OP_CARRIER: string (nullable = true)\n",
      " |-- ORIGIN: string (nullable = true)\n",
      " |-- ORIGIN_STATE_ABR: string (nullable = true)\n",
      " |-- CANCELLED: double (nullable = true)\n",
      " |-- DISTANCE: float (nullable = true)\n",
      " |-- DEPPARTOFDAY: string (nullable = true)\n",
      " |-- DELAYED: integer (nullable = true)\n",
      "\n"
     ]
    }
   ],
   "source": [
    "airlineModelN.printSchema()"
   ]
  },
  {
   "cell_type": "code",
   "execution_count": 37,
   "metadata": {},
   "outputs": [],
   "source": [
    "airlineModelInd = StringIndexer().setInputCol (\"OP_CARRIER\").setOutputCol (\"OP_CARRIER_INDEX\").fit(airlineModelN).transform(airlineModelN)"
   ]
  },
  {
   "cell_type": "code",
   "execution_count": 38,
   "metadata": {},
   "outputs": [],
   "source": [
    "airlineModelInd = StringIndexer().setInputCol (\"ORIGIN\").setOutputCol (\"ORIGIN_INDEX\").fit(airlineModelInd).transform(airlineModelInd)"
   ]
  },
  {
   "cell_type": "code",
   "execution_count": 39,
   "metadata": {},
   "outputs": [],
   "source": [
    "airlineModelInd = StringIndexer().setInputCol (\"DEPPARTOFDAY\").setOutputCol (\"DEPPARTOFDAY_INDEX\").fit(airlineModelInd).transform(airlineModelInd)"
   ]
  },
  {
   "cell_type": "code",
   "execution_count": 40,
   "metadata": {},
   "outputs": [],
   "source": [
    "airlineModelInd = StringIndexer().setInputCol (\"ORIGIN_STATE_ABR\").setOutputCol (\"ORIGIN_STATE_ABR_INDEX\").fit(airlineModelInd).transform(airlineModelInd)"
   ]
  },
  {
   "cell_type": "code",
   "execution_count": 41,
   "metadata": {},
   "outputs": [
    {
     "name": "stdout",
     "output_type": "stream",
     "text": [
      "+-----+------------+-----------+----------+------+----------------+---------+--------+------------+-------+----------------+------------+------------------+----------------------+\n",
      "|MONTH|DAY_OF_MONTH|DAY_OF_WEEK|OP_CARRIER|ORIGIN|ORIGIN_STATE_ABR|CANCELLED|DISTANCE|DEPPARTOFDAY|DELAYED|OP_CARRIER_INDEX|ORIGIN_INDEX|DEPPARTOFDAY_INDEX|ORIGIN_STATE_ABR_INDEX|\n",
      "+-----+------------+-----------+----------+------+----------------+---------+--------+------------+-------+----------------+------------+------------------+----------------------+\n",
      "|    7|          13|          3|        WN|   FLL|              FL|      0.0|   925.0|     Evening|      1|             0.0|        23.0|               2.0|                   2.0|\n",
      "|    7|          13|          3|        WN|   FLL|              FL|      0.0|   973.0|   Afternoon|      0|             0.0|        23.0|               1.0|                   2.0|\n",
      "|    7|          13|          3|        WN|   FLL|              FL|      0.0|  1108.0|     Evening|      0|             0.0|        23.0|               2.0|                   2.0|\n",
      "|    7|          13|          3|        WN|   FLL|              FL|      0.0|  1108.0|     Red Eye|      0|             0.0|        23.0|               3.0|                   2.0|\n",
      "|    7|          13|          3|        WN|   FLL|              FL|      0.0|   899.0|     Evening|      0|             0.0|        23.0|               2.0|                   2.0|\n",
      "|    7|          13|          3|        WN|   FLL|              FL|      0.0|   899.0|     Morning|      0|             0.0|        23.0|               0.0|                   2.0|\n",
      "|    7|          13|          3|        WN|   FLL|              FL|      0.0|   957.0|   Afternoon|      1|             0.0|        23.0|               1.0|                   2.0|\n",
      "|    7|          13|          3|        WN|   FLL|              FL|      0.0|   957.0|     Morning|      0|             0.0|        23.0|               0.0|                   2.0|\n",
      "|    7|          13|          3|        WN|   FLL|              FL|      0.0|   957.0|     Evening|      1|             0.0|        23.0|               2.0|                   2.0|\n",
      "|    7|          13|          3|        WN|   FLL|              FL|      0.0|  1005.0|   Afternoon|      0|             0.0|        23.0|               1.0|                   2.0|\n",
      "|    7|          13|          3|        WN|   FLL|              FL|      0.0|  1242.0|     Morning|      0|             0.0|        23.0|               0.0|                   2.0|\n",
      "|    7|          13|          3|        WN|   FLL|              FL|      0.0|   177.0|     Evening|      1|             0.0|        23.0|               2.0|                   2.0|\n",
      "|    7|          13|          3|        WN|   FLL|              FL|      0.0|   177.0|     Morning|      0|             0.0|        23.0|               0.0|                   2.0|\n",
      "|    7|          13|          3|        WN|   FLL|              FL|      0.0|  1167.0|     Morning|      0|             0.0|        23.0|               0.0|                   2.0|\n",
      "|    7|          13|          3|        WN|   FLL|              FL|      0.0|  1167.0|     Evening|      1|             0.0|        23.0|               2.0|                   2.0|\n",
      "|    7|          13|          3|        WN|   FLL|              FL|      0.0|  1167.0|     Red Eye|      0|             0.0|        23.0|               3.0|                   2.0|\n",
      "|    7|          13|          3|        WN|   FLL|              FL|      0.0|   674.0|     Morning|      0|             0.0|        23.0|               0.0|                   2.0|\n",
      "|    7|          13|          3|        WN|   FLL|              FL|      0.0|   674.0|     Evening|      0|             0.0|        23.0|               2.0|                   2.0|\n",
      "|    7|          13|          3|        WN|   FLL|              FL|      0.0|  1182.0|     Morning|      0|             0.0|        23.0|               0.0|                   2.0|\n",
      "|    7|          13|          3|        WN|   FLL|              FL|      0.0|   994.0|   Afternoon|      0|             0.0|        23.0|               1.0|                   2.0|\n",
      "+-----+------------+-----------+----------+------+----------------+---------+--------+------------+-------+----------------+------------+------------------+----------------------+\n",
      "only showing top 20 rows\n",
      "\n"
     ]
    }
   ],
   "source": [
    "airlineModelInd.show()"
   ]
  },
  {
   "cell_type": "code",
   "execution_count": 42,
   "metadata": {},
   "outputs": [],
   "source": [
    "airlineModelIndEnc = OneHotEncoderEstimator().setInputCols ([\"OP_CARRIER_INDEX\"]).setOutputCols ([\"OP_CARRIER_INDEX_ENC\"]).fit(airlineModelInd).transform(airlineModelInd)"
   ]
  },
  {
   "cell_type": "code",
   "execution_count": 43,
   "metadata": {},
   "outputs": [],
   "source": [
    "airlineModelIndEnc = OneHotEncoderEstimator().setInputCols ([\"ORIGIN_INDEX\"]).setOutputCols ([\"ORIGIN_INDEX_ENC\"]).fit(airlineModelIndEnc).transform(airlineModelIndEnc)"
   ]
  },
  {
   "cell_type": "code",
   "execution_count": 44,
   "metadata": {},
   "outputs": [],
   "source": [
    "airlineModelIndEnc = OneHotEncoderEstimator().setInputCols ([\"DEPPARTOFDAY_INDEX\"]).setOutputCols ([\"DEPPARTOFDAY_INDEX_ENC\"]).fit(airlineModelIndEnc).transform(airlineModelIndEnc)"
   ]
  },
  {
   "cell_type": "code",
   "execution_count": 45,
   "metadata": {},
   "outputs": [],
   "source": [
    "airlineModelIndEnc = OneHotEncoderEstimator().setInputCols ([\"ORIGIN_STATE_ABR_INDEX\"]).setOutputCols ([\"ORIGIN_STATE_ABR_INDEX_ENC\"]).fit(airlineModelIndEnc).transform(airlineModelIndEnc)"
   ]
  },
  {
   "cell_type": "code",
   "execution_count": 46,
   "metadata": {},
   "outputs": [
    {
     "name": "stdout",
     "output_type": "stream",
     "text": [
      "+-----+------------+-----------+----------+------+----------------+---------+--------+------------+-------+----------------+------------+------------------+----------------------+--------------------+----------------+----------------------+--------------------------+\n",
      "|MONTH|DAY_OF_MONTH|DAY_OF_WEEK|OP_CARRIER|ORIGIN|ORIGIN_STATE_ABR|CANCELLED|DISTANCE|DEPPARTOFDAY|DELAYED|OP_CARRIER_INDEX|ORIGIN_INDEX|DEPPARTOFDAY_INDEX|ORIGIN_STATE_ABR_INDEX|OP_CARRIER_INDEX_ENC|ORIGIN_INDEX_ENC|DEPPARTOFDAY_INDEX_ENC|ORIGIN_STATE_ABR_INDEX_ENC|\n",
      "+-----+------------+-----------+----------+------+----------------+---------+--------+------------+-------+----------------+------------+------------------+----------------------+--------------------+----------------+----------------------+--------------------------+\n",
      "|    7|          13|          3|        WN|   FLL|              FL|      0.0|   925.0|     Evening|      1|             0.0|        23.0|               2.0|                   2.0|      (16,[0],[1.0])|(369,[23],[1.0])|         (3,[2],[1.0])|            (52,[2],[1.0])|\n",
      "|    7|          13|          3|        WN|   FLL|              FL|      0.0|   973.0|   Afternoon|      0|             0.0|        23.0|               1.0|                   2.0|      (16,[0],[1.0])|(369,[23],[1.0])|         (3,[1],[1.0])|            (52,[2],[1.0])|\n",
      "|    7|          13|          3|        WN|   FLL|              FL|      0.0|  1108.0|     Evening|      0|             0.0|        23.0|               2.0|                   2.0|      (16,[0],[1.0])|(369,[23],[1.0])|         (3,[2],[1.0])|            (52,[2],[1.0])|\n",
      "|    7|          13|          3|        WN|   FLL|              FL|      0.0|  1108.0|     Red Eye|      0|             0.0|        23.0|               3.0|                   2.0|      (16,[0],[1.0])|(369,[23],[1.0])|             (3,[],[])|            (52,[2],[1.0])|\n",
      "|    7|          13|          3|        WN|   FLL|              FL|      0.0|   899.0|     Evening|      0|             0.0|        23.0|               2.0|                   2.0|      (16,[0],[1.0])|(369,[23],[1.0])|         (3,[2],[1.0])|            (52,[2],[1.0])|\n",
      "|    7|          13|          3|        WN|   FLL|              FL|      0.0|   899.0|     Morning|      0|             0.0|        23.0|               0.0|                   2.0|      (16,[0],[1.0])|(369,[23],[1.0])|         (3,[0],[1.0])|            (52,[2],[1.0])|\n",
      "|    7|          13|          3|        WN|   FLL|              FL|      0.0|   957.0|   Afternoon|      1|             0.0|        23.0|               1.0|                   2.0|      (16,[0],[1.0])|(369,[23],[1.0])|         (3,[1],[1.0])|            (52,[2],[1.0])|\n",
      "|    7|          13|          3|        WN|   FLL|              FL|      0.0|   957.0|     Morning|      0|             0.0|        23.0|               0.0|                   2.0|      (16,[0],[1.0])|(369,[23],[1.0])|         (3,[0],[1.0])|            (52,[2],[1.0])|\n",
      "|    7|          13|          3|        WN|   FLL|              FL|      0.0|   957.0|     Evening|      1|             0.0|        23.0|               2.0|                   2.0|      (16,[0],[1.0])|(369,[23],[1.0])|         (3,[2],[1.0])|            (52,[2],[1.0])|\n",
      "|    7|          13|          3|        WN|   FLL|              FL|      0.0|  1005.0|   Afternoon|      0|             0.0|        23.0|               1.0|                   2.0|      (16,[0],[1.0])|(369,[23],[1.0])|         (3,[1],[1.0])|            (52,[2],[1.0])|\n",
      "|    7|          13|          3|        WN|   FLL|              FL|      0.0|  1242.0|     Morning|      0|             0.0|        23.0|               0.0|                   2.0|      (16,[0],[1.0])|(369,[23],[1.0])|         (3,[0],[1.0])|            (52,[2],[1.0])|\n",
      "|    7|          13|          3|        WN|   FLL|              FL|      0.0|   177.0|     Evening|      1|             0.0|        23.0|               2.0|                   2.0|      (16,[0],[1.0])|(369,[23],[1.0])|         (3,[2],[1.0])|            (52,[2],[1.0])|\n",
      "|    7|          13|          3|        WN|   FLL|              FL|      0.0|   177.0|     Morning|      0|             0.0|        23.0|               0.0|                   2.0|      (16,[0],[1.0])|(369,[23],[1.0])|         (3,[0],[1.0])|            (52,[2],[1.0])|\n",
      "|    7|          13|          3|        WN|   FLL|              FL|      0.0|  1167.0|     Morning|      0|             0.0|        23.0|               0.0|                   2.0|      (16,[0],[1.0])|(369,[23],[1.0])|         (3,[0],[1.0])|            (52,[2],[1.0])|\n",
      "|    7|          13|          3|        WN|   FLL|              FL|      0.0|  1167.0|     Evening|      1|             0.0|        23.0|               2.0|                   2.0|      (16,[0],[1.0])|(369,[23],[1.0])|         (3,[2],[1.0])|            (52,[2],[1.0])|\n",
      "|    7|          13|          3|        WN|   FLL|              FL|      0.0|  1167.0|     Red Eye|      0|             0.0|        23.0|               3.0|                   2.0|      (16,[0],[1.0])|(369,[23],[1.0])|             (3,[],[])|            (52,[2],[1.0])|\n",
      "|    7|          13|          3|        WN|   FLL|              FL|      0.0|   674.0|     Morning|      0|             0.0|        23.0|               0.0|                   2.0|      (16,[0],[1.0])|(369,[23],[1.0])|         (3,[0],[1.0])|            (52,[2],[1.0])|\n",
      "|    7|          13|          3|        WN|   FLL|              FL|      0.0|   674.0|     Evening|      0|             0.0|        23.0|               2.0|                   2.0|      (16,[0],[1.0])|(369,[23],[1.0])|         (3,[2],[1.0])|            (52,[2],[1.0])|\n",
      "|    7|          13|          3|        WN|   FLL|              FL|      0.0|  1182.0|     Morning|      0|             0.0|        23.0|               0.0|                   2.0|      (16,[0],[1.0])|(369,[23],[1.0])|         (3,[0],[1.0])|            (52,[2],[1.0])|\n",
      "|    7|          13|          3|        WN|   FLL|              FL|      0.0|   994.0|   Afternoon|      0|             0.0|        23.0|               1.0|                   2.0|      (16,[0],[1.0])|(369,[23],[1.0])|         (3,[1],[1.0])|            (52,[2],[1.0])|\n",
      "+-----+------------+-----------+----------+------+----------------+---------+--------+------------+-------+----------------+------------+------------------+----------------------+--------------------+----------------+----------------------+--------------------------+\n",
      "only showing top 20 rows\n",
      "\n"
     ]
    }
   ],
   "source": [
    "airlineModelIndEnc.show()"
   ]
  },
  {
   "cell_type": "code",
   "execution_count": 47,
   "metadata": {},
   "outputs": [
    {
     "name": "stdout",
     "output_type": "stream",
     "text": [
      "root\n",
      " |-- MONTH: integer (nullable = true)\n",
      " |-- DAY_OF_MONTH: integer (nullable = true)\n",
      " |-- DAY_OF_WEEK: integer (nullable = true)\n",
      " |-- OP_CARRIER: string (nullable = true)\n",
      " |-- ORIGIN: string (nullable = true)\n",
      " |-- ORIGIN_STATE_ABR: string (nullable = true)\n",
      " |-- CANCELLED: double (nullable = true)\n",
      " |-- DISTANCE: float (nullable = true)\n",
      " |-- DEPPARTOFDAY: string (nullable = true)\n",
      " |-- DELAYED: integer (nullable = true)\n",
      " |-- OP_CARRIER_INDEX: double (nullable = false)\n",
      " |-- ORIGIN_INDEX: double (nullable = false)\n",
      " |-- DEPPARTOFDAY_INDEX: double (nullable = false)\n",
      " |-- ORIGIN_STATE_ABR_INDEX: double (nullable = false)\n",
      " |-- OP_CARRIER_INDEX_ENC: vector (nullable = true)\n",
      " |-- ORIGIN_INDEX_ENC: vector (nullable = true)\n",
      " |-- DEPPARTOFDAY_INDEX_ENC: vector (nullable = true)\n",
      " |-- ORIGIN_STATE_ABR_INDEX_ENC: vector (nullable = true)\n",
      "\n"
     ]
    }
   ],
   "source": [
    "airlineModelIndEnc.printSchema()"
   ]
  },
  {
   "cell_type": "markdown",
   "metadata": {},
   "source": [
    "#### With Origin Airport"
   ]
  },
  {
   "cell_type": "code",
   "execution_count": 48,
   "metadata": {},
   "outputs": [],
   "source": [
    "vectAssemblerairlineModel1 = VectorAssembler()\\\n",
    "         .setInputCols ([\"MONTH\",\"DAY_OF_MONTH\",\"DAY_OF_WEEK\",\"DISTANCE\",\\\n",
    "                         \"OP_CARRIER_INDEX_ENC\",\"ORIGIN_INDEX_ENC\",\"DEPPARTOFDAY_INDEX_ENC\"])\\\n",
    "         .setOutputCol (\"VAM1\")"
   ]
  },
  {
   "cell_type": "code",
   "execution_count": 49,
   "metadata": {},
   "outputs": [],
   "source": [
    "airlineVectAssem = vectAssemblerairlineModel1.transform(airlineModelIndEnc)"
   ]
  },
  {
   "cell_type": "code",
   "execution_count": 50,
   "metadata": {},
   "outputs": [
    {
     "name": "stdout",
     "output_type": "stream",
     "text": [
      "+--------------------+\n",
      "|                VAM1|\n",
      "+--------------------+\n",
      "|(392,[0,1,2,3,4,4...|\n",
      "|(392,[0,1,2,3,4,4...|\n",
      "|(392,[0,1,2,3,4,4...|\n",
      "|(392,[0,1,2,3,4,4...|\n",
      "|(392,[0,1,2,3,4,4...|\n",
      "|(392,[0,1,2,3,4,4...|\n",
      "|(392,[0,1,2,3,4,4...|\n",
      "|(392,[0,1,2,3,4,4...|\n",
      "|(392,[0,1,2,3,4,4...|\n",
      "|(392,[0,1,2,3,4,4...|\n",
      "|(392,[0,1,2,3,4,4...|\n",
      "|(392,[0,1,2,3,4,4...|\n",
      "|(392,[0,1,2,3,4,4...|\n",
      "|(392,[0,1,2,3,4,4...|\n",
      "|(392,[0,1,2,3,4,4...|\n",
      "|(392,[0,1,2,3,4,4...|\n",
      "|(392,[0,1,2,3,4,4...|\n",
      "|(392,[0,1,2,3,4,4...|\n",
      "|(392,[0,1,2,3,4,4...|\n",
      "|(392,[0,1,2,3,4,4...|\n",
      "+--------------------+\n",
      "only showing top 20 rows\n",
      "\n"
     ]
    }
   ],
   "source": [
    "airlineVectAssem.select('VAM1').show()"
   ]
  },
  {
   "cell_type": "code",
   "execution_count": 51,
   "metadata": {},
   "outputs": [
    {
     "name": "stdout",
     "output_type": "stream",
     "text": [
      "+-----+------------+-----------+----------+------+----------------+---------+--------+------------+-------+----------------+------------+------------------+----------------------+--------------------+----------------+----------------------+--------------------------+--------------------+\n",
      "|MONTH|DAY_OF_MONTH|DAY_OF_WEEK|OP_CARRIER|ORIGIN|ORIGIN_STATE_ABR|CANCELLED|DISTANCE|DEPPARTOFDAY|DELAYED|OP_CARRIER_INDEX|ORIGIN_INDEX|DEPPARTOFDAY_INDEX|ORIGIN_STATE_ABR_INDEX|OP_CARRIER_INDEX_ENC|ORIGIN_INDEX_ENC|DEPPARTOFDAY_INDEX_ENC|ORIGIN_STATE_ABR_INDEX_ENC|                VAM1|\n",
      "+-----+------------+-----------+----------+------+----------------+---------+--------+------------+-------+----------------+------------+------------------+----------------------+--------------------+----------------+----------------------+--------------------------+--------------------+\n",
      "|    7|          13|          3|        WN|   FLL|              FL|      0.0|   925.0|     Evening|      1|             0.0|        23.0|               2.0|                   2.0|      (16,[0],[1.0])|(369,[23],[1.0])|         (3,[2],[1.0])|            (52,[2],[1.0])|(392,[0,1,2,3,4,4...|\n",
      "|    7|          13|          3|        WN|   FLL|              FL|      0.0|   973.0|   Afternoon|      0|             0.0|        23.0|               1.0|                   2.0|      (16,[0],[1.0])|(369,[23],[1.0])|         (3,[1],[1.0])|            (52,[2],[1.0])|(392,[0,1,2,3,4,4...|\n",
      "|    7|          13|          3|        WN|   FLL|              FL|      0.0|  1108.0|     Evening|      0|             0.0|        23.0|               2.0|                   2.0|      (16,[0],[1.0])|(369,[23],[1.0])|         (3,[2],[1.0])|            (52,[2],[1.0])|(392,[0,1,2,3,4,4...|\n",
      "|    7|          13|          3|        WN|   FLL|              FL|      0.0|  1108.0|     Red Eye|      0|             0.0|        23.0|               3.0|                   2.0|      (16,[0],[1.0])|(369,[23],[1.0])|             (3,[],[])|            (52,[2],[1.0])|(392,[0,1,2,3,4,4...|\n",
      "|    7|          13|          3|        WN|   FLL|              FL|      0.0|   899.0|     Evening|      0|             0.0|        23.0|               2.0|                   2.0|      (16,[0],[1.0])|(369,[23],[1.0])|         (3,[2],[1.0])|            (52,[2],[1.0])|(392,[0,1,2,3,4,4...|\n",
      "|    7|          13|          3|        WN|   FLL|              FL|      0.0|   899.0|     Morning|      0|             0.0|        23.0|               0.0|                   2.0|      (16,[0],[1.0])|(369,[23],[1.0])|         (3,[0],[1.0])|            (52,[2],[1.0])|(392,[0,1,2,3,4,4...|\n",
      "|    7|          13|          3|        WN|   FLL|              FL|      0.0|   957.0|   Afternoon|      1|             0.0|        23.0|               1.0|                   2.0|      (16,[0],[1.0])|(369,[23],[1.0])|         (3,[1],[1.0])|            (52,[2],[1.0])|(392,[0,1,2,3,4,4...|\n",
      "|    7|          13|          3|        WN|   FLL|              FL|      0.0|   957.0|     Morning|      0|             0.0|        23.0|               0.0|                   2.0|      (16,[0],[1.0])|(369,[23],[1.0])|         (3,[0],[1.0])|            (52,[2],[1.0])|(392,[0,1,2,3,4,4...|\n",
      "|    7|          13|          3|        WN|   FLL|              FL|      0.0|   957.0|     Evening|      1|             0.0|        23.0|               2.0|                   2.0|      (16,[0],[1.0])|(369,[23],[1.0])|         (3,[2],[1.0])|            (52,[2],[1.0])|(392,[0,1,2,3,4,4...|\n",
      "|    7|          13|          3|        WN|   FLL|              FL|      0.0|  1005.0|   Afternoon|      0|             0.0|        23.0|               1.0|                   2.0|      (16,[0],[1.0])|(369,[23],[1.0])|         (3,[1],[1.0])|            (52,[2],[1.0])|(392,[0,1,2,3,4,4...|\n",
      "|    7|          13|          3|        WN|   FLL|              FL|      0.0|  1242.0|     Morning|      0|             0.0|        23.0|               0.0|                   2.0|      (16,[0],[1.0])|(369,[23],[1.0])|         (3,[0],[1.0])|            (52,[2],[1.0])|(392,[0,1,2,3,4,4...|\n",
      "|    7|          13|          3|        WN|   FLL|              FL|      0.0|   177.0|     Evening|      1|             0.0|        23.0|               2.0|                   2.0|      (16,[0],[1.0])|(369,[23],[1.0])|         (3,[2],[1.0])|            (52,[2],[1.0])|(392,[0,1,2,3,4,4...|\n",
      "|    7|          13|          3|        WN|   FLL|              FL|      0.0|   177.0|     Morning|      0|             0.0|        23.0|               0.0|                   2.0|      (16,[0],[1.0])|(369,[23],[1.0])|         (3,[0],[1.0])|            (52,[2],[1.0])|(392,[0,1,2,3,4,4...|\n",
      "|    7|          13|          3|        WN|   FLL|              FL|      0.0|  1167.0|     Morning|      0|             0.0|        23.0|               0.0|                   2.0|      (16,[0],[1.0])|(369,[23],[1.0])|         (3,[0],[1.0])|            (52,[2],[1.0])|(392,[0,1,2,3,4,4...|\n",
      "|    7|          13|          3|        WN|   FLL|              FL|      0.0|  1167.0|     Evening|      1|             0.0|        23.0|               2.0|                   2.0|      (16,[0],[1.0])|(369,[23],[1.0])|         (3,[2],[1.0])|            (52,[2],[1.0])|(392,[0,1,2,3,4,4...|\n",
      "|    7|          13|          3|        WN|   FLL|              FL|      0.0|  1167.0|     Red Eye|      0|             0.0|        23.0|               3.0|                   2.0|      (16,[0],[1.0])|(369,[23],[1.0])|             (3,[],[])|            (52,[2],[1.0])|(392,[0,1,2,3,4,4...|\n",
      "|    7|          13|          3|        WN|   FLL|              FL|      0.0|   674.0|     Morning|      0|             0.0|        23.0|               0.0|                   2.0|      (16,[0],[1.0])|(369,[23],[1.0])|         (3,[0],[1.0])|            (52,[2],[1.0])|(392,[0,1,2,3,4,4...|\n",
      "|    7|          13|          3|        WN|   FLL|              FL|      0.0|   674.0|     Evening|      0|             0.0|        23.0|               2.0|                   2.0|      (16,[0],[1.0])|(369,[23],[1.0])|         (3,[2],[1.0])|            (52,[2],[1.0])|(392,[0,1,2,3,4,4...|\n",
      "|    7|          13|          3|        WN|   FLL|              FL|      0.0|  1182.0|     Morning|      0|             0.0|        23.0|               0.0|                   2.0|      (16,[0],[1.0])|(369,[23],[1.0])|         (3,[0],[1.0])|            (52,[2],[1.0])|(392,[0,1,2,3,4,4...|\n",
      "|    7|          13|          3|        WN|   FLL|              FL|      0.0|   994.0|   Afternoon|      0|             0.0|        23.0|               1.0|                   2.0|      (16,[0],[1.0])|(369,[23],[1.0])|         (3,[1],[1.0])|            (52,[2],[1.0])|(392,[0,1,2,3,4,4...|\n",
      "+-----+------------+-----------+----------+------+----------------+---------+--------+------------+-------+----------------+------------+------------------+----------------------+--------------------+----------------+----------------------+--------------------------+--------------------+\n",
      "only showing top 20 rows\n",
      "\n"
     ]
    }
   ],
   "source": [
    "airlineVectAssem.show()"
   ]
  },
  {
   "cell_type": "code",
   "execution_count": 52,
   "metadata": {},
   "outputs": [
    {
     "data": {
      "text/plain": [
       "4367988"
      ]
     },
     "execution_count": 52,
     "metadata": {},
     "output_type": "execute_result"
    }
   ],
   "source": [
    "airlineVectAssem.count()"
   ]
  },
  {
   "cell_type": "code",
   "execution_count": 53,
   "metadata": {},
   "outputs": [],
   "source": [
    "airlineVectAssemScal = StandardScaler().setInputCol (\"VAM1\").setOutputCol (\"FEATURES1\").fit(airlineVectAssem).transform(airlineVectAssem)"
   ]
  },
  {
   "cell_type": "code",
   "execution_count": 54,
   "metadata": {},
   "outputs": [],
   "source": [
    "trainA1, testA1 = airlineVectAssemScal.randomSplit([0.8,0.2],seed=123)"
   ]
  },
  {
   "cell_type": "code",
   "execution_count": 60,
   "metadata": {},
   "outputs": [
    {
     "name": "stdout",
     "output_type": "stream",
     "text": [
      "+-------+------+\n",
      "|DELAYED| count|\n",
      "+-------+------+\n",
      "|      1|187243|\n",
      "|      0|686908|\n",
      "+-------+------+\n",
      "\n"
     ]
    }
   ],
   "source": [
    "testA1.groupby(\"DELAYED\").count().show()    #select(count(\"DELAYED\")).show()"
   ]
  },
  {
   "cell_type": "markdown",
   "metadata": {},
   "source": [
    "##### Logistic Regression "
   ]
  },
  {
   "cell_type": "code",
   "execution_count": 61,
   "metadata": {},
   "outputs": [
    {
     "name": "stdout",
     "output_type": "stream",
     "text": [
      "+-------+--------------------+--------------------+----------+--------------------+\n",
      "|DELAYED|           FEATURES1|       rawPrediction|prediction|         probability|\n",
      "+-------+--------------------+--------------------+----------+--------------------+\n",
      "|      0|(392,[0,1,2,3,12,...|[2.45305984844595...|       0.0|[0.92078492386378...|\n",
      "|      0|(392,[0,1,2,3,12,...|[1.62241695435994...|       0.0|[0.83512818768593...|\n",
      "|      0|(392,[0,1,2,3,12,...|[1.62241695435994...|       0.0|[0.83512818768593...|\n",
      "|      1|(392,[0,1,2,3,12,...|[1.55757588277703...|       0.0|[0.82600523270891...|\n",
      "|      1|(392,[0,1,2,3,12,...|[1.23317202322146...|       0.0|[0.77437327027047...|\n",
      "|      0|(392,[0,1,2,3,12,...|[1.07918587352375...|       0.0|[0.74633988654502...|\n",
      "|      0|(392,[0,1,2,3,12,...|[0.94619670794711...|       0.0|[0.72034966241832...|\n",
      "|      1|(392,[0,1,2,3,12,...|[1.27002729548199...|       0.0|[0.78074742041272...|\n",
      "|      0|(392,[0,1,2,3,12,...|[1.26921148529871...|       0.0|[0.78060773731800...|\n",
      "|      0|(392,[0,1,2,3,12,...|[0.94487377251476...|       0.0|[0.72008308466169...|\n",
      "+-------+--------------------+--------------------+----------+--------------------+\n",
      "only showing top 10 rows\n",
      "\n"
     ]
    }
   ],
   "source": [
    "log1 = LogisticRegression(featuresCol = 'FEATURES1', labelCol = 'DELAYED', maxIter=5)\n",
    "logModel1 = log1.fit(trainA1)\n",
    "predModel1 = logModel1.transform(testA1)\n",
    "predModel1.select('DELAYED', 'FEATURES1',  'rawPrediction', 'prediction', 'probability').show(10)"
   ]
  },
  {
   "cell_type": "code",
   "execution_count": 62,
   "metadata": {},
   "outputs": [
    {
     "name": "stdout",
     "output_type": "stream",
     "text": [
      "Accuracy:  0.7881018268010904\n"
     ]
    }
   ],
   "source": [
    "logModelAcc1 = predModel1.filter(predModel1.DELAYED == predModel1.prediction).count()/ float(predModel1.count() )\n",
    "print(\"Accuracy: \",logModelAcc1)"
   ]
  },
  {
   "cell_type": "code",
   "execution_count": 94,
   "metadata": {
    "collapsed": true
   },
   "outputs": [
    {
     "data": {
      "image/png": "[encoded data removed]",
      "text/plain": [
       "<Figure size 432x288 with 1 Axes>"
      ]
     },
     "metadata": {
      "needs_background": "light"
     },
     "output_type": "display_data"
    },
    {
     "name": "stdout",
     "output_type": "stream",
     "text": [
      "Training set areaUnderROC: 0.6656002090069685\n"
     ]
    }
   ],
   "source": [
    "logModel1Summ = logModel1.summary\n",
    "logModel1SummRoc = logModel1Summ.roc.toPandas()\n",
    "mp.plot(logModel1SummRoc['FPR'],logModel1SummRoc['TPR'])\n",
    "mp.ylabel('False Positive Rate')\n",
    "mp.xlabel('True Positive Rate')\n",
    "mp.title('ROC Curve')\n",
    "mp.show()\n",
    "print('Training set areaUnderROC: ' + str(logModel1Summ.areaUnderROC))"
   ]
  },
  {
   "cell_type": "code",
   "execution_count": 63,
   "metadata": {},
   "outputs": [],
   "source": [
    "T1 = predModel1.select(\"DELAYED\")\n",
    "T1 = T1.toPandas()\n",
    "\n",
    "P1 = predModel1.select(\"prediction\")\n",
    "P1 = P1.toPandas()\n",
    "\n",
    "confM = confusion_matrix(T1, P1)"
   ]
  },
  {
   "cell_type": "code",
   "execution_count": 66,
   "metadata": {
    "scrolled": true
   },
   "outputs": [
    {
     "data": {
      "text/plain": [
       "Text(0.5, 1.0, 'Confusion Matrix Logistic Regression 1')"
      ]
     },
     "execution_count": 66,
     "metadata": {},
     "output_type": "execute_result"
    },
    {
     "data": {
      "image/png": "[encoded data removed]",
      "text/plain": [
       "<Figure size 360x288 with 2 Axes>"
      ]
     },
     "metadata": {
      "needs_background": "light"
     },
     "output_type": "display_data"
    }
   ],
   "source": [
    "mp.figure(figsize = (5,4))\n",
    "sns.heatmap(confM, annot=True, fmt='g')\n",
    "mp.xlabel('Predicted')\n",
    "mp.ylabel('Truth')\n",
    "mp.title('Confusion Matrix Logistic Regression 1') "
   ]
  },
  {
   "cell_type": "markdown",
   "metadata": {},
   "source": [
    "##### Random Forest "
   ]
  },
  {
   "cell_type": "code",
   "execution_count": 67,
   "metadata": {
    "scrolled": true
   },
   "outputs": [
    {
     "name": "stdout",
     "output_type": "stream",
     "text": [
      "+-------+--------------------+--------------------+----------+--------------------+\n",
      "|DELAYED|           FEATURES1|       rawPrediction|prediction|         probability|\n",
      "+-------+--------------------+--------------------+----------+--------------------+\n",
      "|      0|(392,[0,1,2,3,12,...|[15.7822643692718...|       0.0|[0.78911321846359...|\n",
      "|      0|(392,[0,1,2,3,12,...|[15.7822643692718...|       0.0|[0.78911321846359...|\n",
      "|      0|(392,[0,1,2,3,12,...|[15.7822643692718...|       0.0|[0.78911321846359...|\n",
      "|      1|(392,[0,1,2,3,12,...|[15.7822643692718...|       0.0|[0.78911321846359...|\n",
      "|      1|(392,[0,1,2,3,12,...|[15.6526530903752...|       0.0|[0.78263265451876...|\n",
      "|      0|(392,[0,1,2,3,12,...|[15.6526530903752...|       0.0|[0.78263265451876...|\n",
      "|      0|(392,[0,1,2,3,12,...|[15.6526530903752...|       0.0|[0.78263265451876...|\n",
      "|      1|(392,[0,1,2,3,12,...|[15.7822643692718...|       0.0|[0.78911321846359...|\n",
      "|      0|(392,[0,1,2,3,12,...|[15.7822643692718...|       0.0|[0.78911321846359...|\n",
      "|      0|(392,[0,1,2,3,12,...|[15.6526530903752...|       0.0|[0.78263265451876...|\n",
      "+-------+--------------------+--------------------+----------+--------------------+\n",
      "only showing top 10 rows\n",
      "\n"
     ]
    }
   ],
   "source": [
    "rand1 = RandomForestClassifier(featuresCol = 'FEATURES1', labelCol = 'DELAYED')\n",
    "randModel1 = rand1.fit(trainA1)\n",
    "predRandModel1 = randModel1.transform(testA1)\n",
    "predRandModel1.select('DELAYED', 'FEATURES1',  'rawPrediction', 'prediction', 'probability').show(10)"
   ]
  },
  {
   "cell_type": "code",
   "execution_count": 68,
   "metadata": {},
   "outputs": [
    {
     "name": "stdout",
     "output_type": "stream",
     "text": [
      "Accuracy:  0.7858001649600583\n"
     ]
    }
   ],
   "source": [
    "randModelAcc1 = predRandModel1.filter(predRandModel1.DELAYED == predRandModel1.prediction).count() / float(predRandModel1.count() )\n",
    "print(\"Accuracy: \",randModelAcc1)"
   ]
  },
  {
   "cell_type": "code",
   "execution_count": 69,
   "metadata": {},
   "outputs": [],
   "source": [
    "T2 = predRandModel1.select(\"DELAYED\")\n",
    "T2 = T2.toPandas()\n",
    "\n",
    "P2 = predRandModel1.select(\"prediction\")\n",
    "P2 = P2.toPandas()\n",
    "\n",
    "confMR = confusion_matrix(T2, P2)"
   ]
  },
  {
   "cell_type": "code",
   "execution_count": 70,
   "metadata": {},
   "outputs": [
    {
     "data": {
      "text/plain": [
       "Text(0.5, 1.0, 'Confusion Matrix Random Forest 1')"
      ]
     },
     "execution_count": 70,
     "metadata": {},
     "output_type": "execute_result"
    },
    {
     "data": {
      "image/png": "[encoded data removed]",
      "text/plain": [
       "<Figure size 360x288 with 2 Axes>"
      ]
     },
     "metadata": {
      "needs_background": "light"
     },
     "output_type": "display_data"
    }
   ],
   "source": [
    "mp.figure(figsize = (5,4))\n",
    "sns.heatmap(confMR, annot=True, fmt='g')\n",
    "mp.xlabel('Predicted')\n",
    "mp.ylabel('Truth')\n",
    "mp.title('Confusion Matrix Random Forest 1')"
   ]
  },
  {
   "cell_type": "markdown",
   "metadata": {},
   "source": [
    "##### Gradient Boosted Tree "
   ]
  },
  {
   "cell_type": "code",
   "execution_count": 71,
   "metadata": {},
   "outputs": [
    {
     "name": "stdout",
     "output_type": "stream",
     "text": [
      "+-------+--------------------+--------------------+----------+--------------------+\n",
      "|DELAYED|           FEATURES1|       rawPrediction|prediction|         probability|\n",
      "+-------+--------------------+--------------------+----------+--------------------+\n",
      "|      0|(392,[0,1,2,3,12,...|[0.84027387994830...|       0.0|[0.84297704993035...|\n",
      "|      0|(392,[0,1,2,3,12,...|[0.61470053613640...|       0.0|[0.77371373071829...|\n",
      "|      0|(392,[0,1,2,3,12,...|[0.61470053613640...|       0.0|[0.77371373071829...|\n",
      "|      1|(392,[0,1,2,3,12,...|[0.63911721132083...|       0.0|[0.78214908622328...|\n",
      "|      1|(392,[0,1,2,3,12,...|[0.52037552432200...|       0.0|[0.73899489542854...|\n",
      "|      0|(392,[0,1,2,3,12,...|[0.52037552432200...|       0.0|[0.73899489542854...|\n",
      "|      0|(392,[0,1,2,3,12,...|[0.52037552432200...|       0.0|[0.73899489542854...|\n",
      "|      1|(392,[0,1,2,3,12,...|[0.63911721132083...|       0.0|[0.78214908622328...|\n",
      "|      0|(392,[0,1,2,3,12,...|[0.63911721132083...|       0.0|[0.78214908622328...|\n",
      "|      0|(392,[0,1,2,3,12,...|[0.52037552432200...|       0.0|[0.73899489542854...|\n",
      "+-------+--------------------+--------------------+----------+--------------------+\n",
      "only showing top 10 rows\n",
      "\n"
     ]
    }
   ],
   "source": [
    "gbt1 = GBTClassifier(featuresCol = 'FEATURES1', labelCol = 'DELAYED',maxIter=10)\n",
    "gbtModel1 = gbt1.fit(trainA1)\n",
    "predgbtModel1 = gbtModel1.transform(testA1)\n",
    "predgbtModel1.select('DELAYED', 'FEATURES1',  'rawPrediction', 'prediction', 'probability').show(10)"
   ]
  },
  {
   "cell_type": "code",
   "execution_count": 72,
   "metadata": {},
   "outputs": [
    {
     "name": "stdout",
     "output_type": "stream",
     "text": [
      "Accuracy:  0.7894883149478752\n"
     ]
    }
   ],
   "source": [
    "gbtModelAcc1 = predgbtModel1.filter(predgbtModel1.DELAYED == predgbtModel1.prediction).count() / float(predgbtModel1.count() )\n",
    "print(\"Accuracy: \",gbtModelAcc1)"
   ]
  },
  {
   "cell_type": "code",
   "execution_count": 73,
   "metadata": {
    "scrolled": true
   },
   "outputs": [
    {
     "data": {
      "text/plain": [
       "Text(0.5, 1.0, 'Confusion Matrix Gradient Boosted Tree 1')"
      ]
     },
     "execution_count": 73,
     "metadata": {},
     "output_type": "execute_result"
    },
    {
     "data": {
      "image/png": "[encoded data removed]",
      "text/plain": [
       "<Figure size 360x288 with 2 Axes>"
      ]
     },
     "metadata": {
      "needs_background": "light"
     },
     "output_type": "display_data"
    }
   ],
   "source": [
    "T3 = predgbtModel1.select(\"DELAYED\")\n",
    "T3 = T3.toPandas()\n",
    "\n",
    "P3 = predgbtModel1.select(\"prediction\")\n",
    "P3 = P3.toPandas()\n",
    "\n",
    "confMGBT = confusion_matrix(T3, P3)\n",
    "\n",
    "mp.figure(figsize = (5,4))\n",
    "sns.heatmap(confMGBT, annot=True, fmt='g')\n",
    "mp.xlabel('Predicted')\n",
    "mp.ylabel('Truth')\n",
    "mp.title('Confusion Matrix Gradient Boosted Tree 1')"
   ]
  },
  {
   "cell_type": "markdown",
   "metadata": {},
   "source": [
    "##### Decision Tree "
   ]
  },
  {
   "cell_type": "code",
   "execution_count": 74,
   "metadata": {},
   "outputs": [
    {
     "name": "stdout",
     "output_type": "stream",
     "text": [
      "+-------+--------------------+--------------------+----------+--------------------+\n",
      "|DELAYED|           FEATURES1|       rawPrediction|prediction|         probability|\n",
      "+-------+--------------------+--------------------+----------+--------------------+\n",
      "|      0|(392,[0,1,2,3,12,...|[1137044.0,172946.0]|       0.0|[0.86797914487896...|\n",
      "|      0|(392,[0,1,2,3,12,...|[1303665.0,408683.0]|       0.0|[0.76133180872112...|\n",
      "|      0|(392,[0,1,2,3,12,...|[1303665.0,408683.0]|       0.0|[0.76133180872112...|\n",
      "|      1|(392,[0,1,2,3,12,...|[1303665.0,408683.0]|       0.0|[0.76133180872112...|\n",
      "|      1|(392,[0,1,2,3,12,...|[1303665.0,408683.0]|       0.0|[0.76133180872112...|\n",
      "|      0|(392,[0,1,2,3,12,...|[1303665.0,408683.0]|       0.0|[0.76133180872112...|\n",
      "|      0|(392,[0,1,2,3,12,...|[1303665.0,408683.0]|       0.0|[0.76133180872112...|\n",
      "|      1|(392,[0,1,2,3,12,...|[1303665.0,408683.0]|       0.0|[0.76133180872112...|\n",
      "|      0|(392,[0,1,2,3,12,...|[1303665.0,408683.0]|       0.0|[0.76133180872112...|\n",
      "|      0|(392,[0,1,2,3,12,...|[1303665.0,408683.0]|       0.0|[0.76133180872112...|\n",
      "+-------+--------------------+--------------------+----------+--------------------+\n",
      "only showing top 10 rows\n",
      "\n"
     ]
    }
   ],
   "source": [
    "dt1 = DecisionTreeClassifier(featuresCol = 'FEATURES1', labelCol = 'DELAYED')\n",
    "dtModel1 = dt1.fit(trainA1)\n",
    "preddtModel1 = dtModel1.transform(testA1)\n",
    "preddtModel1.select('DELAYED', 'FEATURES1',  'rawPrediction', 'prediction', 'probability').show(10)"
   ]
  },
  {
   "cell_type": "code",
   "execution_count": 75,
   "metadata": {},
   "outputs": [
    {
     "name": "stdout",
     "output_type": "stream",
     "text": [
      "Accuracy:  0.7888740046056116\n"
     ]
    }
   ],
   "source": [
    "dtModelAcc1 = preddtModel1.filter(preddtModel1.DELAYED == preddtModel1.prediction).count() / float(preddtModel1.count() )\n",
    "print(\"Accuracy: \",dtModelAcc1)"
   ]
  },
  {
   "cell_type": "code",
   "execution_count": 76,
   "metadata": {
    "scrolled": true
   },
   "outputs": [
    {
     "data": {
      "text/plain": [
       "Text(0.5, 1.0, 'Confusion Matrix Decision Tree 1')"
      ]
     },
     "execution_count": 76,
     "metadata": {},
     "output_type": "execute_result"
    },
    {
     "data": {
      "image/png": "[encoded data removed]",
      "text/plain": [
       "<Figure size 360x288 with 2 Axes>"
      ]
     },
     "metadata": {
      "needs_background": "light"
     },
     "output_type": "display_data"
    }
   ],
   "source": [
    "T4 = preddtModel1.select(\"DELAYED\")\n",
    "T4 = T4.toPandas()\n",
    "\n",
    "P4 = preddtModel1.select(\"prediction\")\n",
    "P4 = P4.toPandas()\n",
    "\n",
    "confMDT = confusion_matrix(T4, P4)\n",
    "\n",
    "mp.figure(figsize = (5,4))\n",
    "sns.heatmap(confMDT, annot=True, fmt='g')\n",
    "mp.xlabel('Predicted')\n",
    "mp.ylabel('Truth')\n",
    "mp.title('Confusion Matrix Decision Tree 1')"
   ]
  },
  {
   "cell_type": "markdown",
   "metadata": {},
   "source": [
    "##### Naive Bayes "
   ]
  },
  {
   "cell_type": "code",
   "execution_count": 77,
   "metadata": {
    "scrolled": true
   },
   "outputs": [
    {
     "name": "stdout",
     "output_type": "stream",
     "text": [
      "+-------+--------------------+--------------------+----------+--------------------+\n",
      "|DELAYED|           FEATURES1|       rawPrediction|prediction|         probability|\n",
      "+-------+--------------------+--------------------+----------+--------------------+\n",
      "|      0|(392,[0,1,2,3,12,...|[-314.24233942296...|       0.0|[0.99999999910667...|\n",
      "|      0|(392,[0,1,2,3,12,...|[-316.14728658384...|       0.0|[0.99999999572564...|\n",
      "|      0|(392,[0,1,2,3,12,...|[-316.14728658384...|       0.0|[0.99999999572564...|\n",
      "|      1|(392,[0,1,2,3,12,...|[-488.98710129907...|       0.0|[0.99965635591079...|\n",
      "|      1|(392,[0,1,2,3,12,...|[-491.08125120440...|       0.0|[0.99914914579118...|\n",
      "|      0|(392,[0,1,2,3,12,...|[-336.11496242141...|       0.0|[0.99999995461140...|\n",
      "|      0|(392,[0,1,2,3,12,...|[-73.323477372858...|       0.0|[0.87927489911781...|\n",
      "|      1|(392,[0,1,2,3,12,...|[-71.358129682142...|       0.0|[0.94729580251279...|\n",
      "|      0|(392,[0,1,2,3,12,...|[-71.541425141389...|       0.0|[0.94702465941501...|\n",
      "|      0|(392,[0,1,2,3,12,...|[-73.620713252718...|       0.0|[0.87833920564880...|\n",
      "+-------+--------------------+--------------------+----------+--------------------+\n",
      "only showing top 10 rows\n",
      "\n"
     ]
    }
   ],
   "source": [
    "nb1 = NaiveBayes(featuresCol = 'FEATURES1', labelCol = 'DELAYED',modelType=\"multinomial\")\n",
    "nbModel1 = nb1.fit(trainA1)\n",
    "prednbModel1 = nbModel1.transform(testA1)\n",
    "prednbModel1.select('DELAYED', 'FEATURES1',  'rawPrediction', 'prediction', 'probability').show(10)"
   ]
  },
  {
   "cell_type": "code",
   "execution_count": 78,
   "metadata": {},
   "outputs": [
    {
     "name": "stdout",
     "output_type": "stream",
     "text": [
      "Accuracy:  0.6328288819666168\n"
     ]
    }
   ],
   "source": [
    "nbModelAcc1 = prednbModel1.filter(prednbModel1.DELAYED == prednbModel1.prediction).count() / float(prednbModel1.count() )\n",
    "print(\"Accuracy: \",nbModelAcc1)"
   ]
  },
  {
   "cell_type": "code",
   "execution_count": 79,
   "metadata": {},
   "outputs": [
    {
     "data": {
      "text/plain": [
       "Text(0.5, 1.0, 'Confusion Matrix Naive Bayes 1')"
      ]
     },
     "execution_count": 79,
     "metadata": {},
     "output_type": "execute_result"
    },
    {
     "data": {
      "image/png": "[encoded data removed]",
      "text/plain": [
       "<Figure size 360x288 with 2 Axes>"
      ]
     },
     "metadata": {
      "needs_background": "light"
     },
     "output_type": "display_data"
    }
   ],
   "source": [
    "T5 = prednbModel1.select(\"DELAYED\")\n",
    "T5 = T5.toPandas()\n",
    "\n",
    "P5 = prednbModel1.select(\"prediction\")\n",
    "P5 = P5.toPandas()\n",
    "\n",
    "confMNB = confusion_matrix(T5, P5)\n",
    "\n",
    "mp.figure(figsize = (5,4))\n",
    "sns.heatmap(confMNB, annot=True, fmt='g')\n",
    "mp.xlabel('Predicted')\n",
    "mp.ylabel('Truth')\n",
    "mp.title('Confusion Matrix Naive Bayes 1')"
   ]
  },
  {
   "cell_type": "markdown",
   "metadata": {},
   "source": [
    "### With Origin State"
   ]
  },
  {
   "cell_type": "code",
   "execution_count": 80,
   "metadata": {},
   "outputs": [],
   "source": [
    "vectAssemblerairlineModel2 = VectorAssembler()\\\n",
    "         .setInputCols ([\"MONTH\",\"DAY_OF_MONTH\",\"DAY_OF_WEEK\",\"DISTANCE\",\\\n",
    "                         \"OP_CARRIER_INDEX_ENC\",\"ORIGIN_STATE_ABR_INDEX\",\"DEPPARTOFDAY_INDEX_ENC\"])\\\n",
    "         .setOutputCol (\"VAM2\")"
   ]
  },
  {
   "cell_type": "code",
   "execution_count": 81,
   "metadata": {},
   "outputs": [
    {
     "name": "stdout",
     "output_type": "stream",
     "text": [
      "+-------+-------+\n",
      "|DELAYED|  count|\n",
      "+-------+-------+\n",
      "|      1| 937806|\n",
      "|      0|3430182|\n",
      "+-------+-------+\n",
      "\n"
     ]
    }
   ],
   "source": [
    "airlineVectAssem.groupby(\"DELAYED\").count().show()"
   ]
  },
  {
   "cell_type": "code",
   "execution_count": 82,
   "metadata": {},
   "outputs": [],
   "source": [
    "airlineVectAssem2 = vectAssemblerairlineModel2.transform(airlineModelIndEnc)"
   ]
  },
  {
   "cell_type": "code",
   "execution_count": 83,
   "metadata": {},
   "outputs": [
    {
     "name": "stdout",
     "output_type": "stream",
     "text": [
      "+--------------------+\n",
      "|                VAM2|\n",
      "+--------------------+\n",
      "|(24,[0,1,2,3,4,20...|\n",
      "|(24,[0,1,2,3,4,20...|\n",
      "|(24,[0,1,2,3,4,20...|\n",
      "|(24,[0,1,2,3,4,20...|\n",
      "|(24,[0,1,2,3,4,20...|\n",
      "|(24,[0,1,2,3,4,20...|\n",
      "|(24,[0,1,2,3,4,20...|\n",
      "|(24,[0,1,2,3,4,20...|\n",
      "|(24,[0,1,2,3,4,20...|\n",
      "|(24,[0,1,2,3,4,20...|\n",
      "|(24,[0,1,2,3,4,20...|\n",
      "|(24,[0,1,2,3,4,20...|\n",
      "|(24,[0,1,2,3,4,20...|\n",
      "|(24,[0,1,2,3,4,20...|\n",
      "|(24,[0,1,2,3,4,20...|\n",
      "|(24,[0,1,2,3,4,20...|\n",
      "|(24,[0,1,2,3,4,20...|\n",
      "|(24,[0,1,2,3,4,20...|\n",
      "|(24,[0,1,2,3,4,20...|\n",
      "|(24,[0,1,2,3,4,20...|\n",
      "+--------------------+\n",
      "only showing top 20 rows\n",
      "\n"
     ]
    }
   ],
   "source": [
    "airlineVectAssem2.select('VAM2').show()"
   ]
  },
  {
   "cell_type": "code",
   "execution_count": 84,
   "metadata": {},
   "outputs": [],
   "source": [
    "airlineVectAssemScal2 = StandardScaler().setInputCol (\"VAM2\").setOutputCol (\"FEATURES2\").fit(airlineVectAssem2).transform(airlineVectAssem2)"
   ]
  },
  {
   "cell_type": "code",
   "execution_count": 85,
   "metadata": {},
   "outputs": [],
   "source": [
    "trainA2, testA2 = airlineVectAssemScal2.randomSplit([0.8,0.2],seed=123)"
   ]
  },
  {
   "cell_type": "markdown",
   "metadata": {},
   "source": [
    "##### Logistic Regression"
   ]
  },
  {
   "cell_type": "code",
   "execution_count": 86,
   "metadata": {},
   "outputs": [
    {
     "name": "stdout",
     "output_type": "stream",
     "text": [
      "+-------+--------------------+--------------------+----------+--------------------+\n",
      "|DELAYED|           FEATURES2|       rawPrediction|prediction|         probability|\n",
      "+-------+--------------------+--------------------+----------+--------------------+\n",
      "|      0|(24,[0,1,2,3,12,2...|[2.11699357916824...|       0.0|[0.89254392600265...|\n",
      "|      0|(24,[0,1,2,3,12,2...|[1.32571035092403...|       0.0|[0.79013019127001...|\n",
      "|      0|(24,[0,1,2,3,12,2...|[1.32571035092403...|       0.0|[0.79013019127001...|\n",
      "|      1|(24,[0,1,2,3,12,2...|[1.34265944281190...|       0.0|[0.79292694565206...|\n",
      "|      1|(24,[0,1,2,3,12,2...|[1.03183585692587...|       0.0|[0.73727166015399...|\n",
      "|      0|(24,[0,1,2,3,12,2...|[0.99174523861621...|       0.0|[0.72943250179873...|\n",
      "|      0|(24,[0,1,2,3,12,2...|[0.99324592200608...|       0.0|[0.72972857576825...|\n",
      "|      1|(24,[0,1,2,3,12,2...|[1.30341921175650...|       0.0|[0.78640986836916...|\n",
      "|      0|(24,[0,1,2,3,12,2...|[1.30249379033275...|       0.0|[0.78625438469979...|\n",
      "|      0|(24,[0,1,2,3,12,2...|[0.99174523861621...|       0.0|[0.72943250179873...|\n",
      "+-------+--------------------+--------------------+----------+--------------------+\n",
      "only showing top 10 rows\n",
      "\n"
     ]
    }
   ],
   "source": [
    "log2 = LogisticRegression(featuresCol = 'FEATURES2', labelCol = 'DELAYED', maxIter=5)\n",
    "logModel2 = log2.fit(trainA2)\n",
    "predModel2 = logModel2.transform(testA2)\n",
    "predModel2.select('DELAYED', 'FEATURES2',  'rawPrediction', 'prediction', 'probability').show(10)"
   ]
  },
  {
   "cell_type": "code",
   "execution_count": 87,
   "metadata": {},
   "outputs": [
    {
     "name": "stdout",
     "output_type": "stream",
     "text": [
      "Accuracy:  0.7858070287627652\n"
     ]
    }
   ],
   "source": [
    "logModelAcc2 = predModel2.filter(predModel2.DELAYED == predModel2.prediction).count()  / float(predModel2.count() )\n",
    "print(\"Accuracy: \",logModelAcc2)"
   ]
  },
  {
   "cell_type": "code",
   "execution_count": null,
   "metadata": {},
   "outputs": [],
   "source": [
    "logModel2Summ = logModel2.summary\n",
    "logModel2SummRoc = logModel2Summ.roc.toPandas()\n",
    "mp.plot(logModel2SummRoc['FPR'],logModel2SummRoc['TPR'])\n",
    "mp.ylabel('False Positive Rate')\n",
    "mp.xlabel('True Positive Rate')\n",
    "mp.title('ROC Curve')\n",
    "mp.show()\n",
    "print('Training set areaUnderROC: ' + str(logModel2Summ.areaUnderROC))"
   ]
  },
  {
   "cell_type": "code",
   "execution_count": 88,
   "metadata": {},
   "outputs": [
    {
     "data": {
      "text/plain": [
       "Text(0.5, 1.0, 'Confusion Matrix Logistic Regression 2')"
      ]
     },
     "execution_count": 88,
     "metadata": {},
     "output_type": "execute_result"
    },
    {
     "data": {
      "image/png": "[encoded data removed]",
      "text/plain": [
       "<Figure size 360x288 with 2 Axes>"
      ]
     },
     "metadata": {
      "needs_background": "light"
     },
     "output_type": "display_data"
    }
   ],
   "source": [
    "T11 = predModel2.select(\"DELAYED\")\n",
    "T11 = T11.toPandas()\n",
    "\n",
    "P11 = predModel2.select(\"prediction\")\n",
    "P11 = P11.toPandas()\n",
    "\n",
    "confM2 = confusion_matrix(T11, P11)\n",
    "\n",
    "mp.figure(figsize = (5,4))\n",
    "sns.heatmap(confM2, annot=True, fmt='g')\n",
    "mp.xlabel('Predicted')\n",
    "mp.ylabel('Truth')\n",
    "mp.title('Confusion Matrix Logistic Regression 2')"
   ]
  },
  {
   "cell_type": "markdown",
   "metadata": {},
   "source": [
    "##### Random Forest"
   ]
  },
  {
   "cell_type": "code",
   "execution_count": 89,
   "metadata": {},
   "outputs": [
    {
     "name": "stdout",
     "output_type": "stream",
     "text": [
      "+-------+--------------------+--------------------+----------+--------------------+\n",
      "|DELAYED|           FEATURES2|       rawPrediction|prediction|         probability|\n",
      "+-------+--------------------+--------------------+----------+--------------------+\n",
      "|      0|(24,[0,1,2,3,12,2...|[16.1450094978860...|       0.0|[0.80725047489430...|\n",
      "|      0|(24,[0,1,2,3,12,2...|[15.7721544713996...|       0.0|[0.78860772356998...|\n",
      "|      0|(24,[0,1,2,3,12,2...|[15.7721544713996...|       0.0|[0.78860772356998...|\n",
      "|      1|(24,[0,1,2,3,12,2...|[15.7721544713996...|       0.0|[0.78860772356998...|\n",
      "|      1|(24,[0,1,2,3,12,2...|[14.9984373161446...|       0.0|[0.74992186580723...|\n",
      "|      0|(24,[0,1,2,3,12,2...|[14.9984373161446...|       0.0|[0.74992186580723...|\n",
      "|      0|(24,[0,1,2,3,12,2...|[14.9984373161446...|       0.0|[0.74992186580723...|\n",
      "|      1|(24,[0,1,2,3,12,2...|[15.7721544713996...|       0.0|[0.78860772356998...|\n",
      "|      0|(24,[0,1,2,3,12,2...|[15.7721544713996...|       0.0|[0.78860772356998...|\n",
      "|      0|(24,[0,1,2,3,12,2...|[14.9984373161446...|       0.0|[0.74992186580723...|\n",
      "+-------+--------------------+--------------------+----------+--------------------+\n",
      "only showing top 10 rows\n",
      "\n"
     ]
    }
   ],
   "source": [
    "rand2 = RandomForestClassifier(featuresCol = 'FEATURES2', labelCol = 'DELAYED')\n",
    "randModel2 = rand2.fit(trainA2)\n",
    "predRandModel2 = randModel2.transform(testA2)\n",
    "predRandModel2.select('DELAYED', 'FEATURES2',  'rawPrediction', 'prediction', 'probability').show(10)"
   ]
  },
  {
   "cell_type": "code",
   "execution_count": 90,
   "metadata": {},
   "outputs": [
    {
     "name": "stdout",
     "output_type": "stream",
     "text": [
      "Accuracy:  0.7858001649600583\n"
     ]
    }
   ],
   "source": [
    "randModelAcc2 = predRandModel2.filter(predRandModel2.DELAYED == predRandModel2.prediction).count() / float(predRandModel2.count() )\n",
    "print(\"Accuracy: \",randModelAcc2)"
   ]
  },
  {
   "cell_type": "code",
   "execution_count": 91,
   "metadata": {},
   "outputs": [
    {
     "data": {
      "text/plain": [
       "Text(0.5, 1.0, 'Confusion Matrix Random Forest 2')"
      ]
     },
     "execution_count": 91,
     "metadata": {},
     "output_type": "execute_result"
    },
    {
     "data": {
      "image/png": "[encoded data removed]",
      "text/plain": [
       "<Figure size 360x288 with 2 Axes>"
      ]
     },
     "metadata": {
      "needs_background": "light"
     },
     "output_type": "display_data"
    }
   ],
   "source": [
    "T22 = predRandModel2.select(\"DELAYED\")\n",
    "T22 = T22.toPandas()\n",
    "\n",
    "P22 = predRandModel2.select(\"prediction\")\n",
    "P22 = P22.toPandas()\n",
    "\n",
    "confMR2 = confusion_matrix(T22, P22)\n",
    "\n",
    "mp.figure(figsize = (5,4))\n",
    "sns.heatmap(confMR2, annot=True, fmt='g')\n",
    "mp.xlabel('Predicted')\n",
    "mp.ylabel('Truth')\n",
    "mp.title('Confusion Matrix Random Forest 2')"
   ]
  },
  {
   "cell_type": "code",
   "execution_count": null,
   "metadata": {},
   "outputs": [],
   "source": []
  },
  {
   "cell_type": "code",
   "execution_count": null,
   "metadata": {},
   "outputs": [],
   "source": []
  },
  {
   "cell_type": "markdown",
   "metadata": {},
   "source": [
    "##### Gradient Boosted Tree"
   ]
  },
  {
   "cell_type": "code",
   "execution_count": 92,
   "metadata": {},
   "outputs": [
    {
     "name": "stdout",
     "output_type": "stream",
     "text": [
      "+-------+--------------------+--------------------+----------+--------------------+\n",
      "|DELAYED|           FEATURES2|       rawPrediction|prediction|         probability|\n",
      "+-------+--------------------+--------------------+----------+--------------------+\n",
      "|      0|(24,[0,1,2,3,12,2...|[0.83932919573858...|       0.0|[0.84272679829481...|\n",
      "|      0|(24,[0,1,2,3,12,2...|[0.55055710569374...|       0.0|[0.75046881702933...|\n",
      "|      0|(24,[0,1,2,3,12,2...|[0.55055710569374...|       0.0|[0.75046881702933...|\n",
      "|      1|(24,[0,1,2,3,12,2...|[0.59657597339916...|       0.0|[0.76730431338644...|\n",
      "|      1|(24,[0,1,2,3,12,2...|[0.47484923787317...|       0.0|[0.72105453501702...|\n",
      "|      0|(24,[0,1,2,3,12,2...|[0.47484923787317...|       0.0|[0.72105453501702...|\n",
      "|      0|(24,[0,1,2,3,12,2...|[0.47484923787317...|       0.0|[0.72105453501702...|\n",
      "|      1|(24,[0,1,2,3,12,2...|[0.59657597339916...|       0.0|[0.76730431338644...|\n",
      "|      0|(24,[0,1,2,3,12,2...|[0.59657597339916...|       0.0|[0.76730431338644...|\n",
      "|      0|(24,[0,1,2,3,12,2...|[0.47484923787317...|       0.0|[0.72105453501702...|\n",
      "+-------+--------------------+--------------------+----------+--------------------+\n",
      "only showing top 10 rows\n",
      "\n"
     ]
    }
   ],
   "source": [
    "gbt2 = GBTClassifier(featuresCol = 'FEATURES2', labelCol = 'DELAYED',maxIter=10)\n",
    "gbtModel2 = gbt2.fit(trainA2)\n",
    "predgbtModel2 = gbtModel2.transform(testA2)\n",
    "predgbtModel2.select('DELAYED', 'FEATURES2',  'rawPrediction', 'prediction', 'probability').show(10)"
   ]
  },
  {
   "cell_type": "code",
   "execution_count": 93,
   "metadata": {},
   "outputs": [
    {
     "name": "stdout",
     "output_type": "stream",
     "text": [
      "Accuracy:  0.7903028195357553\n"
     ]
    }
   ],
   "source": [
    "gbtModelAcc2 = predgbtModel2.filter(predgbtModel2.DELAYED == predgbtModel2.prediction).count() / float(predgbtModel2.count() )\n",
    "print(\"Accuracy: \",gbtModelAcc2)"
   ]
  },
  {
   "cell_type": "code",
   "execution_count": 94,
   "metadata": {
    "scrolled": true
   },
   "outputs": [
    {
     "data": {
      "text/plain": [
       "Text(0.5, 1.0, 'Confusion Matrix Gradient Boosted Tree 2')"
      ]
     },
     "execution_count": 94,
     "metadata": {},
     "output_type": "execute_result"
    },
    {
     "data": {
      "image/png": "[encoded data removed]",
      "text/plain": [
       "<Figure size 360x288 with 2 Axes>"
      ]
     },
     "metadata": {
      "needs_background": "light"
     },
     "output_type": "display_data"
    }
   ],
   "source": [
    "T33 = predgbtModel2.select(\"DELAYED\")\n",
    "T33 = T33.toPandas()\n",
    "\n",
    "P33 = predgbtModel2.select(\"prediction\")\n",
    "P33 = P33.toPandas()\n",
    "\n",
    "confMGBT2 = confusion_matrix(T33, P33)\n",
    "\n",
    "mp.figure(figsize = (5,4))\n",
    "sns.heatmap(confMGBT2, annot=True, fmt='g')\n",
    "mp.xlabel('Predicted')\n",
    "mp.ylabel('Truth')\n",
    "mp.title('Confusion Matrix Gradient Boosted Tree 2')"
   ]
  },
  {
   "cell_type": "code",
   "execution_count": null,
   "metadata": {},
   "outputs": [],
   "source": []
  },
  {
   "cell_type": "code",
   "execution_count": null,
   "metadata": {},
   "outputs": [],
   "source": []
  },
  {
   "cell_type": "markdown",
   "metadata": {},
   "source": [
    "##### Decision Tree"
   ]
  },
  {
   "cell_type": "code",
   "execution_count": 95,
   "metadata": {},
   "outputs": [
    {
     "name": "stdout",
     "output_type": "stream",
     "text": [
      "+-------+--------------------+--------------------+----------+--------------------+\n",
      "|DELAYED|           FEATURES2|       rawPrediction|prediction|         probability|\n",
      "+-------+--------------------+--------------------+----------+--------------------+\n",
      "|      0|(24,[0,1,2,3,12,2...|[1137044.0,172946.0]|       0.0|[0.86797914487896...|\n",
      "|      0|(24,[0,1,2,3,12,2...|[1303665.0,408683.0]|       0.0|[0.76133180872112...|\n",
      "|      0|(24,[0,1,2,3,12,2...|[1303665.0,408683.0]|       0.0|[0.76133180872112...|\n",
      "|      1|(24,[0,1,2,3,12,2...|[1303665.0,408683.0]|       0.0|[0.76133180872112...|\n",
      "|      1|(24,[0,1,2,3,12,2...|[1303665.0,408683.0]|       0.0|[0.76133180872112...|\n",
      "|      0|(24,[0,1,2,3,12,2...|[1303665.0,408683.0]|       0.0|[0.76133180872112...|\n",
      "|      0|(24,[0,1,2,3,12,2...|[1303665.0,408683.0]|       0.0|[0.76133180872112...|\n",
      "|      1|(24,[0,1,2,3,12,2...|[1303665.0,408683.0]|       0.0|[0.76133180872112...|\n",
      "|      0|(24,[0,1,2,3,12,2...|[1303665.0,408683.0]|       0.0|[0.76133180872112...|\n",
      "|      0|(24,[0,1,2,3,12,2...|[1303665.0,408683.0]|       0.0|[0.76133180872112...|\n",
      "+-------+--------------------+--------------------+----------+--------------------+\n",
      "only showing top 10 rows\n",
      "\n"
     ]
    }
   ],
   "source": [
    "dt2 = DecisionTreeClassifier(featuresCol = 'FEATURES2', labelCol = 'DELAYED')\n",
    "dtModel2 = dt2.fit(trainA2)\n",
    "preddtModel2 = dtModel2.transform(testA2)\n",
    "preddtModel2.select('DELAYED', 'FEATURES2',  'rawPrediction', 'prediction', 'probability').show(10)"
   ]
  },
  {
   "cell_type": "code",
   "execution_count": 96,
   "metadata": {},
   "outputs": [
    {
     "name": "stdout",
     "output_type": "stream",
     "text": [
      "Accuracy:  0.7890295841336337\n"
     ]
    }
   ],
   "source": [
    "dtModelAcc2 = preddtModel2.filter(preddtModel2.DELAYED == preddtModel2.prediction).count() / float(preddtModel2.count() )\n",
    "print(\"Accuracy: \",dtModelAcc2)"
   ]
  },
  {
   "cell_type": "code",
   "execution_count": 97,
   "metadata": {
    "scrolled": true
   },
   "outputs": [
    {
     "data": {
      "text/plain": [
       "Text(0.5, 1.0, 'Confusion Matrix Decision Tree 2')"
      ]
     },
     "execution_count": 97,
     "metadata": {},
     "output_type": "execute_result"
    },
    {
     "data": {
      "image/png": "[encoded data removed]",
      "text/plain": [
       "<Figure size 360x288 with 2 Axes>"
      ]
     },
     "metadata": {
      "needs_background": "light"
     },
     "output_type": "display_data"
    }
   ],
   "source": [
    "T44 = preddtModel2.select(\"DELAYED\")\n",
    "T44 = T44.toPandas()\n",
    "\n",
    "P44 = preddtModel2.select(\"prediction\")\n",
    "P44 = P44.toPandas()\n",
    "\n",
    "confMDT2 = confusion_matrix(T44, P4)\n",
    "\n",
    "mp.figure(figsize = (5,4))\n",
    "sns.heatmap(confMDT2, annot=True, fmt='g')\n",
    "mp.xlabel('Predicted')\n",
    "mp.ylabel('Truth')\n",
    "mp.title('Confusion Matrix Decision Tree 2')"
   ]
  },
  {
   "cell_type": "markdown",
   "metadata": {},
   "source": [
    "##### Naive Bayes"
   ]
  },
  {
   "cell_type": "code",
   "execution_count": 98,
   "metadata": {},
   "outputs": [
    {
     "name": "stdout",
     "output_type": "stream",
     "text": [
      "+-------+--------------------+--------------------+----------+--------------------+\n",
      "|DELAYED|           FEATURES2|       rawPrediction|prediction|         probability|\n",
      "+-------+--------------------+--------------------+----------+--------------------+\n",
      "|      0|(24,[0,1,2,3,12,2...|[-44.760193831755...|       0.0|[0.99371835994976...|\n",
      "|      0|(24,[0,1,2,3,12,2...|[-46.361434996846...|       0.0|[0.97134130358238...|\n",
      "|      0|(24,[0,1,2,3,12,2...|[-46.361434996846...|       0.0|[0.97134130358238...|\n",
      "|      1|(24,[0,1,2,3,12,2...|[-44.694376643268...|       0.0|[0.97239382852210...|\n",
      "|      1|(24,[0,1,2,3,12,2...|[-46.597271301253...|       0.0|[0.93524652417395...|\n",
      "|      0|(24,[0,1,2,3,12,2...|[-44.023260379161...|       0.0|[0.93073294038425...|\n",
      "|      0|(24,[0,1,2,3,12,2...|[-43.788684719406...|       0.0|[0.93096855091808...|\n",
      "|      1|(24,[0,1,2,3,12,2...|[-41.987439513980...|       0.0|[0.97044712564270...|\n",
      "|      0|(24,[0,1,2,3,12,2...|[-42.132094504163...|       0.0|[0.97038232029208...|\n",
      "|      0|(24,[0,1,2,3,12,2...|[-44.023260379161...|       0.0|[0.93073294038425...|\n",
      "+-------+--------------------+--------------------+----------+--------------------+\n",
      "only showing top 10 rows\n",
      "\n"
     ]
    }
   ],
   "source": [
    "nb2 = NaiveBayes(featuresCol = 'FEATURES2', labelCol = 'DELAYED',modelType=\"multinomial\")\n",
    "nbModel2 = nb2.fit(trainA2)\n",
    "prednbModel2 = nbModel2.transform(testA2)\n",
    "prednbModel2.select('DELAYED', 'FEATURES2',  'rawPrediction', 'prediction', 'probability').show(10)"
   ]
  },
  {
   "cell_type": "code",
   "execution_count": 99,
   "metadata": {},
   "outputs": [
    {
     "name": "stdout",
     "output_type": "stream",
     "text": [
      "Accuracy:  0.7311906066572023\n"
     ]
    }
   ],
   "source": [
    "nbModelAcc2 = prednbModel2.filter(prednbModel2.DELAYED == prednbModel2.prediction).count() / float(prednbModel2.count() )\n",
    "print(\"Accuracy: \",nbModelAcc2)"
   ]
  },
  {
   "cell_type": "code",
   "execution_count": 100,
   "metadata": {},
   "outputs": [
    {
     "data": {
      "text/plain": [
       "Text(0.5, 1.0, 'Confusion Matrix Naive Bayes 2')"
      ]
     },
     "execution_count": 100,
     "metadata": {},
     "output_type": "execute_result"
    },
    {
     "data": {
      "image/png": "[encoded data removed]",
      "text/plain": [
       "<Figure size 360x288 with 2 Axes>"
      ]
     },
     "metadata": {
      "needs_background": "light"
     },
     "output_type": "display_data"
    }
   ],
   "source": [
    "T55 = prednbModel2.select(\"DELAYED\")\n",
    "T55 = T55.toPandas()\n",
    "\n",
    "P55 = prednbModel2.select(\"prediction\")\n",
    "P55 = P55.toPandas()\n",
    "\n",
    "confMNB2 = confusion_matrix(T55, P55)\n",
    "\n",
    "mp.figure(figsize = (5,4))\n",
    "sns.heatmap(confMNB2, annot=True, fmt='g')\n",
    "mp.xlabel('Predicted')\n",
    "mp.ylabel('Truth')\n",
    "mp.title('Confusion Matrix Naive Bayes 2')"
   ]
  },
  {
   "cell_type": "code",
   "execution_count": null,
   "metadata": {},
   "outputs": [],
   "source": []
  },
  {
   "cell_type": "code",
   "execution_count": 82,
   "metadata": {},
   "outputs": [],
   "source": []
  },
  {
   "cell_type": "code",
   "execution_count": 105,
   "metadata": {},
   "outputs": [],
   "source": []
  }
 ],
 "metadata": {
  "kernelspec": {
   "display_name": "Python 3 (ipykernel)",
   "language": "python",
   "name": "python3"
  },
  "language_info": {
   "codemirror_mode": {
    "name": "ipython",
    "version": 3
   },
   "file_extension": ".py",
   "mimetype": "text/x-python",
   "name": "python",
   "nbconvert_exporter": "python",
   "pygments_lexer": "ipython3",
   "version": "3.9.12"
  }
 },
 "nbformat": 4,
 "nbformat_minor": 4
}
